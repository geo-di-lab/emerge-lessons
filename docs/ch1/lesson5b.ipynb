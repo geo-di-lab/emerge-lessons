{
  "cells": [
    {
      "cell_type": "markdown",
      "metadata": {
        "id": "vFNOQrm7TcGY"
      },
      "source": [
        "# Intro to Google Earth Engine"
      ]
    },
    {
      "cell_type": "markdown",
      "metadata": {
        "id": "X4nPlMP0gGkp"
      },
      "source": [
        "**To run the code:**\n",
        "> Make sure you have this notebook open in Google Colab (if you are starting from the digital textbook, click on the {fa}`rocket` icon and click **Colab**). Each block of code is called a cell. To run a cell, hover over it and click the arrow in the top left of the cell, or click inside of the cell and press Shift + Enter.\n",
        "\n",
        "Note: When you run a block of code for the first time, Google Colab will say `Warning: This notebook was not authored by Google`. Please click `Run Anyway`.\n",
        "\n",
        "A great feature of Google Colab is that you are able to write Python code and see the output directly on your browser. Let's go through the basics below:"
      ]
    },
    {
      "cell_type": "code",
      "execution_count": 1,
      "metadata": {
        "id": "P09PBmm3TZmr"
      },
      "outputs": [],
      "source": [
        "import ee\n",
        "\n",
        "# Authenticate Google Earth Engine\n",
        "ee.Authenticate()\n",
        "\n",
        "# Change \"emerge-lessons\" to your project ID if it is different\n",
        "ee.Initialize(project=\"emerge-lessons\")"
      ]
    },
    {
      "cell_type": "markdown",
      "metadata": {
        "id": "IfaphIsrgGkq"
      },
      "source": [
        "In the code above, change \"emerge-lessons\" to your own project ID. For example, if your ID is \"emerge-34956,\" you can change it to the following:\n",
        "```\n",
        "ee.Initialize(project=\"emerge-34956\")\n",
        "```"
      ]
    },
    {
      "cell_type": "markdown",
      "metadata": {
        "id": "nVurFjXWTix1"
      },
      "source": [
        "### Basic Terminology - Using Collections in GEE\n",
        "\n",
        "**Features** are geometric objects with a list of properties\n",
        "> ee.Feature\n",
        "\n",
        "**Images** are similar to features, but can have several bands\n",
        "\n",
        "> ee.Image\n",
        "\n",
        "**Collections** are groups of features or images\n",
        "\n",
        "> ee.FeatureCollection or ee.ImageCollection"
      ]
    },
    {
      "cell_type": "markdown",
      "metadata": {
        "id": "2qriza8MTnF1"
      },
      "source": [
        "When you go into the details of an individual dataset, you can find the snippet of how to import that specific dataset\n",
        "\n",
        "For this example, we'll be using the [MODIS Terra Land Surface Temperature (LST)](https://developers.google.com/earth-engine/datasets/catalog/MODIS_061_MOD11A1) dataset."
      ]
    },
    {
      "cell_type": "code",
      "execution_count": 2,
      "metadata": {
        "id": "RvRyuOEsTj6k"
      },
      "outputs": [],
      "source": [
        "# Import the MODIS land surface temperature collection\n",
        "lst = ee.ImageCollection('MODIS/061/MOD11A1')"
      ]
    },
    {
      "cell_type": "markdown",
      "metadata": {
        "id": "y1wdY7z7TpuO"
      },
      "source": [
        "Datasets include several sets of information across several bands, with some datasets containing daily imagery in a 1km resolution (like the MODIS LST dataset we’re using) to one image a year in a 30m resolution for others.\n",
        "\n",
        "The LST Collection uses these bands\n",
        "\n",
        "\n",
        "*   LST_Day_1km: Daytime Land Surface Temperature\n",
        "*   Day_view_time: Local time of day observation\n",
        "* LST_Night_1km: Nighttime Land Surface Temperature\n",
        "\n",
        "With so many images within the collection, we need to filter those images using dates\n",
        "\n",
        "Use either of these for filtering\n",
        "```\n",
        "filterDate()\n",
        "select()\n",
        "```"
      ]
    },
    {
      "cell_type": "code",
      "execution_count": 3,
      "metadata": {
        "id": "MyaExlEyTqBd"
      },
      "outputs": [],
      "source": [
        "# Initial date of interest (inclusive)\n",
        "i_date = '2024-01-01'\n",
        "\n",
        "# Final date of interest (exclusive)\n",
        "f_date = '2024-01-31'\n",
        "\n",
        "# Selection of appropriate bands and dates for LST\n",
        "lst = lst.select('LST_Day_1km', 'QC_Day').filterDate(i_date, f_date)"
      ]
    },
    {
      "cell_type": "markdown",
      "metadata": {
        "id": "mNKQzFZATsCF"
      },
      "source": [
        "Next, we’ll define two points of interest (POIs) in relation to what we want to look at. Since we’re looking at Land Surface Emissivity (land temp), we’ll make a comparison of the temperature in an urban area versus a rural area."
      ]
    },
    {
      "cell_type": "code",
      "execution_count": 4,
      "metadata": {
        "id": "GbbuDJnKovfW"
      },
      "outputs": [],
      "source": [
        "# Define the urban location of interest as a point near Miami, Florida\n",
        "urban_lon = -80.196432\n",
        "urban_lat = 25.779766\n",
        "urban_poi = ee.Geometry.Point(urban_lon, urban_lat)\n",
        "\n",
        "# Define the rural location of interest as a point away from the city in Homestead, Florida\n",
        "rural_lon = -80.4998113\n",
        "rural_lat = 25.3933527\n",
        "rural_poi = ee.Geometry.Point(rural_lon, rural_lat)"
      ]
    },
    {
      "cell_type": "markdown",
      "metadata": {
        "id": "A7Lg6j95o_dc"
      },
      "source": [
        "The MODIS emissivity dataset that we're using should be corrected by a scale of 0.02 to get units of Kelvin. You can find this in the [Google Earth Engine catalogue at this link](https://developers.google.com/earth-engine/datasets/catalog/MODIS_061_MOD11A1#bands).\n",
        "\n",
        "*Remember to convert your values for a final answer!*\n",
        "\n",
        "We need the average land temperature of the two POIs we're looking at, so we'll use `mean()`"
      ]
    },
    {
      "cell_type": "code",
      "execution_count": 5,
      "metadata": {
        "colab": {
          "base_uri": "https://localhost:8080/"
        },
        "id": "WzCDlvvQpKAo",
        "outputId": "e95f2b67-9fbf-4022-9538-2a33d56750af"
      },
      "outputs": [
        {
          "output_type": "stream",
          "name": "stdout",
          "text": [
            "The mean land surface temperature for the urban point is 23.15 °C\n",
            "The rural  land surface temperature for the urban point is 20.9 °C\n"
          ]
        }
      ],
      "source": [
        "# Scale in meters\n",
        "scale = 1000\n",
        "\n",
        "# Function to convert LST to Celsius and get mean LST\n",
        "def get_mean_lst(poi, scale):\n",
        "    mean_lst = lst.mean().sample(poi, scale).first().get('LST_Day_1km').getInfo()\n",
        "    return round(mean_lst * 0.02 - 273.15, 2)  # Convert to Celsius\n",
        "\n",
        "# Get mean LST for both urban and rural points\n",
        "urban_lst = get_mean_lst(urban_poi, scale)\n",
        "rural_lst = get_mean_lst(rural_poi, scale)\n",
        "\n",
        "print (\"The mean land surface temperature for the urban point is\", urban_lst, \"°C\")\n",
        "print (\"The rural  land surface temperature for the urban point is\", rural_lst, \"°C\")"
      ]
    },
    {
      "cell_type": "markdown",
      "metadata": {
        "id": "9hqDNJcpT7z7"
      },
      "source": [
        "## Interactive Maps"
      ]
    },
    {
      "cell_type": "code",
      "execution_count": 6,
      "metadata": {
        "id": "11nZQ94IT8x8"
      },
      "outputs": [],
      "source": [
        "import folium\n",
        "import geemap"
      ]
    },
    {
      "cell_type": "markdown",
      "metadata": {
        "id": "RB7oOs7oUBMT"
      },
      "source": [
        "Create an empty map zoomed to Florida. You can click and drag to move around the map, as well as zoom in and out."
      ]
    },
    {
      "cell_type": "code",
      "execution_count": 7,
      "metadata": {
        "colab": {
          "base_uri": "https://localhost:8080/",
          "height": 700
        },
        "id": "fi1UrdcYUA_t",
        "outputId": "baa52826-4162-4799-87fb-2a656f6dd4c4"
      },
      "outputs": [
        {
          "output_type": "display_data",
          "data": {
            "text/plain": [
              "<IPython.core.display.HTML object>"
            ],
            "text/html": [
              "\n",
              "            <style>\n",
              "                .geemap-dark {\n",
              "                    --jp-widgets-color: white;\n",
              "                    --jp-widgets-label-color: white;\n",
              "                    --jp-ui-font-color1: white;\n",
              "                    --jp-layout-color2: #454545;\n",
              "                    background-color: #383838;\n",
              "                }\n",
              "\n",
              "                .geemap-dark .jupyter-button {\n",
              "                    --jp-layout-color3: #383838;\n",
              "                }\n",
              "\n",
              "                .geemap-colab {\n",
              "                    background-color: var(--colab-primary-surface-color, white);\n",
              "                }\n",
              "\n",
              "                .geemap-colab .jupyter-button {\n",
              "                    --jp-layout-color3: var(--colab-primary-surface-color, white);\n",
              "                }\n",
              "            </style>\n",
              "            "
            ]
          },
          "metadata": {}
        },
        {
          "output_type": "display_data",
          "data": {
            "text/plain": [
              "<folium.folium.Map at 0x78da70d50ad0>"
            ],
            "text/html": [
              "<div style=\"width:100%;\"><div style=\"position:relative;width:100%;height:0;padding-bottom:60%;\"><span style=\"color:#565656\">Make this Notebook Trusted to load map: File -> Trust Notebook</span><iframe srcdoc=\"&lt;!DOCTYPE html&gt;\n",
              "&lt;html&gt;\n",
              "&lt;head&gt;\n",
              "    \n",
              "    &lt;meta http-equiv=&quot;content-type&quot; content=&quot;text/html; charset=UTF-8&quot; /&gt;\n",
              "    &lt;script src=&quot;https://cdn.jsdelivr.net/npm/leaflet@1.9.3/dist/leaflet.js&quot;&gt;&lt;/script&gt;\n",
              "    &lt;script src=&quot;https://code.jquery.com/jquery-3.7.1.min.js&quot;&gt;&lt;/script&gt;\n",
              "    &lt;script src=&quot;https://cdn.jsdelivr.net/npm/bootstrap@5.2.2/dist/js/bootstrap.bundle.min.js&quot;&gt;&lt;/script&gt;\n",
              "    &lt;script src=&quot;https://cdnjs.cloudflare.com/ajax/libs/Leaflet.awesome-markers/2.0.2/leaflet.awesome-markers.js&quot;&gt;&lt;/script&gt;\n",
              "    &lt;link rel=&quot;stylesheet&quot; href=&quot;https://cdn.jsdelivr.net/npm/leaflet@1.9.3/dist/leaflet.css&quot;/&gt;\n",
              "    &lt;link rel=&quot;stylesheet&quot; href=&quot;https://cdn.jsdelivr.net/npm/bootstrap@5.2.2/dist/css/bootstrap.min.css&quot;/&gt;\n",
              "    &lt;link rel=&quot;stylesheet&quot; href=&quot;https://netdna.bootstrapcdn.com/bootstrap/3.0.0/css/bootstrap-glyphicons.css&quot;/&gt;\n",
              "    &lt;link rel=&quot;stylesheet&quot; href=&quot;https://cdn.jsdelivr.net/npm/@fortawesome/fontawesome-free@6.2.0/css/all.min.css&quot;/&gt;\n",
              "    &lt;link rel=&quot;stylesheet&quot; href=&quot;https://cdnjs.cloudflare.com/ajax/libs/Leaflet.awesome-markers/2.0.2/leaflet.awesome-markers.css&quot;/&gt;\n",
              "    &lt;link rel=&quot;stylesheet&quot; href=&quot;https://cdn.jsdelivr.net/gh/python-visualization/folium/folium/templates/leaflet.awesome.rotate.min.css&quot;/&gt;\n",
              "    \n",
              "            &lt;meta name=&quot;viewport&quot; content=&quot;width=device-width,\n",
              "                initial-scale=1.0, maximum-scale=1.0, user-scalable=no&quot; /&gt;\n",
              "            &lt;style&gt;\n",
              "                #map_7ed58363149dab11fed7c631a4e52f80 {\n",
              "                    position: relative;\n",
              "                    width: 100.0%;\n",
              "                    height: 100.0%;\n",
              "                    left: 0.0%;\n",
              "                    top: 0.0%;\n",
              "                }\n",
              "                .leaflet-container { font-size: 1rem; }\n",
              "            &lt;/style&gt;\n",
              "\n",
              "            &lt;style&gt;html, body {\n",
              "                width: 100%;\n",
              "                height: 100%;\n",
              "                margin: 0;\n",
              "                padding: 0;\n",
              "            }\n",
              "            &lt;/style&gt;\n",
              "\n",
              "            &lt;style&gt;#map {\n",
              "                position:absolute;\n",
              "                top:0;\n",
              "                bottom:0;\n",
              "                right:0;\n",
              "                left:0;\n",
              "                }\n",
              "            &lt;/style&gt;\n",
              "\n",
              "            &lt;script&gt;\n",
              "                L_NO_TOUCH = false;\n",
              "                L_DISABLE_3D = false;\n",
              "            &lt;/script&gt;\n",
              "\n",
              "        \n",
              "&lt;/head&gt;\n",
              "&lt;body&gt;\n",
              "    \n",
              "    \n",
              "            &lt;div class=&quot;folium-map&quot; id=&quot;map_7ed58363149dab11fed7c631a4e52f80&quot; &gt;&lt;/div&gt;\n",
              "        \n",
              "&lt;/body&gt;\n",
              "&lt;script&gt;\n",
              "    \n",
              "    \n",
              "            var map_7ed58363149dab11fed7c631a4e52f80 = L.map(\n",
              "                &quot;map_7ed58363149dab11fed7c631a4e52f80&quot;,\n",
              "                {\n",
              "                    center: [28.263363, -83.497652],\n",
              "                    crs: L.CRS.EPSG3857,\n",
              "                    ...{\n",
              "  &quot;zoom&quot;: 7,\n",
              "  &quot;zoomControl&quot;: true,\n",
              "  &quot;preferCanvas&quot;: false,\n",
              "}\n",
              "\n",
              "                }\n",
              "            );\n",
              "\n",
              "            \n",
              "\n",
              "        \n",
              "    \n",
              "            var tile_layer_02feb229699891ddd9f7c0135689d302 = L.tileLayer(\n",
              "                &quot;https://{s}.basemaps.cartocdn.com/dark_all/{z}/{x}/{y}{r}.png&quot;,\n",
              "                {\n",
              "  &quot;minZoom&quot;: 0,\n",
              "  &quot;maxZoom&quot;: 20,\n",
              "  &quot;maxNativeZoom&quot;: 20,\n",
              "  &quot;noWrap&quot;: false,\n",
              "  &quot;attribution&quot;: &quot;\\u0026copy; \\u003ca href=\\&quot;https://www.openstreetmap.org/copyright\\&quot;\\u003eOpenStreetMap\\u003c/a\\u003e contributors \\u0026copy; \\u003ca href=\\&quot;https://carto.com/attributions\\&quot;\\u003eCARTO\\u003c/a\\u003e&quot;,\n",
              "  &quot;subdomains&quot;: &quot;abcd&quot;,\n",
              "  &quot;detectRetina&quot;: false,\n",
              "  &quot;tms&quot;: false,\n",
              "  &quot;opacity&quot;: 1,\n",
              "}\n",
              "\n",
              "            );\n",
              "        \n",
              "    \n",
              "            tile_layer_02feb229699891ddd9f7c0135689d302.addTo(map_7ed58363149dab11fed7c631a4e52f80);\n",
              "        \n",
              "&lt;/script&gt;\n",
              "&lt;/html&gt;\" style=\"position:absolute;width:100%;height:100%;left:0;top:0;border:none !important;\" allowfullscreen webkitallowfullscreen mozallowfullscreen></iframe></div></div>"
            ]
          },
          "metadata": {}
        }
      ],
      "source": [
        "map = folium.Map(location=[28.263363, -83.497652], tiles=\"Cartodb dark_matter\", zoom_start=7)\n",
        "display(map)"
      ]
    },
    {
      "cell_type": "markdown",
      "metadata": {
        "id": "zQ45oZR6UH77"
      },
      "source": [
        "Next, we define a function (from [this tutorial](https://developers.google.com/earth-engine/tutorials/community/intro-to-python-api)) to add Google Earth Engine data to a map in a way that allows it to be interactively displayed."
      ]
    },
    {
      "cell_type": "code",
      "execution_count": 8,
      "metadata": {
        "colab": {
          "base_uri": "https://localhost:8080/",
          "height": 17
        },
        "id": "XcswpifYUISb",
        "outputId": "0eb014c3-7d05-469c-cf9b-a5eb31082af0"
      },
      "outputs": [
        {
          "output_type": "display_data",
          "data": {
            "text/plain": [
              "<IPython.core.display.HTML object>"
            ],
            "text/html": [
              "\n",
              "            <style>\n",
              "                .geemap-dark {\n",
              "                    --jp-widgets-color: white;\n",
              "                    --jp-widgets-label-color: white;\n",
              "                    --jp-ui-font-color1: white;\n",
              "                    --jp-layout-color2: #454545;\n",
              "                    background-color: #383838;\n",
              "                }\n",
              "\n",
              "                .geemap-dark .jupyter-button {\n",
              "                    --jp-layout-color3: #383838;\n",
              "                }\n",
              "\n",
              "                .geemap-colab {\n",
              "                    background-color: var(--colab-primary-surface-color, white);\n",
              "                }\n",
              "\n",
              "                .geemap-colab .jupyter-button {\n",
              "                    --jp-layout-color3: var(--colab-primary-surface-color, white);\n",
              "                }\n",
              "            </style>\n",
              "            "
            ]
          },
          "metadata": {}
        }
      ],
      "source": [
        "def add_ee_layer(self, ee_image_object, vis_params, name):\n",
        "    \"\"\"Adds a method for displaying Earth Engine image tiles to folium map.\"\"\"\n",
        "    map_id_dict = ee.Image(ee_image_object).getMapId(vis_params)\n",
        "    folium.raster_layers.TileLayer(\n",
        "        tiles=map_id_dict['tile_fetcher'].url_format,\n",
        "        attr='Map Data &copy; <a href=\"https://earthengine.google.com/\">Google Earth Engine</a>',\n",
        "        name=name,\n",
        "        overlay=True,\n",
        "        control=True\n",
        "    ).add_to(self)\n",
        "\n",
        "folium.Map.add_ee_layer = add_ee_layer"
      ]
    },
    {
      "cell_type": "code",
      "execution_count": 9,
      "metadata": {
        "colab": {
          "base_uri": "https://localhost:8080/",
          "height": 700
        },
        "id": "LjLR8ClyUS3L",
        "outputId": "4b7507c1-3ff3-496f-cd8d-ebbb979e0851"
      },
      "outputs": [
        {
          "output_type": "display_data",
          "data": {
            "text/plain": [
              "<IPython.core.display.HTML object>"
            ],
            "text/html": [
              "\n",
              "            <style>\n",
              "                .geemap-dark {\n",
              "                    --jp-widgets-color: white;\n",
              "                    --jp-widgets-label-color: white;\n",
              "                    --jp-ui-font-color1: white;\n",
              "                    --jp-layout-color2: #454545;\n",
              "                    background-color: #383838;\n",
              "                }\n",
              "\n",
              "                .geemap-dark .jupyter-button {\n",
              "                    --jp-layout-color3: #383838;\n",
              "                }\n",
              "\n",
              "                .geemap-colab {\n",
              "                    background-color: var(--colab-primary-surface-color, white);\n",
              "                }\n",
              "\n",
              "                .geemap-colab .jupyter-button {\n",
              "                    --jp-layout-color3: var(--colab-primary-surface-color, white);\n",
              "                }\n",
              "            </style>\n",
              "            "
            ]
          },
          "metadata": {}
        },
        {
          "output_type": "display_data",
          "data": {
            "text/plain": [
              "<folium.folium.Map at 0x78da70d50ad0>"
            ],
            "text/html": [
              "<div style=\"width:100%;\"><div style=\"position:relative;width:100%;height:0;padding-bottom:60%;\"><span style=\"color:#565656\">Make this Notebook Trusted to load map: File -> Trust Notebook</span><iframe srcdoc=\"&lt;!DOCTYPE html&gt;\n",
              "&lt;html&gt;\n",
              "&lt;head&gt;\n",
              "    \n",
              "    &lt;meta http-equiv=&quot;content-type&quot; content=&quot;text/html; charset=UTF-8&quot; /&gt;\n",
              "    &lt;script src=&quot;https://cdn.jsdelivr.net/npm/leaflet@1.9.3/dist/leaflet.js&quot;&gt;&lt;/script&gt;\n",
              "    &lt;script src=&quot;https://code.jquery.com/jquery-3.7.1.min.js&quot;&gt;&lt;/script&gt;\n",
              "    &lt;script src=&quot;https://cdn.jsdelivr.net/npm/bootstrap@5.2.2/dist/js/bootstrap.bundle.min.js&quot;&gt;&lt;/script&gt;\n",
              "    &lt;script src=&quot;https://cdnjs.cloudflare.com/ajax/libs/Leaflet.awesome-markers/2.0.2/leaflet.awesome-markers.js&quot;&gt;&lt;/script&gt;\n",
              "    &lt;link rel=&quot;stylesheet&quot; href=&quot;https://cdn.jsdelivr.net/npm/leaflet@1.9.3/dist/leaflet.css&quot;/&gt;\n",
              "    &lt;link rel=&quot;stylesheet&quot; href=&quot;https://cdn.jsdelivr.net/npm/bootstrap@5.2.2/dist/css/bootstrap.min.css&quot;/&gt;\n",
              "    &lt;link rel=&quot;stylesheet&quot; href=&quot;https://netdna.bootstrapcdn.com/bootstrap/3.0.0/css/bootstrap-glyphicons.css&quot;/&gt;\n",
              "    &lt;link rel=&quot;stylesheet&quot; href=&quot;https://cdn.jsdelivr.net/npm/@fortawesome/fontawesome-free@6.2.0/css/all.min.css&quot;/&gt;\n",
              "    &lt;link rel=&quot;stylesheet&quot; href=&quot;https://cdnjs.cloudflare.com/ajax/libs/Leaflet.awesome-markers/2.0.2/leaflet.awesome-markers.css&quot;/&gt;\n",
              "    &lt;link rel=&quot;stylesheet&quot; href=&quot;https://cdn.jsdelivr.net/gh/python-visualization/folium/folium/templates/leaflet.awesome.rotate.min.css&quot;/&gt;\n",
              "    \n",
              "            &lt;meta name=&quot;viewport&quot; content=&quot;width=device-width,\n",
              "                initial-scale=1.0, maximum-scale=1.0, user-scalable=no&quot; /&gt;\n",
              "            &lt;style&gt;\n",
              "                #map_7ed58363149dab11fed7c631a4e52f80 {\n",
              "                    position: relative;\n",
              "                    width: 100.0%;\n",
              "                    height: 100.0%;\n",
              "                    left: 0.0%;\n",
              "                    top: 0.0%;\n",
              "                }\n",
              "                .leaflet-container { font-size: 1rem; }\n",
              "            &lt;/style&gt;\n",
              "\n",
              "            &lt;style&gt;html, body {\n",
              "                width: 100%;\n",
              "                height: 100%;\n",
              "                margin: 0;\n",
              "                padding: 0;\n",
              "            }\n",
              "            &lt;/style&gt;\n",
              "\n",
              "            &lt;style&gt;#map {\n",
              "                position:absolute;\n",
              "                top:0;\n",
              "                bottom:0;\n",
              "                right:0;\n",
              "                left:0;\n",
              "                }\n",
              "            &lt;/style&gt;\n",
              "\n",
              "            &lt;script&gt;\n",
              "                L_NO_TOUCH = false;\n",
              "                L_DISABLE_3D = false;\n",
              "            &lt;/script&gt;\n",
              "\n",
              "        \n",
              "&lt;/head&gt;\n",
              "&lt;body&gt;\n",
              "    \n",
              "    \n",
              "            &lt;div class=&quot;folium-map&quot; id=&quot;map_7ed58363149dab11fed7c631a4e52f80&quot; &gt;&lt;/div&gt;\n",
              "        \n",
              "&lt;/body&gt;\n",
              "&lt;script&gt;\n",
              "    \n",
              "    \n",
              "            var map_7ed58363149dab11fed7c631a4e52f80 = L.map(\n",
              "                &quot;map_7ed58363149dab11fed7c631a4e52f80&quot;,\n",
              "                {\n",
              "                    center: [28.263363, -83.497652],\n",
              "                    crs: L.CRS.EPSG3857,\n",
              "                    ...{\n",
              "  &quot;zoom&quot;: 7,\n",
              "  &quot;zoomControl&quot;: true,\n",
              "  &quot;preferCanvas&quot;: false,\n",
              "}\n",
              "\n",
              "                }\n",
              "            );\n",
              "\n",
              "            \n",
              "\n",
              "        \n",
              "    \n",
              "            var tile_layer_02feb229699891ddd9f7c0135689d302 = L.tileLayer(\n",
              "                &quot;https://{s}.basemaps.cartocdn.com/dark_all/{z}/{x}/{y}{r}.png&quot;,\n",
              "                {\n",
              "  &quot;minZoom&quot;: 0,\n",
              "  &quot;maxZoom&quot;: 20,\n",
              "  &quot;maxNativeZoom&quot;: 20,\n",
              "  &quot;noWrap&quot;: false,\n",
              "  &quot;attribution&quot;: &quot;\\u0026copy; \\u003ca href=\\&quot;https://www.openstreetmap.org/copyright\\&quot;\\u003eOpenStreetMap\\u003c/a\\u003e contributors \\u0026copy; \\u003ca href=\\&quot;https://carto.com/attributions\\&quot;\\u003eCARTO\\u003c/a\\u003e&quot;,\n",
              "  &quot;subdomains&quot;: &quot;abcd&quot;,\n",
              "  &quot;detectRetina&quot;: false,\n",
              "  &quot;tms&quot;: false,\n",
              "  &quot;opacity&quot;: 1,\n",
              "}\n",
              "\n",
              "            );\n",
              "        \n",
              "    \n",
              "            tile_layer_02feb229699891ddd9f7c0135689d302.addTo(map_7ed58363149dab11fed7c631a4e52f80);\n",
              "        \n",
              "    \n",
              "            tile_layer_02feb229699891ddd9f7c0135689d302.addTo(map_7ed58363149dab11fed7c631a4e52f80);\n",
              "        \n",
              "    \n",
              "            var tile_layer_9e4306d7579aca8c026c968dc11f03b5 = L.tileLayer(\n",
              "                &quot;https://earthengine.googleapis.com/v1/projects/emerge-466105/maps/cbb1557444890cf436aa23389868612a-dfa00f5408d75225fb8c9fc77a791a41/tiles/{z}/{x}/{y}&quot;,\n",
              "                {\n",
              "  &quot;minZoom&quot;: 0,\n",
              "  &quot;maxZoom&quot;: 18,\n",
              "  &quot;maxNativeZoom&quot;: 18,\n",
              "  &quot;noWrap&quot;: false,\n",
              "  &quot;attribution&quot;: &quot;Map Data \\u0026copy; \\u003ca href=\\&quot;https://earthengine.google.com/\\&quot;\\u003eGoogle Earth Engine\\u003c/a\\u003e&quot;,\n",
              "  &quot;subdomains&quot;: &quot;abc&quot;,\n",
              "  &quot;detectRetina&quot;: false,\n",
              "  &quot;tms&quot;: false,\n",
              "  &quot;opacity&quot;: 1,\n",
              "}\n",
              "\n",
              "            );\n",
              "        \n",
              "    \n",
              "            tile_layer_9e4306d7579aca8c026c968dc11f03b5.addTo(map_7ed58363149dab11fed7c631a4e52f80);\n",
              "        \n",
              "&lt;/script&gt;\n",
              "&lt;/html&gt;\" style=\"position:absolute;width:100%;height:100%;left:0;top:0;border:none !important;\" allowfullscreen webkitallowfullscreen mozallowfullscreen></iframe></div></div>"
            ]
          },
          "metadata": {}
        }
      ],
      "source": [
        "# Visualization parameters used to set the colors for the data\n",
        "lst_vis = {\n",
        "    'min': 13000.0,\n",
        "    'max': 16500.0,\n",
        "    'palette': [\n",
        "    '040274', '040281', '0502a3', '0502b8', '0502ce', '0502e6',\n",
        "    '0602ff', '235cb1', '307ef3', '269db1', '30c8e2', '32d3ef',\n",
        "    '3be285', '3ff38f', '86e26f', '3ae237', 'b5e22e', 'd6e21f',\n",
        "    'fff705', 'ffd611', 'ffb613', 'ff8b13', 'ff6e08', 'ff500d',\n",
        "    'ff0000', 'de0101', 'c21301', 'a71001', '911003'\n",
        "  ],\n",
        "}\n",
        "\n",
        "# Add the data to the map\n",
        "map.add_ee_layer(lst.mean().select('LST_Day_1km'), lst_vis, \"LST\")\n",
        "\n",
        "display(map)"
      ]
    },
    {
      "cell_type": "markdown",
      "metadata": {
        "id": "6Btd7il-0rIl"
      },
      "source": [
        "References\n",
        "- [Creating Interactive Maps with geemap](https://book.geemap.org/chapters/02_maps.html)\n",
        "- [feedbackAn Intro to the Earth Engine Python API](https://developers.google.com/earth-engine/tutorials/community/intro-to-python-api)"
      ]
    }
  ],
  "metadata": {
    "colab": {
      "provenance": []
    },
    "kernelspec": {
      "display_name": "Python 3",
      "name": "python3"
    },
    "language_info": {
      "name": "python"
    }
  },
  "nbformat": 4,
  "nbformat_minor": 0
}