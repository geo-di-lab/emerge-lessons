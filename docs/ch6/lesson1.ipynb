{
 "cells": [
  {
   "cell_type": "markdown",
   "metadata": {
    "id": "i2yzQjPJ1D8a"
   },
   "source": [
    "[![Open in Colab](https://colab.research.google.com/assets/colab-badge.svg)](https://colab.research.google.com/github/geo-di-lab/emerge-lessons/blob/main/docs/ch6/lesson1.ipynb)"
   ]
  },
  {
   "cell_type": "markdown",
   "metadata": {
    "id": "ICMNObPA_8cZ"
   },
   "source": [
    "# Plotting Your Data\n",
    "This template file shows how you can create charts (bar, line, scatter, pie)."
   ]
  },
  {
   "cell_type": "markdown",
   "metadata": {
    "id": "Nsqg-tmL-ke6"
   },
   "source": [
    "**To run the code:**\n",
    "> Make sure you have this notebook open in Google Colab. If you are starting from the digital textbook, click [![Open in Colab](https://colab.research.google.com/assets/colab-badge.svg)](https://colab.research.google.com/github/geo-di-lab/emerge-lessons/blob/main/docs/ch6/lesson1.ipynb)\n",
    "\n",
    "Each block of code is called a cell. To run a cell, hover over it and click the arrow in the top left of the cell, or click inside of the cell and press Shift + Enter.\n",
    "\n",
    "Note: When you run a block of code for the first time, Google Colab will say `Warning: This notebook was not authored by Google`. Please click `Run Anyway`.\n",
    "\n",
    "A great feature of Google Colab is that you are able to write Python code and see the output directly on your browser. Let's go through the basics below:"
   ]
  },
  {
   "cell_type": "code",
   "execution_count": null,
   "metadata": {
    "id": "RmaqFJVA_8AE"
   },
   "outputs": [],
   "source": [
    "import matplotlib.pyplot as plt\n",
    "import numpy as np\n",
    "import pandas as pd\n",
    "import geopandas as gpd\n",
    "import seaborn as sns"
   ]
  },
  {
   "cell_type": "markdown",
   "metadata": {
    "id": "L4jpJdyYAJhL"
   },
   "source": [
    "## Load your data"
   ]
  },
  {
   "cell_type": "markdown",
   "metadata": {
    "id": "gK2Rof0HBYG3"
   },
   "source": [
    "In Google Colab, click on the folder icon to the left of the screen. If it says \"Connecting to a runtime to enable file browsing,\" you may need to wait a few seconds for Google Colab to connect and load. Click the Upload icon (the left-most icon) and select your file on your computer.\n",
    "\n",
    "You will see a pop-up that says `Warning: Ensure that your files are saved elsewhere. This runtime's files will be deleted when this runtime is terminated.` This is because, once you upload your data, Google Colab creates a copy of the data in your browser, which will be deleted once you close the browser. The data on your computer will remain the same, and nothing will be changed even if you make edits here in Google Colab."
   ]
  },
  {
   "cell_type": "markdown",
   "metadata": {
    "id": "Sb17j6qYBPqu"
   },
   "source": [
    "Here is how to upload your data based on the different file types.\n",
    "\n",
    "1. CSV (.csv) file:\n",
    "\n",
    "```data = pd.read_csv('name_of_your_file.csv')```\n",
    "\n",
    "2. Excel (.xlsx, .xls) file - more info [here](https://pandas.pydata.org/docs/reference/api/pandas.read_excel.html):\n",
    "\n",
    "```data = pd.read_excel('name_of_your_file.xlsx', index_col=0, sheet_name='your sheet name')```\n",
    "\n",
    "3. Shapefile (.shp):\n",
    "\n",
    "if you uploaded a zipped shapefile:\n",
    "\n",
    "```data = gpd.read_file('name_of_your_file.zip')```\n",
    "\n",
    "or if you uploaded the separate shapefiles (.SHP, .DBF, .SHX, etc.)\n",
    "\n",
    "```data = gpd.read_file('name_of_your_file.shp')```\n",
    "\n",
    "4. GeoJSON (.geojson):\n",
    "\n",
    "```data = gpd.read_file('name_of_your_file.geojson')```"
   ]
  },
  {
   "cell_type": "code",
   "execution_count": null,
   "metadata": {
    "id": "DCJfuqTIBMps"
   },
   "outputs": [],
   "source": [
    "# Enter code here\n",
    "data =\n",
    "\n",
    "# For example:\n",
    "# data = pd.read_csv('name_of_your_file.csv')"
   ]
  },
  {
   "cell_type": "code",
   "execution_count": null,
   "metadata": {
    "id": "X7XDxtd-L_Mt"
   },
   "outputs": [],
   "source": [
    "# View first 5 rows of the table\n",
    "data.head()"
   ]
  },
  {
   "cell_type": "code",
   "execution_count": null,
   "metadata": {
    "id": "GpbRn4yVJ89y"
   },
   "outputs": [],
   "source": [
    "# View statistics like mean, min, max for each column\n",
    "data.describe()"
   ]
  },
  {
   "cell_type": "markdown",
   "metadata": {
    "id": "bkvJpJPZAVfd"
   },
   "source": [
    "## Histogram"
   ]
  },
  {
   "cell_type": "markdown",
   "metadata": {
    "id": "0BSyLah1_yDn"
   },
   "source": [
    "A [histogram](https://matplotlib.org/stable/api/_as_gen/matplotlib.pyplot.hist.html) shows the distribution of data and can be created using the code below:"
   ]
  },
  {
   "cell_type": "code",
   "execution_count": null,
   "metadata": {
    "colab": {
     "base_uri": "https://localhost:8080/",
     "height": 430
    },
    "executionInfo": {
     "elapsed": 132,
     "status": "ok",
     "timestamp": 1754858912717,
     "user": {
      "displayName": "Olivia Zhang",
      "userId": "05095522397576996566"
     },
     "user_tz": 240
    },
    "id": "ZdqB24RiU-Nx",
    "outputId": "60d5ad9c-9de7-4dcd-b370-2e105e19a237"
   },
   "outputs": [
    {
     "data": {
      "image/png": "[encoded data removed]",
      "text/plain": [
       "<Figure size 640x480 with 1 Axes>"
      ]
     },
     "metadata": {},
     "output_type": "display_data"
    }
   ],
   "source": [
    "# Histogram using fake data\n",
    "ex_data = [1, 3, 4, 4, 5, 5, 5, 5, 6, 6, 6, 7, 7, 8, 8, 9, 9, 9, 10]\n",
    "\n",
    "plt.hist(ex_data, bins = 10)\n",
    "plt.show()"
   ]
  },
  {
   "cell_type": "code",
   "execution_count": null,
   "metadata": {
    "id": "l93eBDJjAWuq"
   },
   "outputs": [],
   "source": [
    "number_of_bins = 20   # The number of bins (bars) in the histogram\n",
    "column_name = \"\"      # The name of the column with data you want on the histogram\n",
    "\n",
    "plt.hist(data[column_name], bins = number_of_bins)\n",
    "plt.show()"
   ]
  },
  {
   "cell_type": "markdown",
   "metadata": {
    "id": "WP7Fz9k3ALRO"
   },
   "source": [
    "## Scatter plot"
   ]
  },
  {
   "cell_type": "markdown",
   "metadata": {
    "id": "n2vAyFBTEROP"
   },
   "source": [
    "A [scatter plot](https://matplotlib.org/stable/api/_as_gen/matplotlib.pyplot.scatter.html) shows points based on two inputs (for x and y)."
   ]
  },
  {
   "cell_type": "code",
   "execution_count": null,
   "metadata": {
    "colab": {
     "base_uri": "https://localhost:8080/",
     "height": 447
    },
    "executionInfo": {
     "elapsed": 119,
     "status": "ok",
     "timestamp": 1754858763407,
     "user": {
      "displayName": "Olivia Zhang",
      "userId": "05095522397576996566"
     },
     "user_tz": 240
    },
    "id": "_Q8QieGyVCEv",
    "outputId": "b52122c2-fee5-4afd-96a8-076c5bcd577f"
   },
   "outputs": [
    {
     "data": {
      "text/plain": [
       "<matplotlib.collections.PathCollection at 0x7cdf8e1ebfd0>"
      ]
     },
     "execution_count": 12,
     "metadata": {},
     "output_type": "execute_result"
    },
    {
     "data": {
      "image/png": "[encoded data removed]",
      "text/plain": [
       "<Figure size 640x480 with 1 Axes>"
      ]
     },
     "metadata": {},
     "output_type": "display_data"
    }
   ],
   "source": [
    "# Scatter plot using fake data\n",
    "x = [1, 2, 3, 4, 5]\n",
    "y = [1, 4, 8, 16, 32]\n",
    "\n",
    "plt.scatter(x, y)"
   ]
  },
  {
   "cell_type": "code",
   "execution_count": null,
   "metadata": {
    "id": "US6Cz4iIAQ2J"
   },
   "outputs": [],
   "source": [
    "xaxis_column = \"\"     # The name of the column with data you want on the x-axis\n",
    "yaxis_column = \"\"     # The name of the column with data you want on the y-axis\n",
    "\n",
    "plt.scatter(x = data[xaxis_column], y = data[yaxis_column])\n",
    "plt.show()"
   ]
  },
  {
   "cell_type": "markdown",
   "metadata": {
    "id": "Z8ayblRpARV4"
   },
   "source": [
    "## Line plot"
   ]
  },
  {
   "cell_type": "markdown",
   "metadata": {
    "id": "e4j6trEBEZ73"
   },
   "source": [
    "A [line plot](https://matplotlib.org/stable/api/_as_gen/matplotlib.pyplot.plot.html) shows a connected line based on two inputs (for x and y)."
   ]
  },
  {
   "cell_type": "code",
   "execution_count": null,
   "metadata": {
    "colab": {
     "base_uri": "https://localhost:8080/",
     "height": 430
    },
    "executionInfo": {
     "elapsed": 27,
     "status": "ok",
     "timestamp": 1754858090883,
     "user": {
      "displayName": "Olivia Zhang",
      "userId": "05095522397576996566"
     },
     "user_tz": 240
    },
    "id": "jQjOGr2MVDsI",
    "outputId": "645c16f6-99b4-4656-a28b-10eefa15ccb5"
   },
   "outputs": [
    {
     "data": {
      "image/png": "[encoded data removed]",
      "text/plain": [
       "<Figure size 640x480 with 1 Axes>"
      ]
     },
     "metadata": {},
     "output_type": "display_data"
    }
   ],
   "source": [
    "# Line plot using fake data\n",
    "years = [2018, 2019, 2020, 2021, 2022, 2023]    # x-axis\n",
    "value = [1, 2, 4, 8, 16, 32]                    # y-axis (Note that this should have the same number of values as the x-axis data)\n",
    "\n",
    "plt.plot(years, value)\n",
    "plt.show()"
   ]
  },
  {
   "cell_type": "code",
   "execution_count": null,
   "metadata": {
    "id": "HXlttRW0ASOq"
   },
   "outputs": [],
   "source": [
    "xaxis_column = \"\"     # The name of the column with data you want on the x-axis\n",
    "yaxis_column = \"\"     # The name of the column with data you want on the y-axis\n",
    "\n",
    "plt.plot(data[xaxis_column], data[yaxis_column])\n",
    "plt.show()"
   ]
  },
  {
   "cell_type": "markdown",
   "metadata": {
    "id": "XkPlKKi-ASpu"
   },
   "source": [
    "## Pie chart"
   ]
  },
  {
   "cell_type": "markdown",
   "metadata": {
    "id": "LpVILr1kFRLd"
   },
   "source": [
    "A [pie chart](https://matplotlib.org/stable/api/_as_gen/matplotlib.pyplot.pie.html) shows values based on counts of different categories.\n",
    "\n",
    "If you already have data that are grouped, where you have one column with the categories (which will serve as the \"labels\" on the pie chart), and another column with the corresponding value for that category (which will serve as the size of each wedge), then this can be visualized on a pie chart directly using the following code:"
   ]
  },
  {
   "cell_type": "code",
   "execution_count": null,
   "metadata": {
    "colab": {
     "base_uri": "https://localhost:8080/",
     "height": 194
    },
    "executionInfo": {
     "elapsed": 15,
     "status": "ok",
     "timestamp": 1754858376528,
     "user": {
      "displayName": "Olivia Zhang",
      "userId": "05095522397576996566"
     },
     "user_tz": 240
    },
    "id": "JZD9OofYtWod",
    "outputId": "a3a8784a-e203-45f1-c11e-670ac6a15805"
   },
   "outputs": [
    {
     "data": {
      "text/html": [
       "<svg  width=\"440\" height=\"55\"><rect x=\"0\" y=\"0\" width=\"55\" height=\"55\" style=\"fill:#66c2a5;stroke-width:2;stroke:rgb(255,255,255)\"/><rect x=\"55\" y=\"0\" width=\"55\" height=\"55\" style=\"fill:#fc8d62;stroke-width:2;stroke:rgb(255,255,255)\"/><rect x=\"110\" y=\"0\" width=\"55\" height=\"55\" style=\"fill:#8da0cb;stroke-width:2;stroke:rgb(255,255,255)\"/><rect x=\"165\" y=\"0\" width=\"55\" height=\"55\" style=\"fill:#e78ac3;stroke-width:2;stroke:rgb(255,255,255)\"/><rect x=\"220\" y=\"0\" width=\"55\" height=\"55\" style=\"fill:#a6d854;stroke-width:2;stroke:rgb(255,255,255)\"/><rect x=\"275\" y=\"0\" width=\"55\" height=\"55\" style=\"fill:#ffd92f;stroke-width:2;stroke:rgb(255,255,255)\"/><rect x=\"330\" y=\"0\" width=\"55\" height=\"55\" style=\"fill:#e5c494;stroke-width:2;stroke:rgb(255,255,255)\"/><rect x=\"385\" y=\"0\" width=\"55\" height=\"55\" style=\"fill:#b3b3b3;stroke-width:2;stroke:rgb(255,255,255)\"/></svg>"
      ],
      "text/plain": [
       "[(0.4, 0.7607843137254902, 0.6470588235294118),\n",
       " (0.9882352941176471, 0.5529411764705883, 0.3843137254901961),\n",
       " (0.5529411764705883, 0.6274509803921569, 0.796078431372549),\n",
       " (0.9058823529411765, 0.5411764705882353, 0.7647058823529411),\n",
       " (0.6509803921568628, 0.8470588235294118, 0.32941176470588235),\n",
       " (1.0, 0.8509803921568627, 0.1843137254901961),\n",
       " (0.8980392156862745, 0.7686274509803922, 0.5803921568627451),\n",
       " (0.7019607843137254, 0.7019607843137254, 0.7019607843137254)]"
      ]
     },
     "metadata": {},
     "output_type": "display_data"
    },
    {
     "data": {
      "text/html": [
       "<svg  width=\"330\" height=\"55\"><rect x=\"0\" y=\"0\" width=\"55\" height=\"55\" style=\"fill:#5c359a;stroke-width:2;stroke:rgb(255,255,255)\"/><rect x=\"55\" y=\"0\" width=\"55\" height=\"55\" style=\"fill:#6989be;stroke-width:2;stroke:rgb(255,255,255)\"/><rect x=\"110\" y=\"0\" width=\"55\" height=\"55\" style=\"fill:#bccbd1;stroke-width:2;stroke:rgb(255,255,255)\"/><rect x=\"165\" y=\"0\" width=\"55\" height=\"55\" style=\"fill:#d6c2b6;stroke-width:2;stroke:rgb(255,255,255)\"/><rect x=\"220\" y=\"0\" width=\"55\" height=\"55\" style=\"fill:#bc6b59;stroke-width:2;stroke:rgb(255,255,255)\"/><rect x=\"275\" y=\"0\" width=\"55\" height=\"55\" style=\"fill:#7f2350;stroke-width:2;stroke:rgb(255,255,255)\"/></svg>"
      ],
      "text/plain": [
       "[(0.36002681809096376, 0.20694122817889948, 0.6029284543191687),\n",
       " (0.4113541469730457, 0.5368485776500593, 0.7466971285506578),\n",
       " (0.7387377170049494, 0.7959766573503101, 0.8214292278043301),\n",
       " (0.8398783988412087, 0.7603990719977968, 0.7136714781112923),\n",
       " (0.7387914002459927, 0.4205367299231533, 0.34913260148542435),\n",
       " (0.4981443546207415, 0.13569380302451714, 0.314135190862664)]"
      ]
     },
     "metadata": {},
     "output_type": "display_data"
    },
    {
     "data": {
      "text/html": [
       "<svg  width=\"1100\" height=\"55\"><rect x=\"0\" y=\"0\" width=\"55\" height=\"55\" style=\"fill:#1f77b4;stroke-width:2;stroke:rgb(255,255,255)\"/><rect x=\"55\" y=\"0\" width=\"55\" height=\"55\" style=\"fill:#aec7e8;stroke-width:2;stroke:rgb(255,255,255)\"/><rect x=\"110\" y=\"0\" width=\"55\" height=\"55\" style=\"fill:#ff7f0e;stroke-width:2;stroke:rgb(255,255,255)\"/><rect x=\"165\" y=\"0\" width=\"55\" height=\"55\" style=\"fill:#ffbb78;stroke-width:2;stroke:rgb(255,255,255)\"/><rect x=\"220\" y=\"0\" width=\"55\" height=\"55\" style=\"fill:#2ca02c;stroke-width:2;stroke:rgb(255,255,255)\"/><rect x=\"275\" y=\"0\" width=\"55\" height=\"55\" style=\"fill:#98df8a;stroke-width:2;stroke:rgb(255,255,255)\"/><rect x=\"330\" y=\"0\" width=\"55\" height=\"55\" style=\"fill:#d62728;stroke-width:2;stroke:rgb(255,255,255)\"/><rect x=\"385\" y=\"0\" width=\"55\" height=\"55\" style=\"fill:#ff9896;stroke-width:2;stroke:rgb(255,255,255)\"/><rect x=\"440\" y=\"0\" width=\"55\" height=\"55\" style=\"fill:#9467bd;stroke-width:2;stroke:rgb(255,255,255)\"/><rect x=\"495\" y=\"0\" width=\"55\" height=\"55\" style=\"fill:#c5b0d5;stroke-width:2;stroke:rgb(255,255,255)\"/><rect x=\"550\" y=\"0\" width=\"55\" height=\"55\" style=\"fill:#8c564b;stroke-width:2;stroke:rgb(255,255,255)\"/><rect x=\"605\" y=\"0\" width=\"55\" height=\"55\" style=\"fill:#c49c94;stroke-width:2;stroke:rgb(255,255,255)\"/><rect x=\"660\" y=\"0\" width=\"55\" height=\"55\" style=\"fill:#e377c2;stroke-width:2;stroke:rgb(255,255,255)\"/><rect x=\"715\" y=\"0\" width=\"55\" height=\"55\" style=\"fill:#f7b6d2;stroke-width:2;stroke:rgb(255,255,255)\"/><rect x=\"770\" y=\"0\" width=\"55\" height=\"55\" style=\"fill:#7f7f7f;stroke-width:2;stroke:rgb(255,255,255)\"/><rect x=\"825\" y=\"0\" width=\"55\" height=\"55\" style=\"fill:#c7c7c7;stroke-width:2;stroke:rgb(255,255,255)\"/><rect x=\"880\" y=\"0\" width=\"55\" height=\"55\" style=\"fill:#bcbd22;stroke-width:2;stroke:rgb(255,255,255)\"/><rect x=\"935\" y=\"0\" width=\"55\" height=\"55\" style=\"fill:#dbdb8d;stroke-width:2;stroke:rgb(255,255,255)\"/><rect x=\"990\" y=\"0\" width=\"55\" height=\"55\" style=\"fill:#17becf;stroke-width:2;stroke:rgb(255,255,255)\"/><rect x=\"1045\" y=\"0\" width=\"55\" height=\"55\" style=\"fill:#9edae5;stroke-width:2;stroke:rgb(255,255,255)\"/></svg>"
      ],
      "text/plain": [
       "[(0.12156862745098039, 0.4666666666666667, 0.7058823529411765),\n",
       " (0.6823529411764706, 0.7803921568627451, 0.9098039215686274),\n",
       " (1.0, 0.4980392156862745, 0.054901960784313725),\n",
       " (1.0, 0.7333333333333333, 0.47058823529411764),\n",
       " (0.17254901960784313, 0.6274509803921569, 0.17254901960784313),\n",
       " (0.596078431372549, 0.8745098039215686, 0.5411764705882353),\n",
       " (0.8392156862745098, 0.15294117647058825, 0.1568627450980392),\n",
       " (1.0, 0.596078431372549, 0.5882352941176471),\n",
       " (0.5803921568627451, 0.403921568627451, 0.7411764705882353),\n",
       " (0.7725490196078432, 0.6901960784313725, 0.8352941176470589),\n",
       " (0.5490196078431373, 0.33725490196078434, 0.29411764705882354),\n",
       " (0.7686274509803922, 0.611764705882353, 0.5803921568627451),\n",
       " (0.8901960784313725, 0.4666666666666667, 0.7607843137254902),\n",
       " (0.9686274509803922, 0.7137254901960784, 0.8235294117647058),\n",
       " (0.4980392156862745, 0.4980392156862745, 0.4980392156862745),\n",
       " (0.7803921568627451, 0.7803921568627451, 0.7803921568627451),\n",
       " (0.7372549019607844, 0.7411764705882353, 0.13333333333333333),\n",
       " (0.8588235294117647, 0.8588235294117647, 0.5529411764705883),\n",
       " (0.09019607843137255, 0.7450980392156863, 0.8117647058823529),\n",
       " (0.6196078431372549, 0.8549019607843137, 0.8980392156862745)]"
      ]
     },
     "metadata": {},
     "output_type": "display_data"
    }
   ],
   "source": [
    "# Here are some options for color palettes\n",
    "display(sns.color_palette(palette='Set2'))\n",
    "display(sns.color_palette(palette='twilight_shifted'))\n",
    "display(sns.color_palette(palette='tab20'))"
   ]
  },
  {
   "cell_type": "code",
   "execution_count": null,
   "metadata": {
    "colab": {
     "base_uri": "https://localhost:8080/",
     "height": 406
    },
    "executionInfo": {
     "elapsed": 221,
     "status": "ok",
     "timestamp": 1754858373991,
     "user": {
      "displayName": "Olivia Zhang",
      "userId": "05095522397576996566"
     },
     "user_tz": 240
    },
    "id": "l296OzzuVE51",
    "outputId": "3fce2854-8c4a-47e7-ba96-986dffb5ca40"
   },
   "outputs": [
    {
     "data": {
      "image/png": "[encoded data removed]",
      "text/plain": [
       "<Figure size 640x480 with 1 Axes>"
      ]
     },
     "metadata": {},
     "output_type": "display_data"
    }
   ],
   "source": [
    "# Pie chart using fake data\n",
    "\n",
    "wedge_sizes = [10, 50, 20, 30, 60]           # Numbers showing the size (or percent) of each category\n",
    "labels = [\"A\", \"B\", \"C\", \"D\", \"E\"]           # The names of each category (Note that this should have the same number of values as the wedge sizes)\n",
    "\n",
    "plt.pie(wedge_sizes, labels = labels,\n",
    "        colors = sns.color_palette('Set2'))  # Color palette can be customized\n",
    "plt.show()"
   ]
  },
  {
   "cell_type": "code",
   "execution_count": null,
   "metadata": {
    "id": "kkSeOUyyAT9D"
   },
   "outputs": [],
   "source": [
    "wedge_sizes_column = \"\"     # Name of column that makes the size of each wedge in the pie chart (numerical)\n",
    "labels_column = \"\"          # Name of column that makes the label of each wedge in the pie chart (categorial)\n",
    "\n",
    "plt.pie(data[wedge_sizes_column], labels = data[labels_column])\n",
    "plt.show()"
   ]
  },
  {
   "cell_type": "markdown",
   "metadata": {
    "id": "rdZjmvfgHB8M"
   },
   "source": [
    "If your data does not come grouped this way, then the data must first be grouped before being visualized on a pie chart using the following code:"
   ]
  },
  {
   "cell_type": "code",
   "execution_count": null,
   "metadata": {
    "id": "O3WEr95mHGB7"
   },
   "outputs": [],
   "source": [
    "wedge_sizes_column = \"\"\n",
    "labels_column = \"\"\n",
    "data_grouped = data.groupby(by=[labels_column], as_index=False).sum()\n",
    "\n",
    "plt.pie(data_grouped[wedge_sizes_column], labels = data_grouped[labels_column])\n",
    "plt.show()"
   ]
  },
  {
   "cell_type": "markdown",
   "metadata": {
    "id": "6SQ89q5fHFcO"
   },
   "source": [
    "You can use `.sum()`, `.count()`, `.mean()`, `.median()`, etc. to summarize the grouped values. The `as_index=False` updates the resulting data to have separate columns for the grouped values and labels, making it easier to use for the pie chart."
   ]
  },
  {
   "cell_type": "markdown",
   "metadata": {
    "id": "yv7ej_nSAUd5"
   },
   "source": [
    "## Bar plot"
   ]
  },
  {
   "cell_type": "markdown",
   "metadata": {
    "id": "LkSNqfOiUkJD"
   },
   "source": [
    "A [bar plot](https://matplotlib.org/stable/api/_as_gen/matplotlib.pyplot.bar.html) shows values based on counts (or another statistic) of different categories.\n",
    "\n",
    "Use `.bar` to make a plot with vertical bars, and `.barh` to make a plot with horizontal bars."
   ]
  },
  {
   "cell_type": "code",
   "execution_count": null,
   "metadata": {
    "colab": {
     "base_uri": "https://localhost:8080/",
     "height": 430
    },
    "executionInfo": {
     "elapsed": 109,
     "status": "ok",
     "timestamp": 1754858729209,
     "user": {
      "displayName": "Olivia Zhang",
      "userId": "05095522397576996566"
     },
     "user_tz": 240
    },
    "id": "ymK87tvdVGYx",
    "outputId": "32cfc990-e95b-455a-96ac-7559e28ece7c"
   },
   "outputs": [
    {
     "data": {
      "image/png": "[encoded data removed]",
      "text/plain": [
       "<Figure size 640x480 with 1 Axes>"
      ]
     },
     "metadata": {},
     "output_type": "display_data"
    }
   ],
   "source": [
    "# Bar plot using fake data (same as pie chart data)\n",
    "bar_heights = [10, 50, 20, 30, 60]           # Numbers for the height of each category\n",
    "labels = [\"A\", \"B\", \"C\", \"D\", \"E\"]           # The names of each category (Note that this should have the same number of values as the bar heights)\n",
    "\n",
    "plt.bar(labels, bar_heights)\n",
    "plt.show()"
   ]
  },
  {
   "cell_type": "code",
   "execution_count": null,
   "metadata": {
    "id": "OMsvMuhiAU-3"
   },
   "outputs": [],
   "source": [
    "category_column = \"\"\n",
    "height_column = \"\"\n",
    "\n",
    "plt.bar(data[category_column], data[height_column])\n",
    "plt.show()"
   ]
  },
  {
   "cell_type": "markdown",
   "metadata": {
    "id": "QhrNZ8ZsM4uT"
   },
   "source": [
    "## Box plot\n",
    "A [box and whisker plot](https://matplotlib.org/stable/api/_as_gen/matplotlib.pyplot.boxplot.html) is helpful for seeing the general distribution of data. The box extends from the first quartile to the third quartile with a line at the median, and the whiskers extend to 1.5 times the inter-quartile range below and above the box. Any points that fall below or above the whiskers are considered \"outliers\" that are too small or large compared to the rest of the data.\n",
    "```\n",
    "     Q1-1.5IQR   Q1   median  Q3   Q3+1.5IQR\n",
    "                  |-----:-----|\n",
    "  o      |--------|     :     |--------|    o  o\n",
    "                  |-----:-----|\n",
    "outlier           <----------->           outliers\n",
    "                       IQR\n",
    "```\n",
    "Diagram from [Matplotlib](https://matplotlib.org/stable/api/_as_gen/matplotlib.pyplot.boxplot.html)"
   ]
  },
  {
   "cell_type": "code",
   "execution_count": null,
   "metadata": {
    "colab": {
     "base_uri": "https://localhost:8080/",
     "height": 430
    },
    "executionInfo": {
     "elapsed": 186,
     "status": "ok",
     "timestamp": 1755185767787,
     "user": {
      "displayName": "Olivia Zhang",
      "userId": "05095522397576996566"
     },
     "user_tz": 240
    },
    "id": "aGrZsTgkOKb5",
    "outputId": "6994fd65-9059-4b34-87c4-731b85a46f26"
   },
   "outputs": [
    {
     "data": {
      "image/png": "[encoded data removed]",
      "text/plain": [
       "<Figure size 640x480 with 1 Axes>"
      ]
     },
     "metadata": {},
     "output_type": "display_data"
    }
   ],
   "source": [
    "ex_data = [1, 2, 6, 8, 12, 15, 16, 19, 20, 21, 26, 30, 45, 70]\n",
    "\n",
    "plt.boxplot(ex_data)\n",
    "plt.show()"
   ]
  },
  {
   "cell_type": "code",
   "execution_count": null,
   "metadata": {
    "id": "HJJ10YK7M57_"
   },
   "outputs": [],
   "source": [
    "name_of_column = \"\"   # Name of column in your dataset with numbers\n",
    "\n",
    "plt.boxplot(data[name_of_column])\n",
    "plt.show()"
   ]
  },
  {
   "cell_type": "markdown",
   "metadata": {
    "id": "DweDdpGiITcX"
   },
   "source": [
    "Here are more resources to learn about making plots with Python:\n",
    "- [Overview of different plot types in Matplotlib](https://matplotlib.org/stable/plot_types/index.html#plot-types)\n",
    "- [Matplotlib Pyplot tutorial](https://matplotlib.org/stable/tutorials/pyplot.html)\n",
    "- [DataCamp's Introduction to Plotting with Matplotlib in Python](https://www.datacamp.com/tutorial/matplotlib-tutorial-python)"
   ]
  }
 ],
 "metadata": {
  "colab": {
   "authorship_tag": "ABX9TyM7UHisKr1Jd6R0Pd3dPxDx",
   "provenance": []
  },
  "kernelspec": {
   "display_name": "Python 3",
   "name": "python3"
  },
  "language_info": {
   "name": "python"
  }
 },
 "nbformat": 4,
 "nbformat_minor": 0
}
