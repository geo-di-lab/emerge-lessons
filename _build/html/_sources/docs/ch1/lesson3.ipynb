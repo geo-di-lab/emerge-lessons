{
  "nbformat": 4,
  "nbformat_minor": 0,
  "metadata": {
    "colab": {
      "provenance": []
    },
    "kernelspec": {
      "name": "python3",
      "display_name": "Python 3"
    },
    "language_info": {
      "name": "python"
    }
  },
  "cells": [
    {
      "cell_type": "markdown",
      "source": [
        "# What is GLOBE Observer?"
      ],
      "metadata": {
        "id": "-E3QHkDl1t1G"
      }
    },
    {
      "cell_type": "markdown",
      "source": [
        "GLOBE Observer is a NASA-funded citizen science program that uses an app to allow volunteers to collect and share environmental data, helping scientists understand the Earth's climate and environment."
      ],
      "metadata": {
        "id": "QXvQ0Sed1xH7"
      }
    },
    {
      "cell_type": "markdown",
      "source": [
        "## GLOBE Observer App"
      ],
      "metadata": {
        "id": "gL7UAZ441w37"
      }
    },
    {
      "cell_type": "markdown",
      "source": [
        "## Mosquito Habitat Mapper"
      ],
      "metadata": {
        "id": "LGkN9He01w03"
      }
    },
    {
      "cell_type": "markdown",
      "source": [
        "### History\n",
        "\n",
        "\n",
        "### App\n",
        "\n",
        "\n",
        "### Outputs\n"
      ],
      "metadata": {
        "id": "JMaRvKVf2RVH"
      }
    },
    {
      "cell_type": "markdown",
      "source": [
        "## Land Cover"
      ],
      "metadata": {
        "id": "MgH9yXnE1wyM"
      }
    },
    {
      "cell_type": "markdown",
      "source": [
        "### History\n",
        "\n",
        "\n",
        "### App\n",
        "\n",
        "\n",
        "### Outputs"
      ],
      "metadata": {
        "id": "q6kmSdoi2ROD"
      }
    }
  ]
}