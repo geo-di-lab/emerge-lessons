{
  "nbformat": 4,
  "nbformat_minor": 0,
  "metadata": {
    "colab": {
      "provenance": []
    },
    "kernelspec": {
      "name": "python3",
      "display_name": "Python 3"
    },
    "language_info": {
      "name": "python"
    }
  },
  "cells": [
    {
      "cell_type": "markdown",
      "source": [
        "# What is Citizen Science?"
      ],
      "metadata": {
        "id": "GkHr5ZbF1Eca"
      }
    },
    {
      "cell_type": "markdown",
      "source": [],
      "metadata": {
        "id": "qTQQ9wIk1Mkj"
      }
    },
    {
      "cell_type": "markdown",
      "source": [
        "## Citizen Science in Libraries"
      ],
      "metadata": {
        "id": "w7Kgqv3p1M1W"
      }
    },
    {
      "cell_type": "markdown",
      "source": [],
      "metadata": {
        "id": "X2wdYdRK1P8o"
      }
    },
    {
      "cell_type": "markdown",
      "source": [
        "## Citizen Science in Classrooms"
      ],
      "metadata": {
        "id": "UbbCjDpa1QQn"
      }
    },
    {
      "cell_type": "markdown",
      "source": [],
      "metadata": {
        "id": "Vzlc7Gia1S6T"
      }
    },
    {
      "cell_type": "markdown",
      "source": [
        "## Citizen Science for Policy"
      ],
      "metadata": {
        "id": "Jefz6f7K1TJp"
      }
    },
    {
      "cell_type": "markdown",
      "source": [],
      "metadata": {
        "id": "JnHr-bpE1gCQ"
      }
    }
  ]
}