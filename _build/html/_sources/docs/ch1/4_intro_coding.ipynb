{
  "cells": [
    {
      "cell_type": "markdown",
      "metadata": {
        "id": "eVx6EmkniKCU"
      },
      "source": [
        "# What is Coding?"
      ]
    },
    {
      "cell_type": "markdown",
      "metadata": {
        "id": "hrKJqcR1Moo3"
      },
      "source": [
        "## Intro to Python and Google Colab"
      ]
    },
    {
      "cell_type": "markdown",
      "metadata": {
        "id": "0TjwmJHJN9d9"
      },
      "source": [
        "To run the code right here in this tab, click the rocket ship icon {fa}`rocket` and choose {fa}`caret-right` Live Code.\n",
        "\n",
        "```{admonition} Alternatively, use Google Colab\n",
        ":class: dropdown\n",
        "You can run the following code using Google Colab, which runs on your browser (no installations required). Click the rocket ship icon {fa}`rocket` and choose Colab.\n",
        "\n",
        "Note: When you run a block of code for the first time, Google Colab will say `Warning: This notebook was not authored by Google`. Please click `Run Anyway`.\n",
        "```\n",
        "\n",
        "Let's go through the basics below:"
      ]
    },
    {
      "cell_type": "code",
      "execution_count": null,
      "metadata": {
        "colab": {
          "base_uri": "https://localhost:8080/"
        },
        "id": "5TiFOtaUMt6J",
        "outputId": "d875526e-29f8-4b3a-e14d-4212f6ea53a4"
      },
      "outputs": [
        {
          "name": "stdout",
          "output_type": "stream",
          "text": [
            "Hello World!\n"
          ]
        }
      ],
      "source": [
        "print(\"Hello World!\")"
      ]
    },
    {
      "cell_type": "markdown",
      "metadata": {
        "id": "f5XEu42sN8-N"
      },
      "source": [
        "Python is a powerful tool for processing and analyzing data - perfect for this project. Let's explore some of the basic functionality.\n",
        "## The Basics\n",
        "A **variable** can be used to store values calculated in expressions and then used for other calculations.\n",
        "\n",
        "Defining variables is straightforward, but in good naming practice use an underscore (_) rather than a space ( )."
      ]
    },
    {
      "cell_type": "code",
      "execution_count": null,
      "metadata": {
        "colab": {
          "base_uri": "https://localhost:8080/"
        },
        "id": "h7El0TZyOp5s",
        "outputId": "3cfedb92-b079-4249-d3f4-48a23f6435f2"
      },
      "outputs": [
        {
          "name": "stdout",
          "output_type": "stream",
          "text": [
            "Your answer is 3.\n"
          ]
        },
        {
          "data": {
            "text/plain": [
              "3"
            ]
          },
          "execution_count": 1,
          "metadata": {},
          "output_type": "execute_result"
        }
      ],
      "source": [
        "# Setting up two variables\n",
        "variable_one = 1\n",
        "variable_two = 2\n",
        "# Performing a calculation using those variables\n",
        "variable_three = variable_one + variable_two\n",
        "# Use print OR name the variable to show the output\n",
        "print(f\"Your answer is {variable_three}.\")\n",
        "\n",
        "variable_three"
      ]
    },
    {
      "cell_type": "markdown",
      "metadata": {
        "id": "FnAglLt8gSDc"
      },
      "source": [
        "An **integer** is just a number (ex. 4). A **float** is a decimal number and a **string** is text. These types of values have specific rules that allow them to be displayed together.\n",
        "\n",
        "If you look at the previous example you see\n",
        "`print(\"Your answer is\", variable_three,\".\")`\n",
        "\n",
        "This is a combination of string and float values, with commas and quotation marks separating them within the parenthesis. This formatting allows output with no error."
      ]
    },
    {
      "cell_type": "code",
      "execution_count": null,
      "metadata": {
        "colab": {
          "base_uri": "https://localhost:8080/"
        },
        "id": "uj-9NHaMinrG",
        "outputId": "e478bf3a-2cbc-4dfa-ab7a-59a736141d14"
      },
      "outputs": [
        {
          "data": {
            "text/plain": [
              "str"
            ]
          },
          "execution_count": 38,
          "metadata": {},
          "output_type": "execute_result"
        }
      ],
      "source": [
        "weather_forecast = \"Hot\"\n",
        "type(weather_forecast)"
      ]
    },
    {
      "cell_type": "code",
      "execution_count": null,
      "metadata": {
        "colab": {
          "base_uri": "https://localhost:8080/"
        },
        "id": "TobijsnGivWY",
        "outputId": "3e7f8f7c-9d11-4894-da4f-2abe3ed2d134"
      },
      "outputs": [
        {
          "data": {
            "text/plain": [
              "float"
            ]
          },
          "execution_count": 39,
          "metadata": {},
          "output_type": "execute_result"
        }
      ],
      "source": [
        "daily_temperature = 85.0\n",
        "type(daily_temperature)"
      ]
    },
    {
      "cell_type": "markdown",
      "metadata": {
        "id": "8QBf2FHpihiT"
      },
      "source": [
        "You can redefine variables or convert their types, to redefine, you take the original variable and assign it a different value."
      ]
    },
    {
      "cell_type": "code",
      "execution_count": null,
      "metadata": {
        "colab": {
          "base_uri": "https://localhost:8080/"
        },
        "id": "_d99a5SNjD5Q",
        "outputId": "a629819e-a747-472a-ea32-dc65f5af2c7b"
      },
      "outputs": [
        {
          "data": {
            "text/plain": [
              "str"
            ]
          },
          "execution_count": 2,
          "metadata": {},
          "output_type": "execute_result"
        }
      ],
      "source": [
        "daily_temperature = \"85.0\"\n",
        "type(daily_temperature)"
      ]
    },
    {
      "cell_type": "code",
      "execution_count": null,
      "metadata": {
        "colab": {
          "base_uri": "https://localhost:8080/"
        },
        "id": "dsYxp5ZDkP6Q",
        "outputId": "52f69c66-411d-4be7-8078-7a38028e4aa2"
      },
      "outputs": [
        {
          "data": {
            "text/plain": [
              "float"
            ]
          },
          "execution_count": 41,
          "metadata": {},
          "output_type": "execute_result"
        }
      ],
      "source": [
        "updated_temperature = float(daily_temperature)\n",
        "# We can confirm the type has changed by checking the type of forecastHigh or by checking the output of a code cell with the variable.\n",
        "\n",
        "type(updated_temperature)"
      ]
    },
    {
      "cell_type": "markdown",
      "metadata": {
        "id": "w6e8bP9OkzAF"
      },
      "source": [
        "So the value stays the same, but the variable type changes."
      ]
    },
    {
      "cell_type": "code",
      "execution_count": null,
      "metadata": {
        "colab": {
          "base_uri": "https://localhost:8080/"
        },
        "id": "SxZh01z7kuqO",
        "outputId": "266b428e-9045-4ef3-d060-48b31c07cb88"
      },
      "outputs": [
        {
          "name": "stdout",
          "output_type": "stream",
          "text": [
            "85.0\n"
          ]
        }
      ],
      "source": [
        "print(updated_temperature)"
      ]
    },
    {
      "cell_type": "markdown",
      "metadata": {
        "id": "hDUkjtkAlCPD"
      },
      "source": [
        "**Functions** are blocks of code that you use for a specific task that are easy to reuse.                          \n",
        "We'll define our first function in order to convert Fahrenheit to Celsius.\n",
        "\n",
        "\n",
        "*  `def` is the keyword\n",
        "*   `celsius_to_fahr` is the function name\n",
        "* `(temp)` is the parameter\n",
        "\n",
        "\n",
        "\n"
      ]
    },
    {
      "cell_type": "code",
      "execution_count": null,
      "metadata": {
        "id": "U-pvLeiWl9On"
      },
      "outputs": [],
      "source": [
        "def celsius_to_fahr(temp):\n",
        "    return 9 / 5 * temp + 32"
      ]
    },
    {
      "cell_type": "markdown",
      "metadata": {
        "id": "lq-Lxe6cmlyh"
      },
      "source": [
        "To **call** a function, it's the same as asking the terminal to `print`"
      ]
    },
    {
      "cell_type": "code",
      "execution_count": null,
      "metadata": {
        "colab": {
          "base_uri": "https://localhost:8080/"
        },
        "id": "q-pewVO5m3gn",
        "outputId": "322afd0e-5ce5-40cb-f0aa-c193bd8a6da6"
      },
      "outputs": [
        {
          "name": "stdout",
          "output_type": "stream",
          "text": [
            "The freezing point of water in Fahrenheit is: 32.0\n"
          ]
        }
      ],
      "source": [
        "freezing_point = celsius_to_fahr(0)\n",
        "print(f\"The freezing point of water in Fahrenheit is: {freezing_point}\")"
      ]
    },
    {
      "cell_type": "markdown",
      "metadata": {
        "id": "T1JHbeF9Mqj_"
      },
      "source": [
        "## Intro to Google Earth Engine (GEE)"
      ]
    },
    {
      "cell_type": "markdown",
      "metadata": {
        "id": "jCS0H9lAMlje"
      },
      "source": [
        "1. Go to [console.cloud.google.com](https://console.cloud.google.com/) and sign into your Google account if you're not already signed in. You'll see the screen below. Click \"Create Project.\"\n",
        "2. Enter a name like \"emerge-data\" and click \"Create.\" This name is your project ID. Note: If you are using a .edu or an organizational email, this page may look different and you may have other options or limitations.\n",
        "*Make note of your project ID!*\n",
        "3. After you have created your cloud project, return to this code notebook."
      ]
    },
    {
      "cell_type": "code",
      "execution_count": null,
      "metadata": {
        "id": "vlKgpwRYib3C"
      },
      "outputs": [],
      "source": [
        "import ee\n",
        "\n",
        "# Trigger the authentication flow.\n",
        "ee.Authenticate()\n",
        "\n",
        "# Initialize the library. Make sure you change \"emerge-data\" to your project ID\n",
        "ee.Initialize(project='emerge-data')"
      ]
    },
    {
      "cell_type": "markdown",
      "metadata": {
        "id": "28c0hQ0JileB"
      },
      "source": [
        "### Basic Terminology - Using Collections in GEE\n",
        "\n",
        "**Features** are geometric objects with a list of properties\n",
        "> ee.Feature\n",
        "\n",
        "**Images** are similar to features, but can have several bands\n",
        "\n",
        "\n",
        "> ee.Image\n",
        "\n",
        "\n",
        "**Collections** are groups of features or images\n",
        "\n",
        "\n",
        "> ee.FeatureCollection or ee.ImageCollection\n",
        "\n",
        "\n",
        "\n"
      ]
    },
    {
      "cell_type": "markdown",
      "metadata": {
        "id": "c7YWIFn0l-Lb"
      },
      "source": [
        "When you go into the details of an individual dataset, you can find the snippet of how to import that specific dataset\n",
        "\n",
        "For this example, we’ll be using the MODIS Terra Land Surface Temperature (LST) dataset as well as the USGS Ground Elevation (ELV)\n",
        "\n",
        "We'll import those two datasets now\n"
      ]
    },
    {
      "cell_type": "code",
      "execution_count": null,
      "metadata": {
        "id": "te32EnHdmREN"
      },
      "outputs": [],
      "source": [
        "# Import the MODIS land surface temperature collection.\n",
        "lst = ee.ImageCollection('MODIS/061/MOD11A1')\n",
        "\n",
        "# Import the USGS ground elevation image.\n",
        "elv = ee.Image('USGS/SRTMGL1_003')"
      ]
    },
    {
      "cell_type": "markdown",
      "metadata": {
        "id": "4qLP6-JTmX7N"
      },
      "source": [
        "Datasets include several sets of information across several bands, with some datasets containing daily imagery in a 1km resolution (like the MODIS LST dataset we’re using) to one image a year in a 30m resolution for others.\n",
        "\n",
        "The LST Collection uses these bands\n",
        "\n",
        "\n",
        "*   LST_Day_1km: Daytime Land Surface Temperature\n",
        "*   Day_view_time: Local time of day observation\n",
        "* LST_Night_1km: Nighttime Land Surface Temperature\n",
        "\n",
        "With so many images within the collection, we need to filter those images using dates\n",
        "\n",
        "Use either of these for filtering\n",
        "```\n",
        "filterDate()\n",
        "select()\n",
        "```\n"
      ]
    },
    {
      "cell_type": "markdown",
      "metadata": {
        "id": "4DP3x34gmdEl"
      },
      "source": []
    },
    {
      "cell_type": "code",
      "execution_count": null,
      "metadata": {
        "id": "Dg-8dvH2omlJ"
      },
      "outputs": [],
      "source": [
        "# Initial date of interest (inclusive).\n",
        "i_date = '2017-01-01'\n",
        "\n",
        "# Final date of interest (exclusive).\n",
        "f_date = '2020-01-01'\n",
        "\n",
        "# Selection of appropriate bands and dates for LST.\n",
        "lst = lst.select('LST_Day_1km', 'QC_Day').filterDate(i_date, f_date)"
      ]
    },
    {
      "cell_type": "markdown",
      "metadata": {
        "id": "Zt4zg146ovzP"
      },
      "source": [
        "Next, we’ll define two points of interest (POIs) in relation to what we want to look at. Since we’re looking at Land Surface Emissivity (land temp), we’ll make a comparison of the temperature in an urban area versus a rural area."
      ]
    },
    {
      "cell_type": "code",
      "execution_count": null,
      "metadata": {
        "id": "GbbuDJnKovfW"
      },
      "outputs": [],
      "source": [
        "# Define the urban location of interest as a point near Miami, Florida.\n",
        "urban_lon = -80.196432\n",
        "urban_lat = 25.779766\n",
        "urban_poi = ee.Geometry.Point(urban_lon, urban_lat)\n",
        "\n",
        "# Define the rural location of interest as a point away from the city in Homestead, Florida.\n",
        "rural_lon = -80.4998113\n",
        "rural_lat = 25.3933527\n",
        "rural_poi = ee.Geometry.Point(rural_lon, rural_lat)"
      ]
    },
    {
      "cell_type": "markdown",
      "metadata": {
        "id": "A7Lg6j95o_dc"
      },
      "source": [
        "The MODIS emissivity dataset that we’re using should be corrected by a scale of 0.02 to get units of Kelvin. You can find this in the catalog of the dataset that you’re using and going into the bands.\n",
        "\n",
        "*Remember to convert your values for a final answer!*\n",
        "\n",
        "We need the average land temperature of the two POIs we’re looking at, so we’ll use mean() .\n"
      ]
    },
    {
      "cell_type": "code",
      "execution_count": null,
      "metadata": {
        "colab": {
          "base_uri": "https://localhost:8080/"
        },
        "id": "WzCDlvvQpKAo",
        "outputId": "305de3d4-cf1c-4ab0-f766-50d7b484c0ba"
      },
      "outputs": [
        {
          "name": "stdout",
          "output_type": "stream",
          "text": [
            "The mean land surface temperature for the urban point is 32.36 °C\n",
            "The rural  land surface temperature for the urban point is 26.56 °C\n"
          ]
        }
      ],
      "source": [
        "scale = 1000  # scale in meters\n",
        "\n",
        "# Function to convert LST to Celsius and get mean LST.\n",
        "def get_mean_lst(poi, scale):\n",
        "    mean_lst = lst.mean().sample(poi, scale).first().get('LST_Day_1km').getInfo()\n",
        "    return round(mean_lst * 0.02 - 273.15, 2)  # Convert to Celsius\n",
        "\n",
        "# Get mean LST for both urban and rural points.\n",
        "urban_lst = get_mean_lst(urban_poi, scale)\n",
        "rural_lst = get_mean_lst(rural_poi, scale)\n",
        "\n",
        "print (\"The mean land surface temperature for the urban point is\",urban_lst,\"°C\")\n",
        "print (\"The rural  land surface temperature for the urban point is\",rural_lst,\"°C\")\n",
        "\n",
        "# Maybe add an example for students to use their own coordinates/database?\n",
        "# Maybe show getregion to export to GeoTIFF with pandas??\n",
        "# https://developers.google.com/earth-engine/api_docs"
      ]
    }
  ],
  "metadata": {
    "colab": {
      "provenance": []
    },
    "kernelspec": {
      "display_name": "Python 3",
      "name": "python3"
    },
    "language_info": {
      "name": "python"
    }
  },
  "nbformat": 4,
  "nbformat_minor": 0
}
