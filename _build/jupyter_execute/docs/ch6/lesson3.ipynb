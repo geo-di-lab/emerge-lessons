{
 "cells": [
  {
   "cell_type": "markdown",
   "metadata": {
    "id": "Z7iSQtxy1PzC"
   },
   "source": [
    "[![Open in Colab](https://colab.research.google.com/assets/colab-badge.svg)](https://colab.research.google.com/github/geo-di-lab/emerge-lessons/blob/main/docs/ch6/lesson3.ipynb)"
   ]
  },
  {
   "cell_type": "markdown",
   "metadata": {
    "id": "ZsWzYX0wHGvs"
   },
   "source": [
    "# Earth Engine Data\n",
    "This template file shows how you can download climate and environmental data from a point & time using Google Earth Engine.\n",
    "\n",
    "Note: If you do not already have Google Earth Engine set up, [this lesson](https://geo-di-lab.github.io/emerge-lessons/docs/ch1/lesson5a.html) explains how to sign up and get access! Google Earth Engine is free to use for research, education, and nonprofit use."
   ]
  },
  {
   "cell_type": "code",
   "execution_count": 1,
   "metadata": {
    "colab": {
     "base_uri": "https://localhost:8080/",
     "height": 17
    },
    "executionInfo": {
     "elapsed": 708,
     "status": "ok",
     "timestamp": 1755214469943,
     "user": {
      "displayName": "Olivia Zhang",
      "userId": "05095522397576996566"
     },
     "user_tz": 240
    },
    "id": "Q8RdrdQfVnsR",
    "outputId": "5fb922db-665b-4e00-f714-6213c4f2eacb"
   },
   "outputs": [],
   "source": [
    "import folium\n",
    "import ee\n",
    "import geemap\n",
    "import geopandas as gpd\n",
    "ee.Authenticate()\n",
    "\n",
    "# Write your project ID here, in quotes\n",
    "ee.Initialize(project = \"emerge-lessons\")\n",
    "\n",
    "def add_ee_layer(self, ee_image_object, vis_params, name):\n",
    "    \"\"\"Adds a method for displaying Earth Engine image tiles to folium map.\"\"\"\n",
    "    map_id_dict = ee.Image(ee_image_object).getMapId(vis_params)\n",
    "    folium.raster_layers.TileLayer(\n",
    "        tiles=map_id_dict['tile_fetcher'].url_format,\n",
    "        attr='Map Data &copy; <a href=\"https://earthengine.google.com/\">Google Earth Engine</a>',\n",
    "        name=name,\n",
    "        overlay=True,\n",
    "        control=True\n",
    "    ).add_to(self)\n",
    "\n",
    "folium.Map.add_ee_layer = add_ee_layer"
   ]
  },
  {
   "cell_type": "markdown",
   "metadata": {
    "id": "hXEx4L4CrODu"
   },
   "source": [
    "## Load Earth Engine Data"
   ]
  },
  {
   "cell_type": "markdown",
   "metadata": {
    "id": "MaGnE70lnn9p"
   },
   "source": [
    "Go to the [Earth Engine Data Catalog](https://developers.google.com/earth-engine/datasets/catalog) and find the dataset(s) you are interested in. There are a wide variety of datasets available on Google Earth Engine, including temperature, land cover, satellite, and agriculture.\n",
    "\n",
    "Once you click on a dataset, there should be a section to the right of the image that says *Earth Engine Snippet* that starts with `ee.Image` or `ee.ImageCollection`. Copy this snippet.\n",
    "\n",
    "If the dataset you clicked on has a snippet starting with `ee.ImageCollection`, this indicates that it is a [stack or sequence of images](https://developers.google.com/earth-engine/guides/ic_creating#colab-python). Usually, this means there are images from multiple dates (or regions) that you can choose from. If your Earth Engine snippet starts with `ee.Image` this indicates that there is only one image and you cannot filter by date."
   ]
  },
  {
   "cell_type": "markdown",
   "metadata": {
    "id": "n_osDgD6yuEG"
   },
   "source": [
    "Below, paste the \"Earth Engine Snippet\" for the dataset you are interested in. For example, for [CFSV2: NCEP Climate Forecast System Version 2, 6-Hourly Products](https://developers.google.com/earth-engine/datasets/catalog/NOAA_CFSV2_FOR6H), it would look like\n",
    "```\n",
    "image = ee.ImageCollection(\"NOAA/CFSV2/FOR6H\")\n",
    "```"
   ]
  },
  {
   "cell_type": "code",
   "execution_count": null,
   "metadata": {},
   "outputs": [],
   "source": [
    "image = "
   ]
  },
  {
   "cell_type": "markdown",
   "metadata": {
    "id": "v7w8ldXo4BOD"
   },
   "source": [
    "In the Earth Engine page for your selected dataset, scroll to the very bottom. There should be a **Explore with Earth Engine** section with code snippets showing how to load the data. However, sometimes this code snippet is only available in JavaScript, another programming language. If this is the case, copy and paste the JavaScript code below, and then run the code block, to convert it to Python."
   ]
  },
  {
   "cell_type": "code",
   "execution_count": null,
   "metadata": {
    "colab": {
     "base_uri": "https://localhost:8080/",
     "height": 17
    },
    "executionInfo": {
     "elapsed": 6,
     "status": "ok",
     "timestamp": 1755216028288,
     "user": {
      "displayName": "Olivia Zhang",
      "userId": "05095522397576996566"
     },
     "user_tz": 240
    },
    "id": "pudw1f8c4A1a",
    "outputId": "ad4431d1-3166-4a0b-929f-19096211ee66"
   },
   "outputs": [],
   "source": [
    "javascript_code = \"\"\"\n",
    "// Paste code below\n",
    "\n",
    "\n",
    "\n",
    "// Paste code above\n",
    "\"\"\"\n",
    "\n",
    "geemap.js_snippet_to_py(\n",
    "    javascript_code, add_new_cell=True, import_ee=True, import_geemap=True, show_map=True\n",
    ")"
   ]
  },
  {
   "cell_type": "markdown",
   "metadata": {
    "id": "cIf8tCUW4rdm"
   },
   "source": [
    "The Python code now appears. Check to see if there are any variables with \"vis\" like visParams. This can also be named specific to the data like \"maximumTemperatureVis.\" If you find it, copy everything inside of the brackets {} and paste it inside of the brackets for `visual_params = {}` in the code below. We will use this later on in the code to visualize the data on a map. If there are no visParams or similar variable, simply put `visual params = {}`\n",
    "\n",
    "Before running this newly-generated Python code, check to see if there are any `ee.Filter.date()` or mention of dates. If there are, you can replace these with the dates you want. Run the code and you should see a map appear showing the data."
   ]
  },
  {
   "cell_type": "code",
   "execution_count": null,
   "metadata": {
    "id": "rgYG3buyBarY"
   },
   "outputs": [],
   "source": [
    "visual_params = {}"
   ]
  },
  {
   "cell_type": "markdown",
   "metadata": {
    "id": "upv15eww6Y4E"
   },
   "source": [
    "In the Earth Engine catalog, go to the \"Bands\" page. The first part of the bands page should say **Pixel Size**. Please put the pixel size in the code below, in meters."
   ]
  },
  {
   "cell_type": "code",
   "execution_count": null,
   "metadata": {
    "id": "YiX7cT7w63VY"
   },
   "outputs": [],
   "source": [
    "pixel_size = "
   ]
  },
  {
   "cell_type": "markdown",
   "metadata": {
    "id": "pGs7A-4B67bt"
   },
   "source": [
    "On the \"Bands\" page, scroll down to see the list of bands, and choose the one you are most interested in. Write the name of the band below. For example, the climate forecast dataset has band names like \"Temperature_height_above_ground\" and \"Surface_pressure.\""
   ]
  },
  {
   "cell_type": "code",
   "execution_count": null,
   "metadata": {
    "id": "VcQpIPSb7Iqy"
   },
   "outputs": [],
   "source": [
    "band_name = \"\""
   ]
  },
  {
   "cell_type": "markdown",
   "metadata": {
    "id": "m_Xgmmowg7Bl"
   },
   "source": [
    "## Get data for a specific point"
   ]
  },
  {
   "cell_type": "markdown",
   "metadata": {
    "id": "BS6IG75i1Q1q"
   },
   "source": [
    "If your dataset is an `ee.ImageCollection`, write the start and end date in the format of \"yyyy-mm-dd\" like \"2025-06-01\" (June 1, 2025). Note that the start date is included while the end date is not. For example, the code below will filter the Earth Engine data to images on or after June 1, 2025 and up to, but not including, July 1.\n",
    "\n",
    "If your dataset is an `ee.Image` feel free to leave the dates blank.\n",
    "```\n",
    "start_date = \"2025-06-01\"\n",
    "end_date = \"2025-07-01\"\n",
    "```"
   ]
  },
  {
   "cell_type": "code",
   "execution_count": null,
   "metadata": {
    "id": "DS-AT0DQkS1H"
   },
   "outputs": [],
   "source": [
    "start_date = \"\"\n",
    "end_date = \"\""
   ]
  },
  {
   "cell_type": "markdown",
   "metadata": {
    "id": "_vSRXsT-hOYY"
   },
   "source": [
    "Enter a latitude and longitude for a place you are interested in analyzing. One way to get the latitude and longitude coordinates is to go to [Google Maps](https://www.google.com/maps), left-click on an area you are interested in, and then copy the coordinates."
   ]
  },
  {
   "cell_type": "code",
   "execution_count": null,
   "metadata": {
    "id": "FBDtPGCtf-N2"
   },
   "outputs": [],
   "source": [
    "latitude = \n",
    "longitude = "
   ]
  },
  {
   "cell_type": "markdown",
   "metadata": {
    "id": "89eoFnaH7hu3"
   },
   "source": [
    "For this example, we will use the following details. You can use the same (or different) code.\n",
    "```\n",
    "image = ee.ImageCollection(\"NOAA/CFSV2/FOR6H\")\n",
    "\n",
    "visual_params = {\n",
    "    \"min\": 220.0,\n",
    "    \"max\": 310.0,\n",
    "    \"palette\": ['blue', 'purple', 'cyan', 'green', 'yellow', 'red'],\n",
    "}\n",
    "pixel_size = 22264\n",
    "band_name = \"Temperature_height_above_ground\"\n",
    "\n",
    "start_date = \"2025-06-01\"\n",
    "end_date = \"2025-07-01\"\n",
    "\n",
    "latitude = 25.93805\n",
    "longitude = -80.78048\n",
    "```"
   ]
  },
  {
   "cell_type": "markdown",
   "metadata": {
    "id": "zNWUoaPrhAG4"
   },
   "source": [
    "Double check that the coordinates are correct. If the point is at a random location or over water, it is possible that the latitude and longitude are flipped, so you can revise your code above if needed. In Florida, latitude is generally between 24 and 31, and longitude is between -80 and -88."
   ]
  },
  {
   "cell_type": "code",
   "execution_count": 3,
   "metadata": {
    "colab": {
     "base_uri": "https://localhost:8080/",
     "height": 968
    },
    "executionInfo": {
     "elapsed": 50,
     "status": "ok",
     "timestamp": 1755216061330,
     "user": {
      "displayName": "Olivia Zhang",
      "userId": "05095522397576996566"
     },
     "user_tz": 240
    },
    "id": "H0nQ-hotgs6w",
    "outputId": "17297af2-245c-4f5b-bf1b-4654461018a0"
   },
   "outputs": [
    {
     "data": {
      "text/html": [
       "\n",
       "            <style>\n",
       "                .geemap-dark {\n",
       "                    --jp-widgets-color: white;\n",
       "                    --jp-widgets-label-color: white;\n",
       "                    --jp-ui-font-color1: white;\n",
       "                    --jp-layout-color2: #454545;\n",
       "                    background-color: #383838;\n",
       "                }\n",
       "\n",
       "                .geemap-dark .jupyter-button {\n",
       "                    --jp-layout-color3: #383838;\n",
       "                }\n",
       "\n",
       "                .geemap-colab {\n",
       "                    background-color: var(--colab-primary-surface-color, white);\n",
       "                }\n",
       "\n",
       "                .geemap-colab .jupyter-button {\n",
       "                    --jp-layout-color3: var(--colab-primary-surface-color, white);\n",
       "                }\n",
       "            </style>\n",
       "            "
      ],
      "text/plain": [
       "<IPython.core.display.HTML object>"
      ]
     },
     "metadata": {},
     "output_type": "display_data"
    },
    {
     "data": {
      "text/html": [
       "<div style=\"width:100%;\"><div style=\"position:relative;width:100%;height:0;padding-bottom:60%;\"><span style=\"color:#565656\">Make this Notebook Trusted to load map: File -> Trust Notebook</span><iframe srcdoc=\"&lt;!DOCTYPE html&gt;\n",
       "&lt;html&gt;\n",
       "&lt;head&gt;\n",
       "    \n",
       "    &lt;meta http-equiv=&quot;content-type&quot; content=&quot;text/html; charset=UTF-8&quot; /&gt;\n",
       "    &lt;script src=&quot;https://cdn.jsdelivr.net/npm/leaflet@1.9.3/dist/leaflet.js&quot;&gt;&lt;/script&gt;\n",
       "    &lt;script src=&quot;https://code.jquery.com/jquery-3.7.1.min.js&quot;&gt;&lt;/script&gt;\n",
       "    &lt;script src=&quot;https://cdn.jsdelivr.net/npm/bootstrap@5.2.2/dist/js/bootstrap.bundle.min.js&quot;&gt;&lt;/script&gt;\n",
       "    &lt;script src=&quot;https://cdnjs.cloudflare.com/ajax/libs/Leaflet.awesome-markers/2.0.2/leaflet.awesome-markers.js&quot;&gt;&lt;/script&gt;\n",
       "    &lt;link rel=&quot;stylesheet&quot; href=&quot;https://cdn.jsdelivr.net/npm/leaflet@1.9.3/dist/leaflet.css&quot;/&gt;\n",
       "    &lt;link rel=&quot;stylesheet&quot; href=&quot;https://cdn.jsdelivr.net/npm/bootstrap@5.2.2/dist/css/bootstrap.min.css&quot;/&gt;\n",
       "    &lt;link rel=&quot;stylesheet&quot; href=&quot;https://netdna.bootstrapcdn.com/bootstrap/3.0.0/css/bootstrap-glyphicons.css&quot;/&gt;\n",
       "    &lt;link rel=&quot;stylesheet&quot; href=&quot;https://cdn.jsdelivr.net/npm/@fortawesome/fontawesome-free@6.2.0/css/all.min.css&quot;/&gt;\n",
       "    &lt;link rel=&quot;stylesheet&quot; href=&quot;https://cdnjs.cloudflare.com/ajax/libs/Leaflet.awesome-markers/2.0.2/leaflet.awesome-markers.css&quot;/&gt;\n",
       "    &lt;link rel=&quot;stylesheet&quot; href=&quot;https://cdn.jsdelivr.net/gh/python-visualization/folium/folium/templates/leaflet.awesome.rotate.min.css&quot;/&gt;\n",
       "    \n",
       "            &lt;meta name=&quot;viewport&quot; content=&quot;width=device-width,\n",
       "                initial-scale=1.0, maximum-scale=1.0, user-scalable=no&quot; /&gt;\n",
       "            &lt;style&gt;\n",
       "                #map_f9e351be62ab8d36e17459c1c8242fe2 {\n",
       "                    position: relative;\n",
       "                    width: 100.0%;\n",
       "                    height: 100.0%;\n",
       "                    left: 0.0%;\n",
       "                    top: 0.0%;\n",
       "                }\n",
       "                .leaflet-container { font-size: 1rem; }\n",
       "            &lt;/style&gt;\n",
       "\n",
       "            &lt;style&gt;html, body {\n",
       "                width: 100%;\n",
       "                height: 100%;\n",
       "                margin: 0;\n",
       "                padding: 0;\n",
       "            }\n",
       "            &lt;/style&gt;\n",
       "\n",
       "            &lt;style&gt;#map {\n",
       "                position:absolute;\n",
       "                top:0;\n",
       "                bottom:0;\n",
       "                right:0;\n",
       "                left:0;\n",
       "                }\n",
       "            &lt;/style&gt;\n",
       "\n",
       "            &lt;script&gt;\n",
       "                L_NO_TOUCH = false;\n",
       "                L_DISABLE_3D = false;\n",
       "            &lt;/script&gt;\n",
       "\n",
       "        \n",
       "&lt;/head&gt;\n",
       "&lt;body&gt;\n",
       "    \n",
       "    \n",
       "            &lt;div class=&quot;folium-map&quot; id=&quot;map_f9e351be62ab8d36e17459c1c8242fe2&quot; &gt;&lt;/div&gt;\n",
       "        \n",
       "&lt;/body&gt;\n",
       "&lt;script&gt;\n",
       "    \n",
       "    \n",
       "            var map_f9e351be62ab8d36e17459c1c8242fe2 = L.map(\n",
       "                &quot;map_f9e351be62ab8d36e17459c1c8242fe2&quot;,\n",
       "                {\n",
       "                    center: [25.93805, -80.78048],\n",
       "                    crs: L.CRS.EPSG3857,\n",
       "                    ...{\n",
       "  &quot;zoom&quot;: 10,\n",
       "  &quot;zoomControl&quot;: true,\n",
       "  &quot;preferCanvas&quot;: false,\n",
       "}\n",
       "\n",
       "                }\n",
       "            );\n",
       "\n",
       "            \n",
       "\n",
       "        \n",
       "    \n",
       "            var tile_layer_6379a69d17c2846529b336b024df0c74 = L.tileLayer(\n",
       "                &quot;https://tile.openstreetmap.org/{z}/{x}/{y}.png&quot;,\n",
       "                {\n",
       "  &quot;minZoom&quot;: 0,\n",
       "  &quot;maxZoom&quot;: 19,\n",
       "  &quot;maxNativeZoom&quot;: 19,\n",
       "  &quot;noWrap&quot;: false,\n",
       "  &quot;attribution&quot;: &quot;\\u0026copy; \\u003ca href=\\&quot;https://www.openstreetmap.org/copyright\\&quot;\\u003eOpenStreetMap\\u003c/a\\u003e contributors&quot;,\n",
       "  &quot;subdomains&quot;: &quot;abc&quot;,\n",
       "  &quot;detectRetina&quot;: false,\n",
       "  &quot;tms&quot;: false,\n",
       "  &quot;opacity&quot;: 1,\n",
       "}\n",
       "\n",
       "            );\n",
       "        \n",
       "    \n",
       "            tile_layer_6379a69d17c2846529b336b024df0c74.addTo(map_f9e351be62ab8d36e17459c1c8242fe2);\n",
       "        \n",
       "    \n",
       "            var marker_88a2f63e49a186ba4b4e2b0a7a439d37 = L.marker(\n",
       "                [25.93805, -80.78048],\n",
       "                {\n",
       "}\n",
       "            ).addTo(map_f9e351be62ab8d36e17459c1c8242fe2);\n",
       "        \n",
       "&lt;/script&gt;\n",
       "&lt;/html&gt;\" style=\"position:absolute;width:100%;height:100%;left:0;top:0;border:none !important;\" allowfullscreen webkitallowfullscreen mozallowfullscreen></iframe></div></div>"
      ],
      "text/plain": [
       "<folium.folium.Map at 0x202d8099c90>"
      ]
     },
     "metadata": {},
     "output_type": "display_data"
    }
   ],
   "source": [
    "point = ee.Geometry.Point(longitude, latitude)\n",
    "\n",
    "map = folium.Map(location=[latitude, longitude], tiles=\"OpenStreetMap\", zoom_start=10)\n",
    "folium.Marker(location=[latitude, longitude]).add_to(map)\n",
    "display(map)"
   ]
  },
  {
   "cell_type": "markdown",
   "metadata": {
    "id": "6dGugM0z1nJk"
   },
   "source": [
    "Using the information you found in the first part of this notebook, we'll extract the data at the given date range and coordinates.\n",
    "\n",
    "For the second line, `.median()` is used for this example, but you can also use `.mean()`, `.sum()`, `.min()`, `.max()`, depending on your data."
   ]
  },
  {
   "cell_type": "code",
   "execution_count": 4,
   "metadata": {
    "colab": {
     "base_uri": "https://localhost:8080/",
     "height": 34
    },
    "executionInfo": {
     "elapsed": 278,
     "status": "ok",
     "timestamp": 1755216064343,
     "user": {
      "displayName": "Olivia Zhang",
      "userId": "05095522397576996566"
     },
     "user_tz": 240
    },
    "id": "Q76GrQR-8T_N",
    "outputId": "6e61f4c9-f5d9-4ba9-e0c4-e7ab7448f486"
   },
   "outputs": [
    {
     "data": {
      "text/html": [
       "\n",
       "            <style>\n",
       "                .geemap-dark {\n",
       "                    --jp-widgets-color: white;\n",
       "                    --jp-widgets-label-color: white;\n",
       "                    --jp-ui-font-color1: white;\n",
       "                    --jp-layout-color2: #454545;\n",
       "                    background-color: #383838;\n",
       "                }\n",
       "\n",
       "                .geemap-dark .jupyter-button {\n",
       "                    --jp-layout-color3: #383838;\n",
       "                }\n",
       "\n",
       "                .geemap-colab {\n",
       "                    background-color: var(--colab-primary-surface-color, white);\n",
       "                }\n",
       "\n",
       "                .geemap-colab .jupyter-button {\n",
       "                    --jp-layout-color3: var(--colab-primary-surface-color, white);\n",
       "                }\n",
       "            </style>\n",
       "            "
      ],
      "text/plain": [
       "<IPython.core.display.HTML object>"
      ]
     },
     "metadata": {},
     "output_type": "display_data"
    },
    {
     "name": "stdout",
     "output_type": "stream",
     "text": [
      "From 2025-06-01 to 2025-07-01, the value for the band \"Temperature_height_above_ground\" is 300.6285095214844.\n"
     ]
    }
   ],
   "source": [
    "data_at_point = (image.filterDate(start_date, end_date)\n",
    "                      .median()\n",
    "                      .sample(point, pixel_size)\n",
    "                      .first()\n",
    "                      .get(band_name)\n",
    "                      .getInfo()\n",
    ")\n",
    "\n",
    "print(f'From {start_date} to {end_date}, the value for the band \"{band_name}\" is {data_at_point}.')"
   ]
  },
  {
   "cell_type": "markdown",
   "metadata": {
    "id": "HwKQQwAMg9AP"
   },
   "source": [
    "## Get data over a region"
   ]
  },
  {
   "cell_type": "markdown",
   "metadata": {
    "id": "E9027PCA_XoM"
   },
   "source": [
    "To get the data for a region, you need to load a boundary. For example, this can be a statem, county, or city boundary. For this example, we'll use the Florida state boundary."
   ]
  },
  {
   "cell_type": "markdown",
   "metadata": {
    "id": "x_wxo79I_te0"
   },
   "source": [
    "We'll load data that we have already downloaded from the [U.S. Census](https://www.census.gov/geographies/mapping-files/time-series/geo/cartographic-boundary.html) for Florida."
   ]
  },
  {
   "cell_type": "code",
   "execution_count": 5,
   "metadata": {
    "colab": {
     "base_uri": "https://localhost:8080/",
     "height": 17
    },
    "executionInfo": {
     "elapsed": 869,
     "status": "ok",
     "timestamp": 1755216067231,
     "user": {
      "displayName": "Olivia Zhang",
      "userId": "05095522397576996566"
     },
     "user_tz": 240
    },
    "id": "QABaMbJLg-d5",
    "outputId": "6c621099-3687-4e25-cd4f-691101a90e27"
   },
   "outputs": [
    {
     "data": {
      "text/html": [
       "\n",
       "            <style>\n",
       "                .geemap-dark {\n",
       "                    --jp-widgets-color: white;\n",
       "                    --jp-widgets-label-color: white;\n",
       "                    --jp-ui-font-color1: white;\n",
       "                    --jp-layout-color2: #454545;\n",
       "                    background-color: #383838;\n",
       "                }\n",
       "\n",
       "                .geemap-dark .jupyter-button {\n",
       "                    --jp-layout-color3: #383838;\n",
       "                }\n",
       "\n",
       "                .geemap-colab {\n",
       "                    background-color: var(--colab-primary-surface-color, white);\n",
       "                }\n",
       "\n",
       "                .geemap-colab .jupyter-button {\n",
       "                    --jp-layout-color3: var(--colab-primary-surface-color, white);\n",
       "                }\n",
       "            </style>\n",
       "            "
      ],
      "text/plain": [
       "<IPython.core.display.HTML object>"
      ]
     },
     "metadata": {},
     "output_type": "display_data"
    }
   ],
   "source": [
    "fl = gpd.read_file('https://github.com/geo-di-lab/emerge-lessons/raw/refs/heads/main/docs/data/florida_counties.geojson')"
   ]
  },
  {
   "cell_type": "markdown",
   "metadata": {
    "id": "bMIltx5BAD8u"
   },
   "source": [
    "Convert the boundary to Earth Engine format."
   ]
  },
  {
   "cell_type": "code",
   "execution_count": 6,
   "metadata": {
    "colab": {
     "base_uri": "https://localhost:8080/",
     "height": 17
    },
    "executionInfo": {
     "elapsed": 31,
     "status": "ok",
     "timestamp": 1755216067843,
     "user": {
      "displayName": "Olivia Zhang",
      "userId": "05095522397576996566"
     },
     "user_tz": 240
    },
    "id": "X5oNMdk6_74U",
    "outputId": "22dfb007-bfde-4e9c-cb8f-208048009f33"
   },
   "outputs": [
    {
     "data": {
      "text/html": [
       "\n",
       "            <style>\n",
       "                .geemap-dark {\n",
       "                    --jp-widgets-color: white;\n",
       "                    --jp-widgets-label-color: white;\n",
       "                    --jp-ui-font-color1: white;\n",
       "                    --jp-layout-color2: #454545;\n",
       "                    background-color: #383838;\n",
       "                }\n",
       "\n",
       "                .geemap-dark .jupyter-button {\n",
       "                    --jp-layout-color3: #383838;\n",
       "                }\n",
       "\n",
       "                .geemap-colab {\n",
       "                    background-color: var(--colab-primary-surface-color, white);\n",
       "                }\n",
       "\n",
       "                .geemap-colab .jupyter-button {\n",
       "                    --jp-layout-color3: var(--colab-primary-surface-color, white);\n",
       "                }\n",
       "            </style>\n",
       "            "
      ],
      "text/plain": [
       "<IPython.core.display.HTML object>"
      ]
     },
     "metadata": {},
     "output_type": "display_data"
    }
   ],
   "source": [
    "region = geemap.geopandas_to_ee(fl)"
   ]
  },
  {
   "cell_type": "markdown",
   "metadata": {},
   "source": [
    "Get the data over the entire region."
   ]
  },
  {
   "cell_type": "code",
   "execution_count": 7,
   "metadata": {
    "colab": {
     "base_uri": "https://localhost:8080/",
     "height": 17
    },
    "executionInfo": {
     "elapsed": 5,
     "status": "ok",
     "timestamp": 1755216068448,
     "user": {
      "displayName": "Olivia Zhang",
      "userId": "05095522397576996566"
     },
     "user_tz": 240
    },
    "id": "ul5rc0iJACWM",
    "outputId": "e3e76b0e-13e7-4453-e104-3d03834f5e73"
   },
   "outputs": [
    {
     "data": {
      "text/html": [
       "\n",
       "            <style>\n",
       "                .geemap-dark {\n",
       "                    --jp-widgets-color: white;\n",
       "                    --jp-widgets-label-color: white;\n",
       "                    --jp-ui-font-color1: white;\n",
       "                    --jp-layout-color2: #454545;\n",
       "                    background-color: #383838;\n",
       "                }\n",
       "\n",
       "                .geemap-dark .jupyter-button {\n",
       "                    --jp-layout-color3: #383838;\n",
       "                }\n",
       "\n",
       "                .geemap-colab {\n",
       "                    background-color: var(--colab-primary-surface-color, white);\n",
       "                }\n",
       "\n",
       "                .geemap-colab .jupyter-button {\n",
       "                    --jp-layout-color3: var(--colab-primary-surface-color, white);\n",
       "                }\n",
       "            </style>\n",
       "            "
      ],
      "text/plain": [
       "<IPython.core.display.HTML object>"
      ]
     },
     "metadata": {},
     "output_type": "display_data"
    }
   ],
   "source": [
    "data_at_region = (image.filterDate(start_date, end_date)\n",
    "                      .median()\n",
    "                      .select(band_name)\n",
    "                      .clip(region)\n",
    ")"
   ]
  },
  {
   "cell_type": "markdown",
   "metadata": {},
   "source": [
    "Show a map of the region."
   ]
  },
  {
   "cell_type": "code",
   "execution_count": 8,
   "metadata": {
    "colab": {
     "base_uri": "https://localhost:8080/",
     "height": 968
    },
    "executionInfo": {
     "elapsed": 576,
     "status": "ok",
     "timestamp": 1755216091629,
     "user": {
      "displayName": "Olivia Zhang",
      "userId": "05095522397576996566"
     },
     "user_tz": 240
    },
    "id": "Ozbn8wRVAbHx",
    "outputId": "aed5f7af-39a3-4b71-e806-43c47224cc9a"
   },
   "outputs": [
    {
     "data": {
      "text/html": [
       "\n",
       "            <style>\n",
       "                .geemap-dark {\n",
       "                    --jp-widgets-color: white;\n",
       "                    --jp-widgets-label-color: white;\n",
       "                    --jp-ui-font-color1: white;\n",
       "                    --jp-layout-color2: #454545;\n",
       "                    background-color: #383838;\n",
       "                }\n",
       "\n",
       "                .geemap-dark .jupyter-button {\n",
       "                    --jp-layout-color3: #383838;\n",
       "                }\n",
       "\n",
       "                .geemap-colab {\n",
       "                    background-color: var(--colab-primary-surface-color, white);\n",
       "                }\n",
       "\n",
       "                .geemap-colab .jupyter-button {\n",
       "                    --jp-layout-color3: var(--colab-primary-surface-color, white);\n",
       "                }\n",
       "            </style>\n",
       "            "
      ],
      "text/plain": [
       "<IPython.core.display.HTML object>"
      ]
     },
     "metadata": {},
     "output_type": "display_data"
    },
    {
     "data": {
      "text/html": [
       "<div style=\"width:100%;\"><div style=\"position:relative;width:100%;height:0;padding-bottom:60%;\"><span style=\"color:#565656\">Make this Notebook Trusted to load map: File -> Trust Notebook</span><iframe srcdoc=\"&lt;!DOCTYPE html&gt;\n",
       "&lt;html&gt;\n",
       "&lt;head&gt;\n",
       "    \n",
       "    &lt;meta http-equiv=&quot;content-type&quot; content=&quot;text/html; charset=UTF-8&quot; /&gt;\n",
       "    &lt;script src=&quot;https://cdn.jsdelivr.net/npm/leaflet@1.9.3/dist/leaflet.js&quot;&gt;&lt;/script&gt;\n",
       "    &lt;script src=&quot;https://code.jquery.com/jquery-3.7.1.min.js&quot;&gt;&lt;/script&gt;\n",
       "    &lt;script src=&quot;https://cdn.jsdelivr.net/npm/bootstrap@5.2.2/dist/js/bootstrap.bundle.min.js&quot;&gt;&lt;/script&gt;\n",
       "    &lt;script src=&quot;https://cdnjs.cloudflare.com/ajax/libs/Leaflet.awesome-markers/2.0.2/leaflet.awesome-markers.js&quot;&gt;&lt;/script&gt;\n",
       "    &lt;link rel=&quot;stylesheet&quot; href=&quot;https://cdn.jsdelivr.net/npm/leaflet@1.9.3/dist/leaflet.css&quot;/&gt;\n",
       "    &lt;link rel=&quot;stylesheet&quot; href=&quot;https://cdn.jsdelivr.net/npm/bootstrap@5.2.2/dist/css/bootstrap.min.css&quot;/&gt;\n",
       "    &lt;link rel=&quot;stylesheet&quot; href=&quot;https://netdna.bootstrapcdn.com/bootstrap/3.0.0/css/bootstrap-glyphicons.css&quot;/&gt;\n",
       "    &lt;link rel=&quot;stylesheet&quot; href=&quot;https://cdn.jsdelivr.net/npm/@fortawesome/fontawesome-free@6.2.0/css/all.min.css&quot;/&gt;\n",
       "    &lt;link rel=&quot;stylesheet&quot; href=&quot;https://cdnjs.cloudflare.com/ajax/libs/Leaflet.awesome-markers/2.0.2/leaflet.awesome-markers.css&quot;/&gt;\n",
       "    &lt;link rel=&quot;stylesheet&quot; href=&quot;https://cdn.jsdelivr.net/gh/python-visualization/folium/folium/templates/leaflet.awesome.rotate.min.css&quot;/&gt;\n",
       "    \n",
       "            &lt;meta name=&quot;viewport&quot; content=&quot;width=device-width,\n",
       "                initial-scale=1.0, maximum-scale=1.0, user-scalable=no&quot; /&gt;\n",
       "            &lt;style&gt;\n",
       "                #map_09c6ea0c2a3a094f0d5b7a643d452aae {\n",
       "                    position: relative;\n",
       "                    width: 100.0%;\n",
       "                    height: 100.0%;\n",
       "                    left: 0.0%;\n",
       "                    top: 0.0%;\n",
       "                }\n",
       "                .leaflet-container { font-size: 1rem; }\n",
       "            &lt;/style&gt;\n",
       "\n",
       "            &lt;style&gt;html, body {\n",
       "                width: 100%;\n",
       "                height: 100%;\n",
       "                margin: 0;\n",
       "                padding: 0;\n",
       "            }\n",
       "            &lt;/style&gt;\n",
       "\n",
       "            &lt;style&gt;#map {\n",
       "                position:absolute;\n",
       "                top:0;\n",
       "                bottom:0;\n",
       "                right:0;\n",
       "                left:0;\n",
       "                }\n",
       "            &lt;/style&gt;\n",
       "\n",
       "            &lt;script&gt;\n",
       "                L_NO_TOUCH = false;\n",
       "                L_DISABLE_3D = false;\n",
       "            &lt;/script&gt;\n",
       "\n",
       "        \n",
       "&lt;/head&gt;\n",
       "&lt;body&gt;\n",
       "    \n",
       "    \n",
       "            &lt;div class=&quot;folium-map&quot; id=&quot;map_09c6ea0c2a3a094f0d5b7a643d452aae&quot; &gt;&lt;/div&gt;\n",
       "        \n",
       "&lt;/body&gt;\n",
       "&lt;script&gt;\n",
       "    \n",
       "    \n",
       "            var map_09c6ea0c2a3a094f0d5b7a643d452aae = L.map(\n",
       "                &quot;map_09c6ea0c2a3a094f0d5b7a643d452aae&quot;,\n",
       "                {\n",
       "                    center: [28.263363, -83.497652],\n",
       "                    crs: L.CRS.EPSG3857,\n",
       "                    ...{\n",
       "  &quot;zoom&quot;: 7,\n",
       "  &quot;zoomControl&quot;: true,\n",
       "  &quot;preferCanvas&quot;: false,\n",
       "}\n",
       "\n",
       "                }\n",
       "            );\n",
       "\n",
       "            \n",
       "\n",
       "        \n",
       "    \n",
       "            var tile_layer_f35195b0632bcda99cd962c77ba90c01 = L.tileLayer(\n",
       "                &quot;https://tile.openstreetmap.org/{z}/{x}/{y}.png&quot;,\n",
       "                {\n",
       "  &quot;minZoom&quot;: 0,\n",
       "  &quot;maxZoom&quot;: 19,\n",
       "  &quot;maxNativeZoom&quot;: 19,\n",
       "  &quot;noWrap&quot;: false,\n",
       "  &quot;attribution&quot;: &quot;\\u0026copy; \\u003ca href=\\&quot;https://www.openstreetmap.org/copyright\\&quot;\\u003eOpenStreetMap\\u003c/a\\u003e contributors&quot;,\n",
       "  &quot;subdomains&quot;: &quot;abc&quot;,\n",
       "  &quot;detectRetina&quot;: false,\n",
       "  &quot;tms&quot;: false,\n",
       "  &quot;opacity&quot;: 1,\n",
       "}\n",
       "\n",
       "            );\n",
       "        \n",
       "    \n",
       "            tile_layer_f35195b0632bcda99cd962c77ba90c01.addTo(map_09c6ea0c2a3a094f0d5b7a643d452aae);\n",
       "        \n",
       "    \n",
       "            var tile_layer_7fdd7e2e576a7e8b3922ac8e05da8588 = L.tileLayer(\n",
       "                &quot;https://earthengine.googleapis.com/v1/projects/emerge-lessons/maps/cab1f7f5e0380c8abd766dffb44d047e-9d91e3196491787507efb18413b87917/tiles/{z}/{x}/{y}&quot;,\n",
       "                {\n",
       "  &quot;minZoom&quot;: 0,\n",
       "  &quot;maxZoom&quot;: 18,\n",
       "  &quot;maxNativeZoom&quot;: 18,\n",
       "  &quot;noWrap&quot;: false,\n",
       "  &quot;attribution&quot;: &quot;Map Data \\u0026copy; \\u003ca href=\\&quot;https://earthengine.google.com/\\&quot;\\u003eGoogle Earth Engine\\u003c/a\\u003e&quot;,\n",
       "  &quot;subdomains&quot;: &quot;abc&quot;,\n",
       "  &quot;detectRetina&quot;: false,\n",
       "  &quot;tms&quot;: false,\n",
       "  &quot;opacity&quot;: 1,\n",
       "}\n",
       "\n",
       "            );\n",
       "        \n",
       "    \n",
       "            tile_layer_7fdd7e2e576a7e8b3922ac8e05da8588.addTo(map_09c6ea0c2a3a094f0d5b7a643d452aae);\n",
       "        \n",
       "&lt;/script&gt;\n",
       "&lt;/html&gt;\" style=\"position:absolute;width:100%;height:100%;left:0;top:0;border:none !important;\" allowfullscreen webkitallowfullscreen mozallowfullscreen></iframe></div></div>"
      ],
      "text/plain": [
       "<folium.folium.Map at 0x202d946df10>"
      ]
     },
     "metadata": {},
     "output_type": "display_data"
    }
   ],
   "source": [
    "map = folium.Map(location=[28.263363, -83.497652], tiles=\"OpenStreetMap\", zoom_start=7)\n",
    "map.add_ee_layer(data_at_region, visual_params, \"\")\n",
    "display(map)"
   ]
  },
  {
   "cell_type": "markdown",
   "metadata": {},
   "source": [
    "Get the average value (of your chosen band) over the entire region."
   ]
  },
  {
   "cell_type": "code",
   "execution_count": 9,
   "metadata": {
    "colab": {
     "base_uri": "https://localhost:8080/",
     "height": 34
    },
    "executionInfo": {
     "elapsed": 324,
     "status": "ok",
     "timestamp": 1755216249894,
     "user": {
      "displayName": "Olivia Zhang",
      "userId": "05095522397576996566"
     },
     "user_tz": 240
    },
    "id": "k8s_igQiCCW9",
    "outputId": "cd283479-d4cd-41e7-c1bd-32000bffc6f0"
   },
   "outputs": [
    {
     "data": {
      "text/html": [
       "\n",
       "            <style>\n",
       "                .geemap-dark {\n",
       "                    --jp-widgets-color: white;\n",
       "                    --jp-widgets-label-color: white;\n",
       "                    --jp-ui-font-color1: white;\n",
       "                    --jp-layout-color2: #454545;\n",
       "                    background-color: #383838;\n",
       "                }\n",
       "\n",
       "                .geemap-dark .jupyter-button {\n",
       "                    --jp-layout-color3: #383838;\n",
       "                }\n",
       "\n",
       "                .geemap-colab {\n",
       "                    background-color: var(--colab-primary-surface-color, white);\n",
       "                }\n",
       "\n",
       "                .geemap-colab .jupyter-button {\n",
       "                    --jp-layout-color3: var(--colab-primary-surface-color, white);\n",
       "                }\n",
       "            </style>\n",
       "            "
      ],
      "text/plain": [
       "<IPython.core.display.HTML object>"
      ]
     },
     "metadata": {},
     "output_type": "display_data"
    },
    {
     "name": "stdout",
     "output_type": "stream",
     "text": [
      "The average of the band Temperature_height_above_ground for the region from 2025-06-01 to 2025-07-01 is 299.62000867726266\n"
     ]
    }
   ],
   "source": [
    "average_over_region = (data_at_region.reduceRegion(\n",
    "                                reducer=ee.Reducer.mean(),\n",
    "                                geometry=region,\n",
    "                                scale=pixel_size,\n",
    "                                maxPixels=1e12\n",
    "                            )\n",
    "                            .get(band_name)\n",
    "                            .getInfo()\n",
    ")\n",
    "\n",
    "print(f\"The average of the band {band_name} for the region from {start_date} to {end_date} is {average_over_region}\")"
   ]
  },
  {
   "cell_type": "markdown",
   "metadata": {
    "id": "Hb2DdpGjCqUI"
   },
   "source": [
    "This is an example showing how to load data from Google Earth Engine and extract information for a point and a region. More information is available from these resources:\n",
    "- [Tutorials from the geemap package](https://geemap.org/tutorials/#geemap-tutorials)\n",
    "- [An Intro to the Earth Engine Python API](https://developers.google.com/earth-engine/tutorials/community/intro-to-python-api)"
   ]
  }
 ],
 "metadata": {
  "colab": {
   "authorship_tag": "ABX9TyMbbEmbulxJSUvvAYcW3VzD",
   "provenance": []
  },
  "kernelspec": {
   "display_name": "gee",
   "language": "python",
   "name": "python3"
  },
  "language_info": {
   "codemirror_mode": {
    "name": "ipython",
    "version": 3
   },
   "file_extension": ".py",
   "mimetype": "text/x-python",
   "name": "python",
   "nbconvert_exporter": "python",
   "pygments_lexer": "ipython3",
   "version": "3.11.13"
  }
 },
 "nbformat": 4,
 "nbformat_minor": 0
}