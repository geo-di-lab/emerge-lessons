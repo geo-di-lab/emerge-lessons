{
 "cells": [
  {
   "cell_type": "markdown",
   "id": "7cfbb9bd",
   "metadata": {
    "id": "7cfbb9bd"
   },
   "source": [
    "# Vegetation & Water Indices\n",
    "Is it Green? Is it Wet? Calculating and visualizing Normalized Difference Vegetation Index (NDVI) & Normalized Difference Water Index (NDWI) from satellite imagery."
   ]
  },
  {
   "cell_type": "code",
   "execution_count": null,
   "id": "c00f4f5a",
   "metadata": {
    "executionInfo": {
     "elapsed": 12041,
     "status": "ok",
     "timestamp": 1753695713864,
     "user": {
      "displayName": "Olivia Zhang",
      "userId": "05095522397576996566"
     },
     "user_tz": 240
    },
    "id": "c00f4f5a"
   },
   "outputs": [],
   "source": [
    "import folium\n",
    "import ee\n",
    "import geemap\n",
    "from datetime import datetime, timedelta\n",
    "\n",
    "# Authenticate your Google account with Earth Engine.\n",
    "ee.Authenticate()\n",
    "\n",
    "# Write your project ID here, in quotes\n",
    "ee.Initialize(project = \"emerge-lessons\")"
   ]
  },
  {
   "cell_type": "code",
   "execution_count": 12,
   "id": "imL-u_edaYki",
   "metadata": {
    "colab": {
     "base_uri": "https://localhost:8080/",
     "height": 17
    },
    "executionInfo": {
     "elapsed": 3,
     "status": "ok",
     "timestamp": 1753695911540,
     "user": {
      "displayName": "Olivia Zhang",
      "userId": "05095522397576996566"
     },
     "user_tz": 240
    },
    "id": "imL-u_edaYki",
    "outputId": "4b94016e-cb37-4163-c1b6-f31831ed1855"
   },
   "outputs": [
    {
     "data": {
      "text/html": [
       "\n",
       "            <style>\n",
       "                .geemap-dark {\n",
       "                    --jp-widgets-color: white;\n",
       "                    --jp-widgets-label-color: white;\n",
       "                    --jp-ui-font-color1: white;\n",
       "                    --jp-layout-color2: #454545;\n",
       "                    background-color: #383838;\n",
       "                }\n",
       "\n",
       "                .geemap-dark .jupyter-button {\n",
       "                    --jp-layout-color3: #383838;\n",
       "                }\n",
       "\n",
       "                .geemap-colab {\n",
       "                    background-color: var(--colab-primary-surface-color, white);\n",
       "                }\n",
       "\n",
       "                .geemap-colab .jupyter-button {\n",
       "                    --jp-layout-color3: var(--colab-primary-surface-color, white);\n",
       "                }\n",
       "            </style>\n",
       "            "
      ],
      "text/plain": [
       "<IPython.core.display.HTML object>"
      ]
     },
     "metadata": {},
     "output_type": "display_data"
    }
   ],
   "source": [
    "def add_ee_layer(self, ee_image_object, vis_params, name):\n",
    "    \"\"\"Adds a method for displaying Earth Engine image tiles to folium map.\"\"\"\n",
    "    map_id_dict = ee.Image(ee_image_object).getMapId(vis_params)\n",
    "    folium.raster_layers.TileLayer(\n",
    "        tiles=map_id_dict['tile_fetcher'].url_format,\n",
    "        attr='Map Data &copy; <a href=\"https://earthengine.google.com/\">Google Earth Engine</a>',\n",
    "        name=name,\n",
    "        overlay=True,\n",
    "        control=True\n",
    "    ).add_to(self)\n",
    "\n",
    "folium.Map.add_ee_layer = add_ee_layer"
   ]
  },
  {
   "cell_type": "markdown",
   "id": "dbb7aa76",
   "metadata": {
    "id": "dbb7aa76"
   },
   "source": [
    "Draw a circle around an input point, which will be used to clip the satellite image."
   ]
  },
  {
   "cell_type": "code",
   "execution_count": 2,
   "id": "139f65f0",
   "metadata": {
    "colab": {
     "base_uri": "https://localhost:8080/",
     "height": 17
    },
    "executionInfo": {
     "elapsed": 14,
     "status": "ok",
     "timestamp": 1753695883494,
     "user": {
      "displayName": "Olivia Zhang",
      "userId": "05095522397576996566"
     },
     "user_tz": 240
    },
    "id": "139f65f0",
    "outputId": "77c5fd21-3179-4a27-8052-41249f7b6670"
   },
   "outputs": [
    {
     "data": {
      "text/html": [
       "\n",
       "            <style>\n",
       "                .geemap-dark {\n",
       "                    --jp-widgets-color: white;\n",
       "                    --jp-widgets-label-color: white;\n",
       "                    --jp-ui-font-color1: white;\n",
       "                    --jp-layout-color2: #454545;\n",
       "                    background-color: #383838;\n",
       "                }\n",
       "\n",
       "                .geemap-dark .jupyter-button {\n",
       "                    --jp-layout-color3: #383838;\n",
       "                }\n",
       "\n",
       "                .geemap-colab {\n",
       "                    background-color: var(--colab-primary-surface-color, white);\n",
       "                }\n",
       "\n",
       "                .geemap-colab .jupyter-button {\n",
       "                    --jp-layout-color3: var(--colab-primary-surface-color, white);\n",
       "                }\n",
       "            </style>\n",
       "            "
      ],
      "text/plain": [
       "<IPython.core.display.HTML object>"
      ]
     },
     "metadata": {},
     "output_type": "display_data"
    }
   ],
   "source": [
    "# Region of interest\n",
    "point = ee.Geometry.Point(-81.660044, 28.473813)\n",
    "region = point.buffer(distance=100000)"
   ]
  },
  {
   "cell_type": "markdown",
   "id": "8a6d6300",
   "metadata": {
    "id": "8a6d6300"
   },
   "source": [
    "Get Sentinel-2 satellite images that match our AOI and date range, with less than 10% cloud cover"
   ]
  },
  {
   "cell_type": "code",
   "execution_count": 3,
   "id": "b4f23362",
   "metadata": {
    "colab": {
     "base_uri": "https://localhost:8080/",
     "height": 17
    },
    "executionInfo": {
     "elapsed": 20,
     "status": "ok",
     "timestamp": 1753695887062,
     "user": {
      "displayName": "Olivia Zhang",
      "userId": "05095522397576996566"
     },
     "user_tz": 240
    },
    "id": "b4f23362",
    "outputId": "f3063540-a785-412f-e13b-7beca29c9101"
   },
   "outputs": [
    {
     "data": {
      "text/html": [
       "\n",
       "            <style>\n",
       "                .geemap-dark {\n",
       "                    --jp-widgets-color: white;\n",
       "                    --jp-widgets-label-color: white;\n",
       "                    --jp-ui-font-color1: white;\n",
       "                    --jp-layout-color2: #454545;\n",
       "                    background-color: #383838;\n",
       "                }\n",
       "\n",
       "                .geemap-dark .jupyter-button {\n",
       "                    --jp-layout-color3: #383838;\n",
       "                }\n",
       "\n",
       "                .geemap-colab {\n",
       "                    background-color: var(--colab-primary-surface-color, white);\n",
       "                }\n",
       "\n",
       "                .geemap-colab .jupyter-button {\n",
       "                    --jp-layout-color3: var(--colab-primary-surface-color, white);\n",
       "                }\n",
       "            </style>\n",
       "            "
      ],
      "text/plain": [
       "<IPython.core.display.HTML object>"
      ]
     },
     "metadata": {},
     "output_type": "display_data"
    }
   ],
   "source": [
    "collection = ee.ImageCollection('COPERNICUS/S2_SR_HARMONIZED') \\\n",
    "    .filterBounds(region) \\\n",
    "    .filterDate('2024-04-01', '2024-06-01') \\\n",
    "    .filter(ee.Filter.lte('CLOUDY_PIXEL_PERCENTAGE', 10))"
   ]
  },
  {
   "cell_type": "markdown",
   "id": "58759653",
   "metadata": {
    "id": "58759653"
   },
   "source": [
    "Take the median value of the images in our collection; this helps remove clouds and get a clearer image"
   ]
  },
  {
   "cell_type": "code",
   "execution_count": 4,
   "id": "233e81cc",
   "metadata": {
    "colab": {
     "base_uri": "https://localhost:8080/",
     "height": 17
    },
    "executionInfo": {
     "elapsed": 11,
     "status": "ok",
     "timestamp": 1753695889643,
     "user": {
      "displayName": "Olivia Zhang",
      "userId": "05095522397576996566"
     },
     "user_tz": 240
    },
    "id": "233e81cc",
    "outputId": "833e3c60-2fd9-4dc6-e0bf-d9c3b5724484"
   },
   "outputs": [
    {
     "data": {
      "text/html": [
       "\n",
       "            <style>\n",
       "                .geemap-dark {\n",
       "                    --jp-widgets-color: white;\n",
       "                    --jp-widgets-label-color: white;\n",
       "                    --jp-ui-font-color1: white;\n",
       "                    --jp-layout-color2: #454545;\n",
       "                    background-color: #383838;\n",
       "                }\n",
       "\n",
       "                .geemap-dark .jupyter-button {\n",
       "                    --jp-layout-color3: #383838;\n",
       "                }\n",
       "\n",
       "                .geemap-colab {\n",
       "                    background-color: var(--colab-primary-surface-color, white);\n",
       "                }\n",
       "\n",
       "                .geemap-colab .jupyter-button {\n",
       "                    --jp-layout-color3: var(--colab-primary-surface-color, white);\n",
       "                }\n",
       "            </style>\n",
       "            "
      ],
      "text/plain": [
       "<IPython.core.display.HTML object>"
      ]
     },
     "metadata": {},
     "output_type": "display_data"
    }
   ],
   "source": [
    "image = collection.median().clip(region)"
   ]
  },
  {
   "cell_type": "markdown",
   "id": "f067e9b3",
   "metadata": {
    "id": "f067e9b3"
   },
   "source": [
    "Calculate NDVI (vegetation index) from the image\n",
    "This shows how healthy the plants are: high NDVI = more green plants\n",
    "Formula: (NIR - RED) / (NIR + RED)"
   ]
  },
  {
   "cell_type": "code",
   "execution_count": 5,
   "id": "c7d7ffc5",
   "metadata": {
    "colab": {
     "base_uri": "https://localhost:8080/",
     "height": 17
    },
    "executionInfo": {
     "elapsed": 9,
     "status": "ok",
     "timestamp": 1753695892036,
     "user": {
      "displayName": "Olivia Zhang",
      "userId": "05095522397576996566"
     },
     "user_tz": 240
    },
    "id": "c7d7ffc5",
    "outputId": "6c59132e-3658-4ecc-a475-0513c8e1275d"
   },
   "outputs": [
    {
     "data": {
      "text/html": [
       "\n",
       "            <style>\n",
       "                .geemap-dark {\n",
       "                    --jp-widgets-color: white;\n",
       "                    --jp-widgets-label-color: white;\n",
       "                    --jp-ui-font-color1: white;\n",
       "                    --jp-layout-color2: #454545;\n",
       "                    background-color: #383838;\n",
       "                }\n",
       "\n",
       "                .geemap-dark .jupyter-button {\n",
       "                    --jp-layout-color3: #383838;\n",
       "                }\n",
       "\n",
       "                .geemap-colab {\n",
       "                    background-color: var(--colab-primary-surface-color, white);\n",
       "                }\n",
       "\n",
       "                .geemap-colab .jupyter-button {\n",
       "                    --jp-layout-color3: var(--colab-primary-surface-color, white);\n",
       "                }\n",
       "            </style>\n",
       "            "
      ],
      "text/plain": [
       "<IPython.core.display.HTML object>"
      ]
     },
     "metadata": {},
     "output_type": "display_data"
    }
   ],
   "source": [
    "ndvi = image.normalizedDifference(['B8', 'B4']).rename('NDVI')"
   ]
  },
  {
   "cell_type": "markdown",
   "id": "366b3e0b",
   "metadata": {
    "id": "366b3e0b"
   },
   "source": [
    "Calculate NDWI (water index) from the image\n",
    "This shows where the water is: high NDWI = more water\n",
    "Formula: (GREEN - NIR) / (GREEN + NIR)"
   ]
  },
  {
   "cell_type": "code",
   "execution_count": 6,
   "id": "c71aaf2a",
   "metadata": {
    "colab": {
     "base_uri": "https://localhost:8080/",
     "height": 17
    },
    "executionInfo": {
     "elapsed": 4,
     "status": "ok",
     "timestamp": 1753695892506,
     "user": {
      "displayName": "Olivia Zhang",
      "userId": "05095522397576996566"
     },
     "user_tz": 240
    },
    "id": "c71aaf2a",
    "outputId": "cbc55051-f855-4bf6-a86c-f295d876d646"
   },
   "outputs": [
    {
     "data": {
      "text/html": [
       "\n",
       "            <style>\n",
       "                .geemap-dark {\n",
       "                    --jp-widgets-color: white;\n",
       "                    --jp-widgets-label-color: white;\n",
       "                    --jp-ui-font-color1: white;\n",
       "                    --jp-layout-color2: #454545;\n",
       "                    background-color: #383838;\n",
       "                }\n",
       "\n",
       "                .geemap-dark .jupyter-button {\n",
       "                    --jp-layout-color3: #383838;\n",
       "                }\n",
       "\n",
       "                .geemap-colab {\n",
       "                    background-color: var(--colab-primary-surface-color, white);\n",
       "                }\n",
       "\n",
       "                .geemap-colab .jupyter-button {\n",
       "                    --jp-layout-color3: var(--colab-primary-surface-color, white);\n",
       "                }\n",
       "            </style>\n",
       "            "
      ],
      "text/plain": [
       "<IPython.core.display.HTML object>"
      ]
     },
     "metadata": {},
     "output_type": "display_data"
    }
   ],
   "source": [
    "ndwi = image.normalizedDifference(['B3', 'B8']).rename('NDWI')"
   ]
  },
  {
   "cell_type": "markdown",
   "id": "d231003d",
   "metadata": {
    "id": "d231003d"
   },
   "source": [
    "Set up an interactive map and center it over Florida."
   ]
  },
  {
   "cell_type": "code",
   "execution_count": 21,
   "id": "b5ad2221",
   "metadata": {
    "colab": {
     "base_uri": "https://localhost:8080/",
     "height": 17
    },
    "executionInfo": {
     "elapsed": 11,
     "status": "ok",
     "timestamp": 1753695954383,
     "user": {
      "displayName": "Olivia Zhang",
      "userId": "05095522397576996566"
     },
     "user_tz": 240
    },
    "id": "b5ad2221",
    "outputId": "50a59555-03f1-4ccb-ef9a-21a4fa655fc1"
   },
   "outputs": [
    {
     "data": {
      "text/html": [
       "\n",
       "            <style>\n",
       "                .geemap-dark {\n",
       "                    --jp-widgets-color: white;\n",
       "                    --jp-widgets-label-color: white;\n",
       "                    --jp-ui-font-color1: white;\n",
       "                    --jp-layout-color2: #454545;\n",
       "                    background-color: #383838;\n",
       "                }\n",
       "\n",
       "                .geemap-dark .jupyter-button {\n",
       "                    --jp-layout-color3: #383838;\n",
       "                }\n",
       "\n",
       "                .geemap-colab {\n",
       "                    background-color: var(--colab-primary-surface-color, white);\n",
       "                }\n",
       "\n",
       "                .geemap-colab .jupyter-button {\n",
       "                    --jp-layout-color3: var(--colab-primary-surface-color, white);\n",
       "                }\n",
       "            </style>\n",
       "            "
      ],
      "text/plain": [
       "<IPython.core.display.HTML object>"
      ]
     },
     "metadata": {},
     "output_type": "display_data"
    }
   ],
   "source": [
    "map = folium.Map(location=[28.473813, -81.660044], tiles=\"Cartodb dark_matter\", zoom_start=8)"
   ]
  },
  {
   "cell_type": "markdown",
   "id": "e6f80f6a",
   "metadata": {
    "id": "e6f80f6a"
   },
   "source": [
    "Add the NDVI (vegetation) layer to the map, coloring high values green"
   ]
  },
  {
   "cell_type": "code",
   "execution_count": 22,
   "id": "5aab3447",
   "metadata": {
    "colab": {
     "base_uri": "https://localhost:8080/",
     "height": 17
    },
    "executionInfo": {
     "elapsed": 324,
     "status": "ok",
     "timestamp": 1753695955022,
     "user": {
      "displayName": "Olivia Zhang",
      "userId": "05095522397576996566"
     },
     "user_tz": 240
    },
    "id": "5aab3447",
    "outputId": "af90f2ff-fb8b-47c6-82bb-2e69b301b0fe"
   },
   "outputs": [
    {
     "data": {
      "text/html": [
       "\n",
       "            <style>\n",
       "                .geemap-dark {\n",
       "                    --jp-widgets-color: white;\n",
       "                    --jp-widgets-label-color: white;\n",
       "                    --jp-ui-font-color1: white;\n",
       "                    --jp-layout-color2: #454545;\n",
       "                    background-color: #383838;\n",
       "                }\n",
       "\n",
       "                .geemap-dark .jupyter-button {\n",
       "                    --jp-layout-color3: #383838;\n",
       "                }\n",
       "\n",
       "                .geemap-colab {\n",
       "                    background-color: var(--colab-primary-surface-color, white);\n",
       "                }\n",
       "\n",
       "                .geemap-colab .jupyter-button {\n",
       "                    --jp-layout-color3: var(--colab-primary-surface-color, white);\n",
       "                }\n",
       "            </style>\n",
       "            "
      ],
      "text/plain": [
       "<IPython.core.display.HTML object>"
      ]
     },
     "metadata": {},
     "output_type": "display_data"
    }
   ],
   "source": [
    "map.add_ee_layer(ndvi, {'min': 0, 'max': 1, 'palette': ['white', 'green']}, 'NDVI')"
   ]
  },
  {
   "cell_type": "markdown",
   "id": "8bcced2a",
   "metadata": {
    "id": "8bcced2a"
   },
   "source": [
    "Add the NDWI (water) layer to the map, coloring high values blue"
   ]
  },
  {
   "cell_type": "code",
   "execution_count": 23,
   "id": "2f886045",
   "metadata": {
    "colab": {
     "base_uri": "https://localhost:8080/",
     "height": 17
    },
    "executionInfo": {
     "elapsed": 336,
     "status": "ok",
     "timestamp": 1753695955361,
     "user": {
      "displayName": "Olivia Zhang",
      "userId": "05095522397576996566"
     },
     "user_tz": 240
    },
    "id": "2f886045",
    "outputId": "152273bd-5be3-4e74-f572-b2aebbcc430a"
   },
   "outputs": [
    {
     "data": {
      "text/html": [
       "\n",
       "            <style>\n",
       "                .geemap-dark {\n",
       "                    --jp-widgets-color: white;\n",
       "                    --jp-widgets-label-color: white;\n",
       "                    --jp-ui-font-color1: white;\n",
       "                    --jp-layout-color2: #454545;\n",
       "                    background-color: #383838;\n",
       "                }\n",
       "\n",
       "                .geemap-dark .jupyter-button {\n",
       "                    --jp-layout-color3: #383838;\n",
       "                }\n",
       "\n",
       "                .geemap-colab {\n",
       "                    background-color: var(--colab-primary-surface-color, white);\n",
       "                }\n",
       "\n",
       "                .geemap-colab .jupyter-button {\n",
       "                    --jp-layout-color3: var(--colab-primary-surface-color, white);\n",
       "                }\n",
       "            </style>\n",
       "            "
      ],
      "text/plain": [
       "<IPython.core.display.HTML object>"
      ]
     },
     "metadata": {},
     "output_type": "display_data"
    }
   ],
   "source": [
    "map.add_ee_layer(ndwi, {'min': -1, 'max': 1, 'palette': ['white', 'blue']}, 'NDWI')"
   ]
  },
  {
   "cell_type": "markdown",
   "id": "fabcb17a",
   "metadata": {
    "id": "fabcb17a"
   },
   "source": [
    "Show the map, with a layer control section in the top right to allow us to show or hide each layer."
   ]
  },
  {
   "cell_type": "code",
   "execution_count": 24,
   "id": "7d3fd5d0",
   "metadata": {
    "colab": {
     "base_uri": "https://localhost:8080/",
     "height": 968
    },
    "executionInfo": {
     "elapsed": 11,
     "status": "ok",
     "timestamp": 1753695956039,
     "user": {
      "displayName": "Olivia Zhang",
      "userId": "05095522397576996566"
     },
     "user_tz": 240
    },
    "id": "7d3fd5d0",
    "outputId": "ea8d32bf-9984-4dc6-99a2-743ce5b16e3d"
   },
   "outputs": [
    {
     "data": {
      "text/html": [
       "\n",
       "            <style>\n",
       "                .geemap-dark {\n",
       "                    --jp-widgets-color: white;\n",
       "                    --jp-widgets-label-color: white;\n",
       "                    --jp-ui-font-color1: white;\n",
       "                    --jp-layout-color2: #454545;\n",
       "                    background-color: #383838;\n",
       "                }\n",
       "\n",
       "                .geemap-dark .jupyter-button {\n",
       "                    --jp-layout-color3: #383838;\n",
       "                }\n",
       "\n",
       "                .geemap-colab {\n",
       "                    background-color: var(--colab-primary-surface-color, white);\n",
       "                }\n",
       "\n",
       "                .geemap-colab .jupyter-button {\n",
       "                    --jp-layout-color3: var(--colab-primary-surface-color, white);\n",
       "                }\n",
       "            </style>\n",
       "            "
      ],
      "text/plain": [
       "<IPython.core.display.HTML object>"
      ]
     },
     "metadata": {},
     "output_type": "display_data"
    },
    {
     "data": {
      "text/html": [
       "<div style=\"width:100%;\"><div style=\"position:relative;width:100%;height:0;padding-bottom:60%;\"><span style=\"color:#565656\">Make this Notebook Trusted to load map: File -> Trust Notebook</span><iframe srcdoc=\"&lt;!DOCTYPE html&gt;\n",
       "&lt;html&gt;\n",
       "&lt;head&gt;\n",
       "    \n",
       "    &lt;meta http-equiv=&quot;content-type&quot; content=&quot;text/html; charset=UTF-8&quot; /&gt;\n",
       "    &lt;script src=&quot;https://cdn.jsdelivr.net/npm/leaflet@1.9.3/dist/leaflet.js&quot;&gt;&lt;/script&gt;\n",
       "    &lt;script src=&quot;https://code.jquery.com/jquery-3.7.1.min.js&quot;&gt;&lt;/script&gt;\n",
       "    &lt;script src=&quot;https://cdn.jsdelivr.net/npm/bootstrap@5.2.2/dist/js/bootstrap.bundle.min.js&quot;&gt;&lt;/script&gt;\n",
       "    &lt;script src=&quot;https://cdnjs.cloudflare.com/ajax/libs/Leaflet.awesome-markers/2.0.2/leaflet.awesome-markers.js&quot;&gt;&lt;/script&gt;\n",
       "    &lt;link rel=&quot;stylesheet&quot; href=&quot;https://cdn.jsdelivr.net/npm/leaflet@1.9.3/dist/leaflet.css&quot;/&gt;\n",
       "    &lt;link rel=&quot;stylesheet&quot; href=&quot;https://cdn.jsdelivr.net/npm/bootstrap@5.2.2/dist/css/bootstrap.min.css&quot;/&gt;\n",
       "    &lt;link rel=&quot;stylesheet&quot; href=&quot;https://netdna.bootstrapcdn.com/bootstrap/3.0.0/css/bootstrap-glyphicons.css&quot;/&gt;\n",
       "    &lt;link rel=&quot;stylesheet&quot; href=&quot;https://cdn.jsdelivr.net/npm/@fortawesome/fontawesome-free@6.2.0/css/all.min.css&quot;/&gt;\n",
       "    &lt;link rel=&quot;stylesheet&quot; href=&quot;https://cdnjs.cloudflare.com/ajax/libs/Leaflet.awesome-markers/2.0.2/leaflet.awesome-markers.css&quot;/&gt;\n",
       "    &lt;link rel=&quot;stylesheet&quot; href=&quot;https://cdn.jsdelivr.net/gh/python-visualization/folium/folium/templates/leaflet.awesome.rotate.min.css&quot;/&gt;\n",
       "    \n",
       "            &lt;meta name=&quot;viewport&quot; content=&quot;width=device-width,\n",
       "                initial-scale=1.0, maximum-scale=1.0, user-scalable=no&quot; /&gt;\n",
       "            &lt;style&gt;\n",
       "                #map_f426f84d19032fdbb09d173fd3b9956a {\n",
       "                    position: relative;\n",
       "                    width: 100.0%;\n",
       "                    height: 100.0%;\n",
       "                    left: 0.0%;\n",
       "                    top: 0.0%;\n",
       "                }\n",
       "                .leaflet-container { font-size: 1rem; }\n",
       "            &lt;/style&gt;\n",
       "\n",
       "            &lt;style&gt;html, body {\n",
       "                width: 100%;\n",
       "                height: 100%;\n",
       "                margin: 0;\n",
       "                padding: 0;\n",
       "            }\n",
       "            &lt;/style&gt;\n",
       "\n",
       "            &lt;style&gt;#map {\n",
       "                position:absolute;\n",
       "                top:0;\n",
       "                bottom:0;\n",
       "                right:0;\n",
       "                left:0;\n",
       "                }\n",
       "            &lt;/style&gt;\n",
       "\n",
       "            &lt;script&gt;\n",
       "                L_NO_TOUCH = false;\n",
       "                L_DISABLE_3D = false;\n",
       "            &lt;/script&gt;\n",
       "\n",
       "        \n",
       "&lt;/head&gt;\n",
       "&lt;body&gt;\n",
       "    \n",
       "    \n",
       "            &lt;div class=&quot;folium-map&quot; id=&quot;map_f426f84d19032fdbb09d173fd3b9956a&quot; &gt;&lt;/div&gt;\n",
       "        \n",
       "&lt;/body&gt;\n",
       "&lt;script&gt;\n",
       "    \n",
       "    \n",
       "            var map_f426f84d19032fdbb09d173fd3b9956a = L.map(\n",
       "                &quot;map_f426f84d19032fdbb09d173fd3b9956a&quot;,\n",
       "                {\n",
       "                    center: [28.473813, -81.660044],\n",
       "                    crs: L.CRS.EPSG3857,\n",
       "                    ...{\n",
       "  &quot;zoom&quot;: 8,\n",
       "  &quot;zoomControl&quot;: true,\n",
       "  &quot;preferCanvas&quot;: false,\n",
       "}\n",
       "\n",
       "                }\n",
       "            );\n",
       "\n",
       "            \n",
       "\n",
       "        \n",
       "    \n",
       "            var tile_layer_c688cbfa49a569d8f924e2efa06d8188 = L.tileLayer(\n",
       "                &quot;https://{s}.basemaps.cartocdn.com/dark_all/{z}/{x}/{y}{r}.png&quot;,\n",
       "                {\n",
       "  &quot;minZoom&quot;: 0,\n",
       "  &quot;maxZoom&quot;: 20,\n",
       "  &quot;maxNativeZoom&quot;: 20,\n",
       "  &quot;noWrap&quot;: false,\n",
       "  &quot;attribution&quot;: &quot;\\u0026copy; \\u003ca href=\\&quot;https://www.openstreetmap.org/copyright\\&quot;\\u003eOpenStreetMap\\u003c/a\\u003e contributors \\u0026copy; \\u003ca href=\\&quot;https://carto.com/attributions\\&quot;\\u003eCARTO\\u003c/a\\u003e&quot;,\n",
       "  &quot;subdomains&quot;: &quot;abcd&quot;,\n",
       "  &quot;detectRetina&quot;: false,\n",
       "  &quot;tms&quot;: false,\n",
       "  &quot;opacity&quot;: 1,\n",
       "}\n",
       "\n",
       "            );\n",
       "        \n",
       "    \n",
       "            tile_layer_c688cbfa49a569d8f924e2efa06d8188.addTo(map_f426f84d19032fdbb09d173fd3b9956a);\n",
       "        \n",
       "    \n",
       "            var tile_layer_f64b7e7755caaf948f58b56de0148bc8 = L.tileLayer(\n",
       "                &quot;https://earthengine.googleapis.com/v1/projects/emerge-466105/maps/fffa3179630d7415d102737fab36c156-bb85db1d2741a75f7498aefbe843fc16/tiles/{z}/{x}/{y}&quot;,\n",
       "                {\n",
       "  &quot;minZoom&quot;: 0,\n",
       "  &quot;maxZoom&quot;: 18,\n",
       "  &quot;maxNativeZoom&quot;: 18,\n",
       "  &quot;noWrap&quot;: false,\n",
       "  &quot;attribution&quot;: &quot;Map Data \\u0026copy; \\u003ca href=\\&quot;https://earthengine.google.com/\\&quot;\\u003eGoogle Earth Engine\\u003c/a\\u003e&quot;,\n",
       "  &quot;subdomains&quot;: &quot;abc&quot;,\n",
       "  &quot;detectRetina&quot;: false,\n",
       "  &quot;tms&quot;: false,\n",
       "  &quot;opacity&quot;: 1,\n",
       "}\n",
       "\n",
       "            );\n",
       "        \n",
       "    \n",
       "            tile_layer_f64b7e7755caaf948f58b56de0148bc8.addTo(map_f426f84d19032fdbb09d173fd3b9956a);\n",
       "        \n",
       "    \n",
       "            var tile_layer_99833fab0ac19c655956cefd1f4205a7 = L.tileLayer(\n",
       "                &quot;https://earthengine.googleapis.com/v1/projects/emerge-466105/maps/7fd8973279346cba5940472e48be52c9-7b2184627af18aee4d811225b9a10b65/tiles/{z}/{x}/{y}&quot;,\n",
       "                {\n",
       "  &quot;minZoom&quot;: 0,\n",
       "  &quot;maxZoom&quot;: 18,\n",
       "  &quot;maxNativeZoom&quot;: 18,\n",
       "  &quot;noWrap&quot;: false,\n",
       "  &quot;attribution&quot;: &quot;Map Data \\u0026copy; \\u003ca href=\\&quot;https://earthengine.google.com/\\&quot;\\u003eGoogle Earth Engine\\u003c/a\\u003e&quot;,\n",
       "  &quot;subdomains&quot;: &quot;abc&quot;,\n",
       "  &quot;detectRetina&quot;: false,\n",
       "  &quot;tms&quot;: false,\n",
       "  &quot;opacity&quot;: 1,\n",
       "}\n",
       "\n",
       "            );\n",
       "        \n",
       "    \n",
       "            tile_layer_99833fab0ac19c655956cefd1f4205a7.addTo(map_f426f84d19032fdbb09d173fd3b9956a);\n",
       "        \n",
       "    \n",
       "            var layer_control_ce6511fac89c5c8df271ec58ba1e900a_layers = {\n",
       "                base_layers : {\n",
       "                    &quot;cartodbdarkmatter&quot; : tile_layer_c688cbfa49a569d8f924e2efa06d8188,\n",
       "                },\n",
       "                overlays :  {\n",
       "                    &quot;NDVI&quot; : tile_layer_f64b7e7755caaf948f58b56de0148bc8,\n",
       "                    &quot;NDWI&quot; : tile_layer_99833fab0ac19c655956cefd1f4205a7,\n",
       "                },\n",
       "            };\n",
       "            let layer_control_ce6511fac89c5c8df271ec58ba1e900a = L.control.layers(\n",
       "                layer_control_ce6511fac89c5c8df271ec58ba1e900a_layers.base_layers,\n",
       "                layer_control_ce6511fac89c5c8df271ec58ba1e900a_layers.overlays,\n",
       "                {\n",
       "  &quot;position&quot;: &quot;topright&quot;,\n",
       "  &quot;collapsed&quot;: false,\n",
       "  &quot;autoZIndex&quot;: true,\n",
       "}\n",
       "            ).addTo(map_f426f84d19032fdbb09d173fd3b9956a);\n",
       "\n",
       "        \n",
       "&lt;/script&gt;\n",
       "&lt;/html&gt;\" style=\"position:absolute;width:100%;height:100%;left:0;top:0;border:none !important;\" allowfullscreen webkitallowfullscreen mozallowfullscreen></iframe></div></div>"
      ],
      "text/plain": [
       "<folium.folium.Map at 0x7ee193e85810>"
      ]
     },
     "metadata": {},
     "output_type": "display_data"
    }
   ],
   "source": [
    "folium.LayerControl(collapsed = False).add_to(map)\n",
    "display(map)"
   ]
  },
  {
   "cell_type": "markdown",
   "id": "386c7388",
   "metadata": {},
   "source": [
    "In the interactive map above, click on the check box next to `NDWI` to hide the layer, showing `NDVI` below it. You can click the check box again to show `NDWI` again."
   ]
  }
 ],
 "metadata": {
  "colab": {
   "provenance": []
  },
  "kernelspec": {
   "display_name": "Python 3",
   "name": "python3"
  },
  "language_info": {
   "name": "python"
  }
 },
 "nbformat": 4,
 "nbformat_minor": 5
}