{
 "cells": [
  {
   "cell_type": "markdown",
   "id": "b9c10bde",
   "metadata": {},
   "source": [
    "# Intro to Google Earth Engine"
   ]
  },
  {
   "cell_type": "code",
   "execution_count": null,
   "id": "90d4163b",
   "metadata": {},
   "outputs": [],
   "source": []
  }
 ],
 "metadata": {
  "language_info": {
   "name": "python"
  }
 },
 "nbformat": 4,
 "nbformat_minor": 5
}