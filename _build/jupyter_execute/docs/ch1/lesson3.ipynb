{
 "cells": [
  {
   "cell_type": "markdown",
   "metadata": {
    "id": "-E3QHkDl1t1G"
   },
   "source": [
    "# What is GLOBE Observer?"
   ]
  },
  {
   "cell_type": "markdown",
   "metadata": {
    "id": "QXvQ0Sed1xH7"
   },
   "source": [
    "GLOBE Observer is a NASA-funded citizen science program that uses an app to allow volunteers to collect and share environmental data, helping scientists understand the Earth's climate and environment."
   ]
  },
  {
   "cell_type": "markdown",
   "metadata": {
    "id": "gL7UAZ441w37"
   },
   "source": [
    "## GLOBE Observer App"
   ]
  },
  {
   "cell_type": "markdown",
   "metadata": {
    "id": "LGkN9He01w03"
   },
   "source": [
    "## Mosquito Habitat Mapper"
   ]
  },
  {
   "cell_type": "markdown",
   "metadata": {
    "id": "JMaRvKVf2RVH"
   },
   "source": [
    "### History\n",
    "\n",
    "\n",
    "### App\n",
    "\n",
    "\n",
    "### Outputs\n"
   ]
  },
  {
   "cell_type": "markdown",
   "metadata": {
    "id": "MgH9yXnE1wyM"
   },
   "source": [
    "## Land Cover"
   ]
  },
  {
   "cell_type": "markdown",
   "metadata": {
    "id": "q6kmSdoi2ROD"
   },
   "source": [
    "### History\n",
    "\n",
    "\n",
    "### App\n",
    "\n",
    "\n",
    "### Outputs"
   ]
  }
 ],
 "metadata": {
  "colab": {
   "provenance": []
  },
  "kernelspec": {
   "display_name": "Python 3",
   "name": "python3"
  },
  "language_info": {
   "name": "python"
  }
 },
 "nbformat": 4,
 "nbformat_minor": 0
}