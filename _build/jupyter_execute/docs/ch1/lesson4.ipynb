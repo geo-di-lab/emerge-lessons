{
 "cells": [
  {
   "cell_type": "markdown",
   "id": "4580e9a1",
   "metadata": {},
   "source": [
    "# Signing up for Google Earth Engine"
   ]
  },
  {
   "cell_type": "markdown",
   "id": "de4afaf3",
   "metadata": {},
   "source": []
  }
 ],
 "metadata": {
  "language_info": {
   "name": "python"
  }
 },
 "nbformat": 4,
 "nbformat_minor": 5
}