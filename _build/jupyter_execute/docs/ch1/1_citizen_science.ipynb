{
 "cells": [
  {
   "cell_type": "markdown",
   "metadata": {
    "id": "GkHr5ZbF1Eca"
   },
   "source": [
    "# What is Citizen Science?"
   ]
  },
  {
   "cell_type": "markdown",
   "metadata": {
    "id": "qTQQ9wIk1Mkj"
   },
   "source": []
  },
  {
   "cell_type": "markdown",
   "metadata": {
    "id": "w7Kgqv3p1M1W"
   },
   "source": [
    "## Citizen Science in Libraries"
   ]
  },
  {
   "cell_type": "markdown",
   "metadata": {
    "id": "X2wdYdRK1P8o"
   },
   "source": []
  },
  {
   "cell_type": "markdown",
   "metadata": {
    "id": "UbbCjDpa1QQn"
   },
   "source": [
    "## Citizen Science in Classrooms"
   ]
  },
  {
   "cell_type": "markdown",
   "metadata": {
    "id": "Vzlc7Gia1S6T"
   },
   "source": []
  },
  {
   "cell_type": "markdown",
   "metadata": {
    "id": "Jefz6f7K1TJp"
   },
   "source": [
    "## Citizen Science for Policy"
   ]
  },
  {
   "cell_type": "markdown",
   "metadata": {
    "id": "JnHr-bpE1gCQ"
   },
   "source": []
  }
 ],
 "metadata": {
  "colab": {
   "provenance": []
  },
  "kernelspec": {
   "display_name": "Python 3",
   "name": "python3"
  },
  "language_info": {
   "name": "python"
  }
 },
 "nbformat": 4,
 "nbformat_minor": 0
}