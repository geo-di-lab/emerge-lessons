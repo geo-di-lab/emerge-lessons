{
 "cells": [
  {
   "cell_type": "markdown",
   "id": "63de1646",
   "metadata": {},
   "source": [
    "# Why Analyze Data?"
   ]
  },
  {
   "cell_type": "code",
   "execution_count": null,
   "id": "bf47ffdb",
   "metadata": {},
   "outputs": [],
   "source": []
  }
 ],
 "metadata": {
  "language_info": {
   "name": "python"
  }
 },
 "nbformat": 4,
 "nbformat_minor": 5
}