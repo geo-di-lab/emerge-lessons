{
 "cells": [
  {
   "cell_type": "markdown",
   "metadata": {
    "id": "ZvIfuAJD0_WO"
   },
   "source": [
    "[![Open in Colab](https://colab.research.google.com/assets/colab-badge.svg)](https://colab.research.google.com/github/geo-di-lab/emerge-lessons/blob/main/docs/ch4/lesson5.ipynb)"
   ]
  },
  {
   "cell_type": "markdown",
   "metadata": {
    "id": "C9XOOlSrb4nu"
   },
   "source": [
    "# County-Level Analysis\n",
    "Analyze GLOBE and environmental data for your county in Florida."
   ]
  },
  {
   "cell_type": "markdown",
   "metadata": {
    "id": "Hiuk276cdVxf"
   },
   "source": [
    "Write the name of your county in the quotes below. For example, `county = \"Broward County\"` or `county = \"Miami-Dade County\"`\n",
    "For the rest of this code notebook, we will be looking at Broward County."
   ]
  },
  {
   "cell_type": "code",
   "execution_count": null,
   "metadata": {
    "id": "1nav37Vxf1F0"
   },
   "outputs": [],
   "source": [
    "county_name = \"Your County Name\"\n",
    "\n",
    "# For example:\n",
    "# county_name = \"Broward County\""
   ]
  },
  {
   "cell_type": "code",
   "execution_count": 2,
   "metadata": {
    "id": "wGxS7xSTe988"
   },
   "outputs": [],
   "source": [
    "import geopandas as gpd\n",
    "import pandas as pd\n",
    "pd.set_option(\"display.max_columns\", None)\n",
    "import matplotlib.pyplot as plt\n",
    "from matplotlib.colors import to_rgb\n",
    "import seaborn as sns"
   ]
  },
  {
   "cell_type": "markdown",
   "metadata": {
    "id": "LWkiypd6oCZB"
   },
   "source": [
    "First, load 1) the GLOBE Mosquito Habitat Mapper data, and 2) a file with the Florida county boundaries from the [U.S. Census](https://www.census.gov/geographies/mapping-files/time-series/geo/cartographic-boundary.html), which will be used to filter the data to each county."
   ]
  },
  {
   "cell_type": "code",
   "execution_count": 3,
   "metadata": {
    "id": "Azz9ZhB3b4Yn"
   },
   "outputs": [],
   "source": [
    "data = gpd.read_file('https://github.com/geo-di-lab/emerge-lessons/raw/refs/heads/main/docs/data/globe_mosquito.zip')\n",
    "fl = gpd.read_file('https://github.com/geo-di-lab/emerge-lessons/raw/refs/heads/main/docs/data/florida_counties.geojson')"
   ]
  },
  {
   "cell_type": "markdown",
   "metadata": {
    "id": "xBD3kozVYW-L"
   },
   "source": [
    "Then, get the geographic boundaries of your county."
   ]
  },
  {
   "cell_type": "code",
   "execution_count": 4,
   "metadata": {
    "id": "EV9THR0pfmYo"
   },
   "outputs": [],
   "source": [
    "county = fl.loc[fl['NAMELSAD'] == county_name]"
   ]
  },
  {
   "cell_type": "markdown",
   "metadata": {
    "id": "JWcC-WEnYgms"
   },
   "source": [
    "Now, we use those boundaries to filter for all GLOBE Mosquito Habitat Mapper points within your county, from 2018 to 2024."
   ]
  },
  {
   "cell_type": "code",
   "execution_count": 5,
   "metadata": {
    "colab": {
     "base_uri": "https://localhost:8080/"
    },
    "id": "yISMitYwb3TH",
    "outputId": "15016b42-c2c8-48e2-ddce-45b4dfb51d29"
   },
   "outputs": [
    {
     "name": "stdout",
     "output_type": "stream",
     "text": [
      "There were 43 GLOBE Mosquito Habitat Mapper points recorded within Broward County from 2018 to 2024 by community scientists.\n",
      "Of those points, 26 (60%) mosquito habitats were successfully mitigated by the community scientists, which reduces the risk for mosquitoes at that location in the future.\n"
     ]
    }
   ],
   "source": [
    "data_county = data.sjoin(county, how=\"inner\", predicate=\"within\")\n",
    "\n",
    "num_total = len(data_county)\n",
    "\n",
    "print(f\"There were {num_total} GLOBE Mosquito Habitat Mapper points recorded within {county_name} from 2018 to 2024 by community scientists.\")\n",
    "\n",
    "num_eliminated = len(data_county[data_county['BreedingGroundEliminated'] == 'true'])\n",
    "print(f\"Of those points, {num_eliminated} ({round(num_eliminated * 100 / num_total)}%) mosquito habitats were successfully mitigated by the community scientists, which reduces the risk for mosquitoes at that location in the future.\")"
   ]
  },
  {
   "cell_type": "code",
   "execution_count": 6,
   "metadata": {
    "colab": {
     "base_uri": "https://localhost:8080/",
     "height": 469
    },
    "id": "ZDfP_OngiW0c",
    "outputId": "c1f4938a-6626-4a3a-a45b-9f3598f87f4b"
   },
   "outputs": [
    {
     "data": {
      "text/html": [
       "<div>\n",
       "<style scoped>\n",
       "    .dataframe tbody tr th:only-of-type {\n",
       "        vertical-align: middle;\n",
       "    }\n",
       "\n",
       "    .dataframe tbody tr th {\n",
       "        vertical-align: top;\n",
       "    }\n",
       "\n",
       "    .dataframe thead th {\n",
       "        text-align: right;\n",
       "    }\n",
       "</style>\n",
       "<table border=\"1\" class=\"dataframe\">\n",
       "  <thead>\n",
       "    <tr style=\"text-align: right;\">\n",
       "      <th></th>\n",
       "      <th>CountryCode</th>\n",
       "      <th>CountryName</th>\n",
       "      <th>Elevation</th>\n",
       "      <th>AbdomenCloseupPhotoUrls</th>\n",
       "      <th>BreedingGroundEliminated</th>\n",
       "      <th>Comments</th>\n",
       "      <th>DataSource</th>\n",
       "      <th>ExtraData</th>\n",
       "      <th>Genus</th>\n",
       "      <th>GlobeTeams</th>\n",
       "      <th>LarvaFullBodyPhotoUrls</th>\n",
       "      <th>LarvaeCount</th>\n",
       "      <th>LastIdentifyStage</th>\n",
       "      <th>LocationAccuracyM</th>\n",
       "      <th>LocationMethod</th>\n",
       "      <th>MeasuredAt</th>\n",
       "      <th>MeasurementElevation</th>\n",
       "      <th>MeasurementLatitude</th>\n",
       "      <th>MeasurementLongitude</th>\n",
       "      <th>MosquitoAdults</th>\n",
       "      <th>MosquitoEggs</th>\n",
       "      <th>MosquitoHabitatMapperId</th>\n",
       "      <th>MosquitoPupae</th>\n",
       "      <th>Species</th>\n",
       "      <th>Userid</th>\n",
       "      <th>WaterSource</th>\n",
       "      <th>WaterSourcePhotoUrls</th>\n",
       "      <th>WaterSourceType</th>\n",
       "      <th>OrganizationId</th>\n",
       "      <th>OrganizationName</th>\n",
       "      <th>Protocol</th>\n",
       "      <th>SiteId</th>\n",
       "      <th>SiteName</th>\n",
       "      <th>MeasuredDate</th>\n",
       "      <th>LarvaeCountProcessed</th>\n",
       "      <th>geometry</th>\n",
       "      <th>index_right</th>\n",
       "      <th>STATEFP</th>\n",
       "      <th>COUNTYFP</th>\n",
       "      <th>COUNTYNS</th>\n",
       "      <th>GEOIDFQ</th>\n",
       "      <th>GEOID</th>\n",
       "      <th>NAME</th>\n",
       "      <th>NAMELSAD</th>\n",
       "      <th>STUSPS</th>\n",
       "      <th>STATE_NAME</th>\n",
       "      <th>LSAD</th>\n",
       "      <th>ALAND</th>\n",
       "      <th>AWATER</th>\n",
       "    </tr>\n",
       "  </thead>\n",
       "  <tbody>\n",
       "    <tr>\n",
       "      <th>6643</th>\n",
       "      <td>USA</td>\n",
       "      <td>United States</td>\n",
       "      <td>-0.4</td>\n",
       "      <td>None</td>\n",
       "      <td>true</td>\n",
       "      <td>When I went kayaking I saw sum in like the tre...</td>\n",
       "      <td>GLOBE Observer App</td>\n",
       "      <td>LarvaeVisibleNo</td>\n",
       "      <td>None</td>\n",
       "      <td>[WileyCollegeBIOL1422]</td>\n",
       "      <td>None</td>\n",
       "      <td>0</td>\n",
       "      <td>None</td>\n",
       "      <td>5</td>\n",
       "      <td>automatic</td>\n",
       "      <td>2023-03-30 02:01:00</td>\n",
       "      <td>0</td>\n",
       "      <td>26.1638</td>\n",
       "      <td>-80.1253</td>\n",
       "      <td>None</td>\n",
       "      <td>None</td>\n",
       "      <td>42851</td>\n",
       "      <td>false</td>\n",
       "      <td>None</td>\n",
       "      <td>103027879</td>\n",
       "      <td>puddle or still water next to a creek, stream ...</td>\n",
       "      <td>https://data.globe.gov/system/photos/2023/03/3...</td>\n",
       "      <td>flowing: still water found next to river or st...</td>\n",
       "      <td>17043304</td>\n",
       "      <td>United States of America Citizen Science</td>\n",
       "      <td>mosquito_habitat_mapper</td>\n",
       "      <td>314904</td>\n",
       "      <td>17RNJ874941</td>\n",
       "      <td>2023-03-30</td>\n",
       "      <td>0.0</td>\n",
       "      <td>POINT (-80.12548 26.16364)</td>\n",
       "      <td>57</td>\n",
       "      <td>12</td>\n",
       "      <td>011</td>\n",
       "      <td>00295753</td>\n",
       "      <td>0500000US12011</td>\n",
       "      <td>12011</td>\n",
       "      <td>Broward</td>\n",
       "      <td>Broward County</td>\n",
       "      <td>FL</td>\n",
       "      <td>Florida</td>\n",
       "      <td>06</td>\n",
       "      <td>3115495915</td>\n",
       "      <td>273317277</td>\n",
       "    </tr>\n",
       "    <tr>\n",
       "      <th>28674</th>\n",
       "      <td>USA</td>\n",
       "      <td>United States</td>\n",
       "      <td>4.7</td>\n",
       "      <td>None</td>\n",
       "      <td>false</td>\n",
       "      <td>None</td>\n",
       "      <td>GLOBE Observer App</td>\n",
       "      <td>None</td>\n",
       "      <td>None</td>\n",
       "      <td>[SEES2019]</td>\n",
       "      <td>None</td>\n",
       "      <td>0</td>\n",
       "      <td>identify</td>\n",
       "      <td>None</td>\n",
       "      <td>None</td>\n",
       "      <td>2019-08-24 11:27:00</td>\n",
       "      <td>0</td>\n",
       "      <td>26.3255</td>\n",
       "      <td>-80.1897</td>\n",
       "      <td>false</td>\n",
       "      <td>false</td>\n",
       "      <td>15439</td>\n",
       "      <td>false</td>\n",
       "      <td>None</td>\n",
       "      <td>57838002</td>\n",
       "      <td>puddle, vehhicle or animal tracks</td>\n",
       "      <td>https://data.globe.gov/system/photos/2019/08/2...</td>\n",
       "      <td>still: lake/pond/swamp</td>\n",
       "      <td>17043304</td>\n",
       "      <td>United States of America Citizen Science</td>\n",
       "      <td>mosquito_habitat_mapper</td>\n",
       "      <td>160462</td>\n",
       "      <td>17RNK808119</td>\n",
       "      <td>2019-08-24</td>\n",
       "      <td>0.0</td>\n",
       "      <td>POINT (-80.1904 26.32473)</td>\n",
       "      <td>57</td>\n",
       "      <td>12</td>\n",
       "      <td>011</td>\n",
       "      <td>00295753</td>\n",
       "      <td>0500000US12011</td>\n",
       "      <td>12011</td>\n",
       "      <td>Broward</td>\n",
       "      <td>Broward County</td>\n",
       "      <td>FL</td>\n",
       "      <td>Florida</td>\n",
       "      <td>06</td>\n",
       "      <td>3115495915</td>\n",
       "      <td>273317277</td>\n",
       "    </tr>\n",
       "    <tr>\n",
       "      <th>29024</th>\n",
       "      <td>USA</td>\n",
       "      <td>United States</td>\n",
       "      <td>4.7</td>\n",
       "      <td>None</td>\n",
       "      <td>false</td>\n",
       "      <td>None</td>\n",
       "      <td>GLOBE Observer App</td>\n",
       "      <td>None</td>\n",
       "      <td>None</td>\n",
       "      <td>[SEES2019]</td>\n",
       "      <td>None</td>\n",
       "      <td>None</td>\n",
       "      <td>identify</td>\n",
       "      <td>None</td>\n",
       "      <td>None</td>\n",
       "      <td>2019-08-14 19:06:00</td>\n",
       "      <td>0</td>\n",
       "      <td>26.3255</td>\n",
       "      <td>-80.1897</td>\n",
       "      <td>None</td>\n",
       "      <td>None</td>\n",
       "      <td>15169</td>\n",
       "      <td>false</td>\n",
       "      <td>None</td>\n",
       "      <td>57838002</td>\n",
       "      <td>puddle, vehhicle or animal tracks</td>\n",
       "      <td>https://data.globe.gov/system/photos/2019/08/1...</td>\n",
       "      <td>still: lake/pond/swamp</td>\n",
       "      <td>17043304</td>\n",
       "      <td>United States of America Citizen Science</td>\n",
       "      <td>mosquito_habitat_mapper</td>\n",
       "      <td>160462</td>\n",
       "      <td>17RNK808119</td>\n",
       "      <td>2019-08-14</td>\n",
       "      <td>NaN</td>\n",
       "      <td>POINT (-80.1904 26.32473)</td>\n",
       "      <td>57</td>\n",
       "      <td>12</td>\n",
       "      <td>011</td>\n",
       "      <td>00295753</td>\n",
       "      <td>0500000US12011</td>\n",
       "      <td>12011</td>\n",
       "      <td>Broward</td>\n",
       "      <td>Broward County</td>\n",
       "      <td>FL</td>\n",
       "      <td>Florida</td>\n",
       "      <td>06</td>\n",
       "      <td>3115495915</td>\n",
       "      <td>273317277</td>\n",
       "    </tr>\n",
       "    <tr>\n",
       "      <th>29395</th>\n",
       "      <td>USA</td>\n",
       "      <td>United States</td>\n",
       "      <td>4.7</td>\n",
       "      <td>None</td>\n",
       "      <td>false</td>\n",
       "      <td>None</td>\n",
       "      <td>GLOBE Observer App</td>\n",
       "      <td>None</td>\n",
       "      <td>None</td>\n",
       "      <td>[SEES2019]</td>\n",
       "      <td>None</td>\n",
       "      <td>None</td>\n",
       "      <td>identify</td>\n",
       "      <td>None</td>\n",
       "      <td>None</td>\n",
       "      <td>2019-08-04 16:29:00</td>\n",
       "      <td>0</td>\n",
       "      <td>26.3257</td>\n",
       "      <td>-80.1900</td>\n",
       "      <td>None</td>\n",
       "      <td>None</td>\n",
       "      <td>14785</td>\n",
       "      <td>false</td>\n",
       "      <td>None</td>\n",
       "      <td>57838002</td>\n",
       "      <td>adult mosquito trap</td>\n",
       "      <td>https://data.globe.gov/system/photos/2019/08/0...</td>\n",
       "      <td>container: artificial</td>\n",
       "      <td>17043304</td>\n",
       "      <td>United States of America Citizen Science</td>\n",
       "      <td>mosquito_habitat_mapper</td>\n",
       "      <td>160293</td>\n",
       "      <td>17RNK808120</td>\n",
       "      <td>2019-08-04</td>\n",
       "      <td>NaN</td>\n",
       "      <td>POINT (-80.1904 26.32564)</td>\n",
       "      <td>57</td>\n",
       "      <td>12</td>\n",
       "      <td>011</td>\n",
       "      <td>00295753</td>\n",
       "      <td>0500000US12011</td>\n",
       "      <td>12011</td>\n",
       "      <td>Broward</td>\n",
       "      <td>Broward County</td>\n",
       "      <td>FL</td>\n",
       "      <td>Florida</td>\n",
       "      <td>06</td>\n",
       "      <td>3115495915</td>\n",
       "      <td>273317277</td>\n",
       "    </tr>\n",
       "    <tr>\n",
       "      <th>29409</th>\n",
       "      <td>USA</td>\n",
       "      <td>United States</td>\n",
       "      <td>4.7</td>\n",
       "      <td>None</td>\n",
       "      <td>false</td>\n",
       "      <td>None</td>\n",
       "      <td>GLOBE Observer App</td>\n",
       "      <td>None</td>\n",
       "      <td>None</td>\n",
       "      <td>[SEES2019]</td>\n",
       "      <td>None</td>\n",
       "      <td>None</td>\n",
       "      <td>identify</td>\n",
       "      <td>None</td>\n",
       "      <td>None</td>\n",
       "      <td>2019-08-04 16:28:00</td>\n",
       "      <td>0</td>\n",
       "      <td>26.3254</td>\n",
       "      <td>-80.1899</td>\n",
       "      <td>None</td>\n",
       "      <td>None</td>\n",
       "      <td>14783</td>\n",
       "      <td>false</td>\n",
       "      <td>None</td>\n",
       "      <td>57838002</td>\n",
       "      <td>adult mosquito trap</td>\n",
       "      <td>https://data.globe.gov/system/photos/2019/08/0...</td>\n",
       "      <td>container: artificial</td>\n",
       "      <td>17043304</td>\n",
       "      <td>United States of America Citizen Science</td>\n",
       "      <td>mosquito_habitat_mapper</td>\n",
       "      <td>160462</td>\n",
       "      <td>17RNK808119</td>\n",
       "      <td>2019-08-04</td>\n",
       "      <td>NaN</td>\n",
       "      <td>POINT (-80.1904 26.32473)</td>\n",
       "      <td>57</td>\n",
       "      <td>12</td>\n",
       "      <td>011</td>\n",
       "      <td>00295753</td>\n",
       "      <td>0500000US12011</td>\n",
       "      <td>12011</td>\n",
       "      <td>Broward</td>\n",
       "      <td>Broward County</td>\n",
       "      <td>FL</td>\n",
       "      <td>Florida</td>\n",
       "      <td>06</td>\n",
       "      <td>3115495915</td>\n",
       "      <td>273317277</td>\n",
       "    </tr>\n",
       "  </tbody>\n",
       "</table>\n",
       "</div>"
      ],
      "text/plain": [
       "      CountryCode    CountryName Elevation AbdomenCloseupPhotoUrls  \\\n",
       "6643          USA  United States      -0.4                    None   \n",
       "28674         USA  United States       4.7                    None   \n",
       "29024         USA  United States       4.7                    None   \n",
       "29395         USA  United States       4.7                    None   \n",
       "29409         USA  United States       4.7                    None   \n",
       "\n",
       "      BreedingGroundEliminated  \\\n",
       "6643                      true   \n",
       "28674                    false   \n",
       "29024                    false   \n",
       "29395                    false   \n",
       "29409                    false   \n",
       "\n",
       "                                                Comments          DataSource  \\\n",
       "6643   When I went kayaking I saw sum in like the tre...  GLOBE Observer App   \n",
       "28674                                               None  GLOBE Observer App   \n",
       "29024                                               None  GLOBE Observer App   \n",
       "29395                                               None  GLOBE Observer App   \n",
       "29409                                               None  GLOBE Observer App   \n",
       "\n",
       "             ExtraData Genus              GlobeTeams LarvaFullBodyPhotoUrls  \\\n",
       "6643   LarvaeVisibleNo  None  [WileyCollegeBIOL1422]                   None   \n",
       "28674             None  None              [SEES2019]                   None   \n",
       "29024             None  None              [SEES2019]                   None   \n",
       "29395             None  None              [SEES2019]                   None   \n",
       "29409             None  None              [SEES2019]                   None   \n",
       "\n",
       "      LarvaeCount LastIdentifyStage LocationAccuracyM LocationMethod  \\\n",
       "6643            0              None                 5      automatic   \n",
       "28674           0          identify              None           None   \n",
       "29024        None          identify              None           None   \n",
       "29395        None          identify              None           None   \n",
       "29409        None          identify              None           None   \n",
       "\n",
       "               MeasuredAt MeasurementElevation  MeasurementLatitude  \\\n",
       "6643  2023-03-30 02:01:00                    0              26.1638   \n",
       "28674 2019-08-24 11:27:00                    0              26.3255   \n",
       "29024 2019-08-14 19:06:00                    0              26.3255   \n",
       "29395 2019-08-04 16:29:00                    0              26.3257   \n",
       "29409 2019-08-04 16:28:00                    0              26.3254   \n",
       "\n",
       "       MeasurementLongitude MosquitoAdults MosquitoEggs  \\\n",
       "6643               -80.1253           None         None   \n",
       "28674              -80.1897          false        false   \n",
       "29024              -80.1897           None         None   \n",
       "29395              -80.1900           None         None   \n",
       "29409              -80.1899           None         None   \n",
       "\n",
       "      MosquitoHabitatMapperId MosquitoPupae Species     Userid  \\\n",
       "6643                    42851         false    None  103027879   \n",
       "28674                   15439         false    None   57838002   \n",
       "29024                   15169         false    None   57838002   \n",
       "29395                   14785         false    None   57838002   \n",
       "29409                   14783         false    None   57838002   \n",
       "\n",
       "                                             WaterSource  \\\n",
       "6643   puddle or still water next to a creek, stream ...   \n",
       "28674                  puddle, vehhicle or animal tracks   \n",
       "29024                  puddle, vehhicle or animal tracks   \n",
       "29395                                adult mosquito trap   \n",
       "29409                                adult mosquito trap   \n",
       "\n",
       "                                    WaterSourcePhotoUrls  \\\n",
       "6643   https://data.globe.gov/system/photos/2023/03/3...   \n",
       "28674  https://data.globe.gov/system/photos/2019/08/2...   \n",
       "29024  https://data.globe.gov/system/photos/2019/08/1...   \n",
       "29395  https://data.globe.gov/system/photos/2019/08/0...   \n",
       "29409  https://data.globe.gov/system/photos/2019/08/0...   \n",
       "\n",
       "                                         WaterSourceType OrganizationId  \\\n",
       "6643   flowing: still water found next to river or st...       17043304   \n",
       "28674                             still: lake/pond/swamp       17043304   \n",
       "29024                             still: lake/pond/swamp       17043304   \n",
       "29395                              container: artificial       17043304   \n",
       "29409                              container: artificial       17043304   \n",
       "\n",
       "                               OrganizationName                 Protocol  \\\n",
       "6643   United States of America Citizen Science  mosquito_habitat_mapper   \n",
       "28674  United States of America Citizen Science  mosquito_habitat_mapper   \n",
       "29024  United States of America Citizen Science  mosquito_habitat_mapper   \n",
       "29395  United States of America Citizen Science  mosquito_habitat_mapper   \n",
       "29409  United States of America Citizen Science  mosquito_habitat_mapper   \n",
       "\n",
       "       SiteId     SiteName MeasuredDate  LarvaeCountProcessed  \\\n",
       "6643   314904  17RNJ874941   2023-03-30                   0.0   \n",
       "28674  160462  17RNK808119   2019-08-24                   0.0   \n",
       "29024  160462  17RNK808119   2019-08-14                   NaN   \n",
       "29395  160293  17RNK808120   2019-08-04                   NaN   \n",
       "29409  160462  17RNK808119   2019-08-04                   NaN   \n",
       "\n",
       "                         geometry  index_right STATEFP COUNTYFP  COUNTYNS  \\\n",
       "6643   POINT (-80.12548 26.16364)           57      12      011  00295753   \n",
       "28674   POINT (-80.1904 26.32473)           57      12      011  00295753   \n",
       "29024   POINT (-80.1904 26.32473)           57      12      011  00295753   \n",
       "29395   POINT (-80.1904 26.32564)           57      12      011  00295753   \n",
       "29409   POINT (-80.1904 26.32473)           57      12      011  00295753   \n",
       "\n",
       "              GEOIDFQ  GEOID     NAME        NAMELSAD STUSPS STATE_NAME LSAD  \\\n",
       "6643   0500000US12011  12011  Broward  Broward County     FL    Florida   06   \n",
       "28674  0500000US12011  12011  Broward  Broward County     FL    Florida   06   \n",
       "29024  0500000US12011  12011  Broward  Broward County     FL    Florida   06   \n",
       "29395  0500000US12011  12011  Broward  Broward County     FL    Florida   06   \n",
       "29409  0500000US12011  12011  Broward  Broward County     FL    Florida   06   \n",
       "\n",
       "            ALAND     AWATER  \n",
       "6643   3115495915  273317277  \n",
       "28674  3115495915  273317277  \n",
       "29024  3115495915  273317277  \n",
       "29395  3115495915  273317277  \n",
       "29409  3115495915  273317277  "
      ]
     },
     "execution_count": 6,
     "metadata": {},
     "output_type": "execute_result"
    }
   ],
   "source": [
    "data_county.head()"
   ]
  },
  {
   "cell_type": "markdown",
   "metadata": {
    "id": "uO1XLJwNCHEx"
   },
   "source": [
    "How many mosquito observations have been submitted to GLOBE Observer each year? We'll make a bar plot to figure this out."
   ]
  },
  {
   "cell_type": "code",
   "execution_count": 7,
   "metadata": {
    "colab": {
     "base_uri": "https://localhost:8080/",
     "height": 452
    },
    "id": "yzXwV7t3nI5W",
    "outputId": "bf9cf49a-a0a9-4d91-c77c-0664ba241120"
   },
   "outputs": [
    {
     "data": {
      "image/png": "[encoded data removed]",
      "text/plain": [
       "<Figure size 640x480 with 1 Axes>"
      ]
     },
     "metadata": {},
     "output_type": "display_data"
    }
   ],
   "source": [
    "# Add a new column for year\n",
    "data_county['MeasuredYear'] = data_county['MeasuredAt'].dt.year\n",
    "\n",
    "# Make histogram of mosquito sightings each year\n",
    "years = data_county[['SiteId', 'MeasuredYear']].groupby('MeasuredYear', as_index=False).count()\n",
    "plt.bar(years['MeasuredYear'], years['SiteId'])\n",
    "plt.title(\"Mosquito Sightings by Year\", loc = 'left')\n",
    "plt.title(county_name, loc = 'right')\n",
    "plt.show()"
   ]
  },
  {
   "cell_type": "markdown",
   "metadata": {
    "id": "9_XArhcmmcKN"
   },
   "source": [
    "Let's make a pie chart of the water source types (both general and specific) where mosquitoes were reported in this county."
   ]
  },
  {
   "cell_type": "code",
   "execution_count": 8,
   "metadata": {
    "colab": {
     "base_uri": "https://localhost:8080/",
     "height": 444
    },
    "id": "tNJuiEDtmgjH",
    "outputId": "2b9288ad-6fb9-4872-f2ce-c02184ca7f1c"
   },
   "outputs": [
    {
     "data": {
      "image/png": "[encoded data removed]",
      "text/plain": [
       "<Figure size 500x500 with 1 Axes>"
      ]
     },
     "metadata": {},
     "output_type": "display_data"
    }
   ],
   "source": [
    "types = data_county[['SiteId', 'WaterSourceType']].groupby('WaterSourceType', as_index=False).count()\n",
    "\n",
    "plt.figure(figsize=(5, 5))\n",
    "patches, texts = plt.pie(x = types['SiteId'],\n",
    "                         colors = sns.color_palette('Set2'))\n",
    "plt.title(f\"GLOBE Mosquito Sightings in {county_name}: Water Source Types (General)\")\n",
    "plt.legend(patches, types['WaterSourceType'],\n",
    "           loc = 'center left', bbox_to_anchor=(1, 0.5), frameon=False)\n",
    "plt.show()"
   ]
  },
  {
   "cell_type": "code",
   "execution_count": 9,
   "metadata": {
    "colab": {
     "base_uri": "https://localhost:8080/",
     "height": 444
    },
    "id": "H0mqttTBmxR1",
    "outputId": "0e83d2fc-36e8-4c4e-a72b-252e65afb6c0"
   },
   "outputs": [
    {
     "data": {
      "image/png": "[encoded data removed]",
      "text/plain": [
       "<Figure size 500x500 with 1 Axes>"
      ]
     },
     "metadata": {},
     "output_type": "display_data"
    }
   ],
   "source": [
    "types = data_county[['SiteId', 'WaterSource']].groupby('WaterSource', as_index=False).count()\n",
    "\n",
    "plt.figure(figsize=(5, 5))\n",
    "patches, texts = plt.pie(x = types['SiteId'],\n",
    "                         colors = sns.color_palette('Set2'))\n",
    "plt.title(f\"GLOBE Mosquito Sightings in {county_name}: Water Source Types (Specific)\")\n",
    "plt.legend(patches, types['WaterSource'],\n",
    "           loc = 'center left', bbox_to_anchor=(1, 0.5), frameon=False)\n",
    "plt.show()"
   ]
  },
  {
   "cell_type": "markdown",
   "metadata": {
    "id": "U8R0vNRTAeZd"
   },
   "source": [
    "## Temperature and Land Use"
   ]
  },
  {
   "cell_type": "markdown",
   "metadata": {
    "id": "xEEg5Y-WApdZ"
   },
   "source": [
    "The following code sets everything up needed for our analysis using Google Earth Engine."
   ]
  },
  {
   "cell_type": "code",
   "execution_count": 10,
   "metadata": {
    "colab": {
     "base_uri": "https://localhost:8080/",
     "height": 17
    },
    "id": "MQmF8_otAhFn",
    "outputId": "3b088187-6135-41cc-e6ce-e9e924e121d8"
   },
   "outputs": [
    {
     "name": "stderr",
     "output_type": "stream",
     "text": [
      "*** Earth Engine *** Share your feedback by taking our Annual Developer Satisfaction Survey: https://google.qualtrics.com/jfe/form/SV_7TDKVSyKvBdmMqW?ref=4i2o6\n"
     ]
    }
   ],
   "source": [
    "from datetime import datetime\n",
    "import numpy as np\n",
    "from pylab import *\n",
    "import folium\n",
    "import ee\n",
    "import geemap\n",
    "import geopandas as gpd\n",
    "ee.Authenticate()\n",
    "\n",
    "# Write your project ID here, in quotes\n",
    "ee.Initialize(project = \"emerge-lessons\")\n",
    "\n",
    "def add_ee_layer(self, ee_image_object, vis_params, name):\n",
    "    \"\"\"Adds a method for displaying Earth Engine image tiles to folium map.\"\"\"\n",
    "    map_id_dict = ee.Image(ee_image_object).getMapId(vis_params)\n",
    "    folium.raster_layers.TileLayer(\n",
    "        tiles=map_id_dict['tile_fetcher'].url_format,\n",
    "        attr='Map Data &copy; <a href=\"https://earthengine.google.com/\">Google Earth Engine</a>',\n",
    "        name=name,\n",
    "        overlay=True,\n",
    "        control=True\n",
    "    ).add_to(self)\n",
    "\n",
    "folium.Map.add_ee_layer = add_ee_layer"
   ]
  },
  {
   "cell_type": "code",
   "execution_count": 11,
   "metadata": {
    "colab": {
     "base_uri": "https://localhost:8080/",
     "height": 17
    },
    "id": "Cv6a6seDR7m3",
    "outputId": "2007e570-5bd0-4ead-9faf-69e92b94cdad"
   },
   "outputs": [
    {
     "data": {
      "text/html": [
       "\n",
       "            <style>\n",
       "                .geemap-dark {\n",
       "                    --jp-widgets-color: white;\n",
       "                    --jp-widgets-label-color: white;\n",
       "                    --jp-ui-font-color1: white;\n",
       "                    --jp-layout-color2: #454545;\n",
       "                    background-color: #383838;\n",
       "                }\n",
       "\n",
       "                .geemap-dark .jupyter-button {\n",
       "                    --jp-layout-color3: #383838;\n",
       "                }\n",
       "\n",
       "                .geemap-colab {\n",
       "                    background-color: var(--colab-primary-surface-color, white);\n",
       "                }\n",
       "\n",
       "                .geemap-colab .jupyter-button {\n",
       "                    --jp-layout-color3: var(--colab-primary-surface-color, white);\n",
       "                }\n",
       "            </style>\n",
       "            "
      ],
      "text/plain": [
       "<IPython.core.display.HTML object>"
      ]
     },
     "metadata": {},
     "output_type": "display_data"
    }
   ],
   "source": [
    "# Convert county boundaries to Earth Engine format\n",
    "region = geemap.geopandas_to_ee(county)\n",
    "\n",
    "# Zoom to the county\n",
    "county_center = county.iloc[0].geometry.centroid\n",
    "\n",
    "map = folium.Map([county_center.y, county_center.x], tiles=\"Cartodb dark_matter\", zoom_start=10)"
   ]
  },
  {
   "cell_type": "markdown",
   "metadata": {
    "id": "CVpKmdvLG9hS"
   },
   "source": [
    "Map land surface temperature across the county.\n",
    "\n",
    "First, define a date range. We will find the average temperature within this range. For this example, we will use June 2025. The start date is inclusive (meaning we'll get data including that date) and the end date is exclusive (meaning we'll get all dates leading up to, but not including, the end date)."
   ]
  },
  {
   "cell_type": "code",
   "execution_count": 12,
   "metadata": {
    "colab": {
     "base_uri": "https://localhost:8080/",
     "height": 17
    },
    "id": "Niqzo8M7P8Bw",
    "outputId": "f991d30d-8f19-4f9e-9d6e-e3210103d42c"
   },
   "outputs": [
    {
     "data": {
      "text/html": [
       "\n",
       "            <style>\n",
       "                .geemap-dark {\n",
       "                    --jp-widgets-color: white;\n",
       "                    --jp-widgets-label-color: white;\n",
       "                    --jp-ui-font-color1: white;\n",
       "                    --jp-layout-color2: #454545;\n",
       "                    background-color: #383838;\n",
       "                }\n",
       "\n",
       "                .geemap-dark .jupyter-button {\n",
       "                    --jp-layout-color3: #383838;\n",
       "                }\n",
       "\n",
       "                .geemap-colab {\n",
       "                    background-color: var(--colab-primary-surface-color, white);\n",
       "                }\n",
       "\n",
       "                .geemap-colab .jupyter-button {\n",
       "                    --jp-layout-color3: var(--colab-primary-surface-color, white);\n",
       "                }\n",
       "            </style>\n",
       "            "
      ],
      "text/plain": [
       "<IPython.core.display.HTML object>"
      ]
     },
     "metadata": {},
     "output_type": "display_data"
    }
   ],
   "source": [
    "start_date = \"2025-06-01\"\n",
    "end_date = \"2025-07-01\""
   ]
  },
  {
   "cell_type": "markdown",
   "metadata": {
    "id": "9_xZt7RcCdEC"
   },
   "source": [
    "The data comes from Google Earth Engine: [MOD11A1.061 Terra Land Surface Temperature and Emissivity Daily Global 1km](https://developers.google.com/earth-engine/datasets/catalog/MODIS_061_MOD11A1). The land surface temperature data are scaled, so to get the original temperature in Kelvin, the value needs to be multipled by 0.02. Then, this can be converted into degrees Celsius and Fahrenheit."
   ]
  },
  {
   "cell_type": "code",
   "execution_count": 13,
   "metadata": {
    "colab": {
     "base_uri": "https://localhost:8080/",
     "height": 17
    },
    "id": "m-HUE9pBTyes",
    "outputId": "b5cf9e56-6214-4d48-9cab-ba30b0110646"
   },
   "outputs": [
    {
     "data": {
      "text/html": [
       "\n",
       "            <style>\n",
       "                .geemap-dark {\n",
       "                    --jp-widgets-color: white;\n",
       "                    --jp-widgets-label-color: white;\n",
       "                    --jp-ui-font-color1: white;\n",
       "                    --jp-layout-color2: #454545;\n",
       "                    background-color: #383838;\n",
       "                }\n",
       "\n",
       "                .geemap-dark .jupyter-button {\n",
       "                    --jp-layout-color3: #383838;\n",
       "                }\n",
       "\n",
       "                .geemap-colab {\n",
       "                    background-color: var(--colab-primary-surface-color, white);\n",
       "                }\n",
       "\n",
       "                .geemap-colab .jupyter-button {\n",
       "                    --jp-layout-color3: var(--colab-primary-surface-color, white);\n",
       "                }\n",
       "            </style>\n",
       "            "
      ],
      "text/plain": [
       "<IPython.core.display.HTML object>"
      ]
     },
     "metadata": {},
     "output_type": "display_data"
    }
   ],
   "source": [
    "def to_fahrenheit(lst):\n",
    "  celsius = lst * 0.02 - 273.15\n",
    "  fahrenheit = celsius * 1.8 + 32\n",
    "  return fahrenheit\n",
    "\n",
    "def to_lst(fahrenheit):\n",
    "  celsius = (fahrenheit - 32) / 1.8\n",
    "  lst = (celsius + 273.15) / 0.02\n",
    "  return lst"
   ]
  },
  {
   "cell_type": "code",
   "execution_count": 14,
   "metadata": {
    "colab": {
     "base_uri": "https://localhost:8080/",
     "height": 968
    },
    "id": "OVKCZyLcApGL",
    "outputId": "f739d13d-473c-4135-f5a7-47ae97d40ad0"
   },
   "outputs": [
    {
     "data": {
      "text/html": [
       "\n",
       "            <style>\n",
       "                .geemap-dark {\n",
       "                    --jp-widgets-color: white;\n",
       "                    --jp-widgets-label-color: white;\n",
       "                    --jp-ui-font-color1: white;\n",
       "                    --jp-layout-color2: #454545;\n",
       "                    background-color: #383838;\n",
       "                }\n",
       "\n",
       "                .geemap-dark .jupyter-button {\n",
       "                    --jp-layout-color3: #383838;\n",
       "                }\n",
       "\n",
       "                .geemap-colab {\n",
       "                    background-color: var(--colab-primary-surface-color, white);\n",
       "                }\n",
       "\n",
       "                .geemap-colab .jupyter-button {\n",
       "                    --jp-layout-color3: var(--colab-primary-surface-color, white);\n",
       "                }\n",
       "            </style>\n",
       "            "
      ],
      "text/plain": [
       "<IPython.core.display.HTML object>"
      ]
     },
     "metadata": {},
     "output_type": "display_data"
    },
    {
     "data": {
      "text/html": [
       "<div style=\"width:100%;\"><div style=\"position:relative;width:100%;height:0;padding-bottom:60%;\"><span style=\"color:#565656\">Make this Notebook Trusted to load map: File -> Trust Notebook</span><iframe srcdoc=\"&lt;!DOCTYPE html&gt;\n",
       "&lt;html&gt;\n",
       "&lt;head&gt;\n",
       "    \n",
       "    &lt;meta http-equiv=&quot;content-type&quot; content=&quot;text/html; charset=UTF-8&quot; /&gt;\n",
       "    &lt;script src=&quot;https://cdn.jsdelivr.net/npm/leaflet@1.9.3/dist/leaflet.js&quot;&gt;&lt;/script&gt;\n",
       "    &lt;script src=&quot;https://code.jquery.com/jquery-3.7.1.min.js&quot;&gt;&lt;/script&gt;\n",
       "    &lt;script src=&quot;https://cdn.jsdelivr.net/npm/bootstrap@5.2.2/dist/js/bootstrap.bundle.min.js&quot;&gt;&lt;/script&gt;\n",
       "    &lt;script src=&quot;https://cdnjs.cloudflare.com/ajax/libs/Leaflet.awesome-markers/2.0.2/leaflet.awesome-markers.js&quot;&gt;&lt;/script&gt;\n",
       "    &lt;link rel=&quot;stylesheet&quot; href=&quot;https://cdn.jsdelivr.net/npm/leaflet@1.9.3/dist/leaflet.css&quot;/&gt;\n",
       "    &lt;link rel=&quot;stylesheet&quot; href=&quot;https://cdn.jsdelivr.net/npm/bootstrap@5.2.2/dist/css/bootstrap.min.css&quot;/&gt;\n",
       "    &lt;link rel=&quot;stylesheet&quot; href=&quot;https://netdna.bootstrapcdn.com/bootstrap/3.0.0/css/bootstrap-glyphicons.css&quot;/&gt;\n",
       "    &lt;link rel=&quot;stylesheet&quot; href=&quot;https://cdn.jsdelivr.net/npm/@fortawesome/fontawesome-free@6.2.0/css/all.min.css&quot;/&gt;\n",
       "    &lt;link rel=&quot;stylesheet&quot; href=&quot;https://cdnjs.cloudflare.com/ajax/libs/Leaflet.awesome-markers/2.0.2/leaflet.awesome-markers.css&quot;/&gt;\n",
       "    &lt;link rel=&quot;stylesheet&quot; href=&quot;https://cdn.jsdelivr.net/gh/python-visualization/folium/folium/templates/leaflet.awesome.rotate.min.css&quot;/&gt;\n",
       "    \n",
       "            &lt;meta name=&quot;viewport&quot; content=&quot;width=device-width,\n",
       "                initial-scale=1.0, maximum-scale=1.0, user-scalable=no&quot; /&gt;\n",
       "            &lt;style&gt;\n",
       "                #map_706f3175b7f05e4aea9885f38234848d {\n",
       "                    position: relative;\n",
       "                    width: 100.0%;\n",
       "                    height: 100.0%;\n",
       "                    left: 0.0%;\n",
       "                    top: 0.0%;\n",
       "                }\n",
       "                .leaflet-container { font-size: 1rem; }\n",
       "            &lt;/style&gt;\n",
       "\n",
       "            &lt;style&gt;html, body {\n",
       "                width: 100%;\n",
       "                height: 100%;\n",
       "                margin: 0;\n",
       "                padding: 0;\n",
       "            }\n",
       "            &lt;/style&gt;\n",
       "\n",
       "            &lt;style&gt;#map {\n",
       "                position:absolute;\n",
       "                top:0;\n",
       "                bottom:0;\n",
       "                right:0;\n",
       "                left:0;\n",
       "                }\n",
       "            &lt;/style&gt;\n",
       "\n",
       "            &lt;script&gt;\n",
       "                L_NO_TOUCH = false;\n",
       "                L_DISABLE_3D = false;\n",
       "            &lt;/script&gt;\n",
       "\n",
       "        \n",
       "&lt;/head&gt;\n",
       "&lt;body&gt;\n",
       "    \n",
       "    \n",
       "            &lt;div class=&quot;folium-map&quot; id=&quot;map_706f3175b7f05e4aea9885f38234848d&quot; &gt;&lt;/div&gt;\n",
       "        \n",
       "&lt;/body&gt;\n",
       "&lt;script&gt;\n",
       "    \n",
       "    \n",
       "            var map_706f3175b7f05e4aea9885f38234848d = L.map(\n",
       "                &quot;map_706f3175b7f05e4aea9885f38234848d&quot;,\n",
       "                {\n",
       "                    center: [26.152315495642696, -80.487072697842],\n",
       "                    crs: L.CRS.EPSG3857,\n",
       "                    ...{\n",
       "  &quot;zoom&quot;: 10,\n",
       "  &quot;zoomControl&quot;: true,\n",
       "  &quot;preferCanvas&quot;: false,\n",
       "}\n",
       "\n",
       "                }\n",
       "            );\n",
       "\n",
       "            \n",
       "\n",
       "        \n",
       "    \n",
       "            var tile_layer_66900fb922a9e937bbe68c9898e2b064 = L.tileLayer(\n",
       "                &quot;https://{s}.basemaps.cartocdn.com/dark_all/{z}/{x}/{y}{r}.png&quot;,\n",
       "                {\n",
       "  &quot;minZoom&quot;: 0,\n",
       "  &quot;maxZoom&quot;: 20,\n",
       "  &quot;maxNativeZoom&quot;: 20,\n",
       "  &quot;noWrap&quot;: false,\n",
       "  &quot;attribution&quot;: &quot;\\u0026copy; \\u003ca href=\\&quot;https://www.openstreetmap.org/copyright\\&quot;\\u003eOpenStreetMap\\u003c/a\\u003e contributors \\u0026copy; \\u003ca href=\\&quot;https://carto.com/attributions\\&quot;\\u003eCARTO\\u003c/a\\u003e&quot;,\n",
       "  &quot;subdomains&quot;: &quot;abcd&quot;,\n",
       "  &quot;detectRetina&quot;: false,\n",
       "  &quot;tms&quot;: false,\n",
       "  &quot;opacity&quot;: 1,\n",
       "}\n",
       "\n",
       "            );\n",
       "        \n",
       "    \n",
       "            tile_layer_66900fb922a9e937bbe68c9898e2b064.addTo(map_706f3175b7f05e4aea9885f38234848d);\n",
       "        \n",
       "    \n",
       "            var tile_layer_10314361978bd32aa91c3be4bf6cd20d = L.tileLayer(\n",
       "                &quot;https://earthengine.googleapis.com/v1/projects/emerge-lessons/maps/3d34c59967294fd8a171eafa5c24fef3-de6a02431293109e58c25162c50bd0ca/tiles/{z}/{x}/{y}&quot;,\n",
       "                {\n",
       "  &quot;minZoom&quot;: 0,\n",
       "  &quot;maxZoom&quot;: 18,\n",
       "  &quot;maxNativeZoom&quot;: 18,\n",
       "  &quot;noWrap&quot;: false,\n",
       "  &quot;attribution&quot;: &quot;Map Data \\u0026copy; \\u003ca href=\\&quot;https://earthengine.google.com/\\&quot;\\u003eGoogle Earth Engine\\u003c/a\\u003e&quot;,\n",
       "  &quot;subdomains&quot;: &quot;abc&quot;,\n",
       "  &quot;detectRetina&quot;: false,\n",
       "  &quot;tms&quot;: false,\n",
       "  &quot;opacity&quot;: 1,\n",
       "}\n",
       "\n",
       "            );\n",
       "        \n",
       "    \n",
       "            tile_layer_10314361978bd32aa91c3be4bf6cd20d.addTo(map_706f3175b7f05e4aea9885f38234848d);\n",
       "        \n",
       "&lt;/script&gt;\n",
       "&lt;/html&gt;\" style=\"position:absolute;width:100%;height:100%;left:0;top:0;border:none !important;\" allowfullscreen webkitallowfullscreen mozallowfullscreen></iframe></div></div>"
      ],
      "text/plain": [
       "<folium.folium.Map at 0x24b339e7790>"
      ]
     },
     "metadata": {},
     "output_type": "display_data"
    }
   ],
   "source": [
    "lst = (\n",
    "    ee.ImageCollection('MODIS/061/MOD11A1')\n",
    "      .filterDate(start_date, end_date)\n",
    "      .select('LST_Day_1km')\n",
    "      .mean()   # Can also use median() here to get the median instead of the average\n",
    "      .clip(region)\n",
    ")\n",
    "\n",
    "colors = [\n",
    "    '040274', '040281', '0502a3', '0502b8', '0502ce', '0502e6',\n",
    "    '0602ff', '235cb1', '307ef3', '269db1', '30c8e2', '32d3ef',\n",
    "    '3be285', '3ff38f', '86e26f', '3ae237', 'b5e22e', 'd6e21f',\n",
    "    'fff705', 'ffd611', 'ffb613', 'ff8b13', 'ff6e08', 'ff500d',\n",
    "    'ff0000', 'de0101', 'c21301', 'a71001', '911003'\n",
    "]\n",
    "\n",
    "lst_vis = {\n",
    "    'min': 14157.5, # 50 *F\n",
    "    'max': 15546.4, # 100 *F\n",
    "    'palette': colors,\n",
    "}\n",
    "\n",
    "map.add_ee_layer(lst, lst_vis, \"LST\")\n",
    "\n",
    "display(map)"
   ]
  },
  {
   "cell_type": "markdown",
   "metadata": {
    "id": "-U-Cop7T_CvA"
   },
   "source": [
    "Below is a colorbar that shows what the colors on the map represents: land surface temperature in degrees Fahrenheit."
   ]
  },
  {
   "cell_type": "code",
   "execution_count": 15,
   "metadata": {
    "colab": {
     "base_uri": "https://localhost:8080/",
     "height": 79
    },
    "id": "w7UHChH5-YZx",
    "outputId": "445a4d0b-7943-477f-fc8c-829fd95cce35"
   },
   "outputs": [
    {
     "data": {
      "text/html": [
       "\n",
       "            <style>\n",
       "                .geemap-dark {\n",
       "                    --jp-widgets-color: white;\n",
       "                    --jp-widgets-label-color: white;\n",
       "                    --jp-ui-font-color1: white;\n",
       "                    --jp-layout-color2: #454545;\n",
       "                    background-color: #383838;\n",
       "                }\n",
       "\n",
       "                .geemap-dark .jupyter-button {\n",
       "                    --jp-layout-color3: #383838;\n",
       "                }\n",
       "\n",
       "                .geemap-colab {\n",
       "                    background-color: var(--colab-primary-surface-color, white);\n",
       "                }\n",
       "\n",
       "                .geemap-colab .jupyter-button {\n",
       "                    --jp-layout-color3: var(--colab-primary-surface-color, white);\n",
       "                }\n",
       "            </style>\n",
       "            "
      ],
      "text/plain": [
       "<IPython.core.display.HTML object>"
      ]
     },
     "metadata": {},
     "output_type": "display_data"
    },
    {
     "data": {
      "image/png": "[encoded data removed]",
      "text/plain": [
       "<Figure size 2900x100 with 1 Axes>"
      ]
     },
     "metadata": {},
     "output_type": "display_data"
    }
   ],
   "source": [
    "plt.figure(figsize=(len(colors), 1))\n",
    "plt.imshow([ [to_rgb(f'#{c}') for c in colors] ])\n",
    "\n",
    "plt.text(-0.6, 0.1, '50 °F', va='center', ha='right', fontsize=24)\n",
    "plt.text(len(colors) - 0.4, 0.1, '100 °F', va='center', ha='left', fontsize=24)\n",
    "\n",
    "plt.axis('off')\n",
    "plt.show()"
   ]
  },
  {
   "cell_type": "markdown",
   "metadata": {
    "id": "moSJFo5uG-lA"
   },
   "source": [
    "Next, find the average temperature across the county."
   ]
  },
  {
   "cell_type": "code",
   "execution_count": 16,
   "metadata": {
    "colab": {
     "base_uri": "https://localhost:8080/",
     "height": 34
    },
    "id": "GU_eRJajtCs1",
    "outputId": "e20b2b8e-fdd7-406d-a75a-98d4f41e9b16"
   },
   "outputs": [
    {
     "data": {
      "text/html": [
       "\n",
       "            <style>\n",
       "                .geemap-dark {\n",
       "                    --jp-widgets-color: white;\n",
       "                    --jp-widgets-label-color: white;\n",
       "                    --jp-ui-font-color1: white;\n",
       "                    --jp-layout-color2: #454545;\n",
       "                    background-color: #383838;\n",
       "                }\n",
       "\n",
       "                .geemap-dark .jupyter-button {\n",
       "                    --jp-layout-color3: #383838;\n",
       "                }\n",
       "\n",
       "                .geemap-colab {\n",
       "                    background-color: var(--colab-primary-surface-color, white);\n",
       "                }\n",
       "\n",
       "                .geemap-colab .jupyter-button {\n",
       "                    --jp-layout-color3: var(--colab-primary-surface-color, white);\n",
       "                }\n",
       "            </style>\n",
       "            "
      ],
      "text/plain": [
       "<IPython.core.display.HTML object>"
      ]
     },
     "metadata": {},
     "output_type": "display_data"
    },
    {
     "name": "stdout",
     "output_type": "stream",
     "text": [
      "The average temperature for Broward County from 2025-06-01 to 2025-07-01 is 87.67°F\n"
     ]
    }
   ],
   "source": [
    "mean_lst = lst.reduceRegion(reducer=ee.Reducer.mean(), geometry=region, scale=1000,\n",
    "                              maxPixels=1e12).get('LST_Day_1km').getInfo()\n",
    "\n",
    "print(f\"The average temperature for {county_name} from {start_date} to {end_date} is {round(to_fahrenheit(mean_lst), 2)}°F\")"
   ]
  },
  {
   "cell_type": "markdown",
   "metadata": {
    "id": "4q75DLnNHABS"
   },
   "source": [
    "See the land use and land cover in the county."
   ]
  },
  {
   "cell_type": "code",
   "execution_count": 17,
   "metadata": {
    "colab": {
     "base_uri": "https://localhost:8080/",
     "height": 968
    },
    "id": "JSdu6DypHClh",
    "outputId": "f04dffd9-87e7-4168-d712-4048013970f3"
   },
   "outputs": [
    {
     "data": {
      "text/html": [
       "\n",
       "            <style>\n",
       "                .geemap-dark {\n",
       "                    --jp-widgets-color: white;\n",
       "                    --jp-widgets-label-color: white;\n",
       "                    --jp-ui-font-color1: white;\n",
       "                    --jp-layout-color2: #454545;\n",
       "                    background-color: #383838;\n",
       "                }\n",
       "\n",
       "                .geemap-dark .jupyter-button {\n",
       "                    --jp-layout-color3: #383838;\n",
       "                }\n",
       "\n",
       "                .geemap-colab {\n",
       "                    background-color: var(--colab-primary-surface-color, white);\n",
       "                }\n",
       "\n",
       "                .geemap-colab .jupyter-button {\n",
       "                    --jp-layout-color3: var(--colab-primary-surface-color, white);\n",
       "                }\n",
       "            </style>\n",
       "            "
      ],
      "text/plain": [
       "<IPython.core.display.HTML object>"
      ]
     },
     "metadata": {},
     "output_type": "display_data"
    },
    {
     "data": {
      "text/html": [
       "<div style=\"width:100%;\"><div style=\"position:relative;width:100%;height:0;padding-bottom:60%;\"><span style=\"color:#565656\">Make this Notebook Trusted to load map: File -> Trust Notebook</span><iframe srcdoc=\"&lt;!DOCTYPE html&gt;\n",
       "&lt;html&gt;\n",
       "&lt;head&gt;\n",
       "    \n",
       "    &lt;meta http-equiv=&quot;content-type&quot; content=&quot;text/html; charset=UTF-8&quot; /&gt;\n",
       "    &lt;script src=&quot;https://cdn.jsdelivr.net/npm/leaflet@1.9.3/dist/leaflet.js&quot;&gt;&lt;/script&gt;\n",
       "    &lt;script src=&quot;https://code.jquery.com/jquery-3.7.1.min.js&quot;&gt;&lt;/script&gt;\n",
       "    &lt;script src=&quot;https://cdn.jsdelivr.net/npm/bootstrap@5.2.2/dist/js/bootstrap.bundle.min.js&quot;&gt;&lt;/script&gt;\n",
       "    &lt;script src=&quot;https://cdnjs.cloudflare.com/ajax/libs/Leaflet.awesome-markers/2.0.2/leaflet.awesome-markers.js&quot;&gt;&lt;/script&gt;\n",
       "    &lt;link rel=&quot;stylesheet&quot; href=&quot;https://cdn.jsdelivr.net/npm/leaflet@1.9.3/dist/leaflet.css&quot;/&gt;\n",
       "    &lt;link rel=&quot;stylesheet&quot; href=&quot;https://cdn.jsdelivr.net/npm/bootstrap@5.2.2/dist/css/bootstrap.min.css&quot;/&gt;\n",
       "    &lt;link rel=&quot;stylesheet&quot; href=&quot;https://netdna.bootstrapcdn.com/bootstrap/3.0.0/css/bootstrap-glyphicons.css&quot;/&gt;\n",
       "    &lt;link rel=&quot;stylesheet&quot; href=&quot;https://cdn.jsdelivr.net/npm/@fortawesome/fontawesome-free@6.2.0/css/all.min.css&quot;/&gt;\n",
       "    &lt;link rel=&quot;stylesheet&quot; href=&quot;https://cdnjs.cloudflare.com/ajax/libs/Leaflet.awesome-markers/2.0.2/leaflet.awesome-markers.css&quot;/&gt;\n",
       "    &lt;link rel=&quot;stylesheet&quot; href=&quot;https://cdn.jsdelivr.net/gh/python-visualization/folium/folium/templates/leaflet.awesome.rotate.min.css&quot;/&gt;\n",
       "    \n",
       "            &lt;meta name=&quot;viewport&quot; content=&quot;width=device-width,\n",
       "                initial-scale=1.0, maximum-scale=1.0, user-scalable=no&quot; /&gt;\n",
       "            &lt;style&gt;\n",
       "                #map_6433594337b03fbd25019aeeaa47cdcb {\n",
       "                    position: relative;\n",
       "                    width: 100.0%;\n",
       "                    height: 100.0%;\n",
       "                    left: 0.0%;\n",
       "                    top: 0.0%;\n",
       "                }\n",
       "                .leaflet-container { font-size: 1rem; }\n",
       "            &lt;/style&gt;\n",
       "\n",
       "            &lt;style&gt;html, body {\n",
       "                width: 100%;\n",
       "                height: 100%;\n",
       "                margin: 0;\n",
       "                padding: 0;\n",
       "            }\n",
       "            &lt;/style&gt;\n",
       "\n",
       "            &lt;style&gt;#map {\n",
       "                position:absolute;\n",
       "                top:0;\n",
       "                bottom:0;\n",
       "                right:0;\n",
       "                left:0;\n",
       "                }\n",
       "            &lt;/style&gt;\n",
       "\n",
       "            &lt;script&gt;\n",
       "                L_NO_TOUCH = false;\n",
       "                L_DISABLE_3D = false;\n",
       "            &lt;/script&gt;\n",
       "\n",
       "        \n",
       "&lt;/head&gt;\n",
       "&lt;body&gt;\n",
       "    \n",
       "    \n",
       "            &lt;div class=&quot;folium-map&quot; id=&quot;map_6433594337b03fbd25019aeeaa47cdcb&quot; &gt;&lt;/div&gt;\n",
       "        \n",
       "&lt;/body&gt;\n",
       "&lt;script&gt;\n",
       "    \n",
       "    \n",
       "            var map_6433594337b03fbd25019aeeaa47cdcb = L.map(\n",
       "                &quot;map_6433594337b03fbd25019aeeaa47cdcb&quot;,\n",
       "                {\n",
       "                    center: [26.152315495642696, -80.487072697842],\n",
       "                    crs: L.CRS.EPSG3857,\n",
       "                    ...{\n",
       "  &quot;zoom&quot;: 10,\n",
       "  &quot;zoomControl&quot;: true,\n",
       "  &quot;preferCanvas&quot;: false,\n",
       "}\n",
       "\n",
       "                }\n",
       "            );\n",
       "\n",
       "            \n",
       "\n",
       "        \n",
       "    \n",
       "            var tile_layer_dd01b5048f14f17bbce3e9df4882e4ab = L.tileLayer(\n",
       "                &quot;https://{s}.basemaps.cartocdn.com/dark_all/{z}/{x}/{y}{r}.png&quot;,\n",
       "                {\n",
       "  &quot;minZoom&quot;: 0,\n",
       "  &quot;maxZoom&quot;: 20,\n",
       "  &quot;maxNativeZoom&quot;: 20,\n",
       "  &quot;noWrap&quot;: false,\n",
       "  &quot;attribution&quot;: &quot;\\u0026copy; \\u003ca href=\\&quot;https://www.openstreetmap.org/copyright\\&quot;\\u003eOpenStreetMap\\u003c/a\\u003e contributors \\u0026copy; \\u003ca href=\\&quot;https://carto.com/attributions\\&quot;\\u003eCARTO\\u003c/a\\u003e&quot;,\n",
       "  &quot;subdomains&quot;: &quot;abcd&quot;,\n",
       "  &quot;detectRetina&quot;: false,\n",
       "  &quot;tms&quot;: false,\n",
       "  &quot;opacity&quot;: 1,\n",
       "}\n",
       "\n",
       "            );\n",
       "        \n",
       "    \n",
       "            tile_layer_dd01b5048f14f17bbce3e9df4882e4ab.addTo(map_6433594337b03fbd25019aeeaa47cdcb);\n",
       "        \n",
       "    \n",
       "            var tile_layer_523b4e16dd61cdeb41929d8e0ba027f0 = L.tileLayer(\n",
       "                &quot;https://earthengine.googleapis.com/v1/projects/emerge-lessons/maps/4b9f006f80554e876062446ac1a4eb3b-8e4b14406702d5259ef462a3958844f5/tiles/{z}/{x}/{y}&quot;,\n",
       "                {\n",
       "  &quot;minZoom&quot;: 0,\n",
       "  &quot;maxZoom&quot;: 18,\n",
       "  &quot;maxNativeZoom&quot;: 18,\n",
       "  &quot;noWrap&quot;: false,\n",
       "  &quot;attribution&quot;: &quot;Map Data \\u0026copy; \\u003ca href=\\&quot;https://earthengine.google.com/\\&quot;\\u003eGoogle Earth Engine\\u003c/a\\u003e&quot;,\n",
       "  &quot;subdomains&quot;: &quot;abc&quot;,\n",
       "  &quot;detectRetina&quot;: false,\n",
       "  &quot;tms&quot;: false,\n",
       "  &quot;opacity&quot;: 1,\n",
       "}\n",
       "\n",
       "            );\n",
       "        \n",
       "    \n",
       "            tile_layer_523b4e16dd61cdeb41929d8e0ba027f0.addTo(map_6433594337b03fbd25019aeeaa47cdcb);\n",
       "        \n",
       "    \n",
       "            var tile_layer_0f41fa95b2f5c604bb81aac133e06d1b = L.tileLayer(\n",
       "                &quot;https://earthengine.googleapis.com/v1/projects/emerge-lessons/maps/f06346b350ae71d802c541d5dc676aaa-d4ec50042d7f482bf767e931d3acd512/tiles/{z}/{x}/{y}&quot;,\n",
       "                {\n",
       "  &quot;minZoom&quot;: 0,\n",
       "  &quot;maxZoom&quot;: 18,\n",
       "  &quot;maxNativeZoom&quot;: 18,\n",
       "  &quot;noWrap&quot;: false,\n",
       "  &quot;attribution&quot;: &quot;Map Data \\u0026copy; \\u003ca href=\\&quot;https://earthengine.google.com/\\&quot;\\u003eGoogle Earth Engine\\u003c/a\\u003e&quot;,\n",
       "  &quot;subdomains&quot;: &quot;abc&quot;,\n",
       "  &quot;detectRetina&quot;: false,\n",
       "  &quot;tms&quot;: false,\n",
       "  &quot;opacity&quot;: 1,\n",
       "}\n",
       "\n",
       "            );\n",
       "        \n",
       "    \n",
       "            tile_layer_0f41fa95b2f5c604bb81aac133e06d1b.addTo(map_6433594337b03fbd25019aeeaa47cdcb);\n",
       "        \n",
       "    \n",
       "            var layer_control_c65d2b90e514c8ff56add9c9cc68575a_layers = {\n",
       "                base_layers : {\n",
       "                    &quot;cartodbdarkmatter&quot; : tile_layer_dd01b5048f14f17bbce3e9df4882e4ab,\n",
       "                },\n",
       "                overlays :  {\n",
       "                    &quot;1985 Land Use&quot; : tile_layer_523b4e16dd61cdeb41929d8e0ba027f0,\n",
       "                    &quot;2024 Land Use&quot; : tile_layer_0f41fa95b2f5c604bb81aac133e06d1b,\n",
       "                },\n",
       "            };\n",
       "            let layer_control_c65d2b90e514c8ff56add9c9cc68575a = L.control.layers(\n",
       "                layer_control_c65d2b90e514c8ff56add9c9cc68575a_layers.base_layers,\n",
       "                layer_control_c65d2b90e514c8ff56add9c9cc68575a_layers.overlays,\n",
       "                {\n",
       "  &quot;position&quot;: &quot;topright&quot;,\n",
       "  &quot;collapsed&quot;: false,\n",
       "  &quot;autoZIndex&quot;: true,\n",
       "}\n",
       "            ).addTo(map_6433594337b03fbd25019aeeaa47cdcb);\n",
       "\n",
       "        \n",
       "&lt;/script&gt;\n",
       "&lt;/html&gt;\" style=\"position:absolute;width:100%;height:100%;left:0;top:0;border:none !important;\" allowfullscreen webkitallowfullscreen mozallowfullscreen></iframe></div></div>"
      ],
      "text/plain": [
       "<folium.folium.Map at 0x24b33ba91d0>"
      ]
     },
     "metadata": {},
     "output_type": "display_data"
    }
   ],
   "source": [
    "## Land Use\n",
    "\n",
    "# Reset the map\n",
    "map = folium.Map([county_center.y, county_center.x], tiles=\"Cartodb dark_matter\", zoom_start=10)\n",
    "\n",
    "# Define land cover color palette\n",
    "palette = ['fbff97', 'e6558b', '004e2b', '9dbac5', 'a6976a', '1b1716']\n",
    "visual = {'min': 1, 'max': 6, 'palette': palette}\n",
    "\n",
    "landcover_1985 = (\n",
    "    ee.ImageCollection('USFS/GTAC/LCMS/v2024-10')\n",
    "      .filterDate('1985', '1986')\n",
    "      .filter('study_area == \"CONUS\"')\n",
    "      .first()\n",
    "      .clip(region)\n",
    ")\n",
    "\n",
    "map.add_ee_layer(landcover_1985.select('Land_Use'), visual, '1985 Land Use')\n",
    "\n",
    "landcover_2024 = (\n",
    "    ee.ImageCollection('USFS/GTAC/LCMS/v2024-10')\n",
    "      .filterDate('2024', '2025')\n",
    "      .filter('study_area == \"CONUS\"')\n",
    "      .first()\n",
    "      .clip(region)\n",
    ")\n",
    "\n",
    "map.add_ee_layer(landcover_2024.select('Land_Use'), visual, '2024 Land Use')\n",
    "\n",
    "folium.LayerControl(collapsed = False).add_to(map)\n",
    "display(map)"
   ]
  },
  {
   "cell_type": "markdown",
   "metadata": {
    "id": "9mcrf5m0_0tU"
   },
   "source": [
    "$$\\color{#fbff97}Agriculture$$\n",
    "$$\\color{#e6558b}Developed$$\n",
    "$$\\color{#004e2b}Forest$$\n",
    "$$\\color{#9dbac5}Other$$\n",
    "$$\\color{#a6976a}Rangeland or Pasture$$"
   ]
  },
  {
   "cell_type": "markdown",
   "metadata": {
    "id": "by8Dt4raAHdv"
   },
   "source": [
    "We will create a function that calculates the percent of each type of land use and land cover in the county."
   ]
  },
  {
   "cell_type": "code",
   "execution_count": 18,
   "metadata": {
    "colab": {
     "base_uri": "https://localhost:8080/",
     "height": 17
    },
    "id": "kmTCFjNI1a6M",
    "outputId": "ebe9e43b-7965-48d2-8eab-979d1371bbbb"
   },
   "outputs": [
    {
     "data": {
      "text/html": [
       "\n",
       "            <style>\n",
       "                .geemap-dark {\n",
       "                    --jp-widgets-color: white;\n",
       "                    --jp-widgets-label-color: white;\n",
       "                    --jp-ui-font-color1: white;\n",
       "                    --jp-layout-color2: #454545;\n",
       "                    background-color: #383838;\n",
       "                }\n",
       "\n",
       "                .geemap-dark .jupyter-button {\n",
       "                    --jp-layout-color3: #383838;\n",
       "                }\n",
       "\n",
       "                .geemap-colab {\n",
       "                    background-color: var(--colab-primary-surface-color, white);\n",
       "                }\n",
       "\n",
       "                .geemap-colab .jupyter-button {\n",
       "                    --jp-layout-color3: var(--colab-primary-surface-color, white);\n",
       "                }\n",
       "            </style>\n",
       "            "
      ],
      "text/plain": [
       "<IPython.core.display.HTML object>"
      ]
     },
     "metadata": {},
     "output_type": "display_data"
    }
   ],
   "source": [
    "def land_stats(image, name, labels):\n",
    "  count = image.select(name).reduceRegion(ee.Reducer.frequencyHistogram(), geometry=region, scale=30, maxPixels=1e12).getInfo()\n",
    "\n",
    "  land_cover_counts = {}\n",
    "\n",
    "  for key, value in labels.items():\n",
    "      if key in count[name]:\n",
    "          land_cover_counts[value] = count[name][key]\n",
    "\n",
    "  total_pixels = sum([land_cover_counts[i] for i in land_cover_counts])\n",
    "\n",
    "  for label, num in land_cover_counts.items():\n",
    "    percent = round(100 * num / total_pixels, 1)\n",
    "    if percent > 0:\n",
    "      print(f\"{label}: {percent}%\")"
   ]
  },
  {
   "cell_type": "code",
   "execution_count": 19,
   "metadata": {
    "colab": {
     "base_uri": "https://localhost:8080/",
     "height": 121
    },
    "id": "vQoNfgJw5FwH",
    "outputId": "8ccab282-2205-4154-8bd6-38d111f7de87"
   },
   "outputs": [
    {
     "data": {
      "text/html": [
       "\n",
       "            <style>\n",
       "                .geemap-dark {\n",
       "                    --jp-widgets-color: white;\n",
       "                    --jp-widgets-label-color: white;\n",
       "                    --jp-ui-font-color1: white;\n",
       "                    --jp-layout-color2: #454545;\n",
       "                    background-color: #383838;\n",
       "                }\n",
       "\n",
       "                .geemap-dark .jupyter-button {\n",
       "                    --jp-layout-color3: #383838;\n",
       "                }\n",
       "\n",
       "                .geemap-colab {\n",
       "                    background-color: var(--colab-primary-surface-color, white);\n",
       "                }\n",
       "\n",
       "                .geemap-colab .jupyter-button {\n",
       "                    --jp-layout-color3: var(--colab-primary-surface-color, white);\n",
       "                }\n",
       "            </style>\n",
       "            "
      ],
      "text/plain": [
       "<IPython.core.display.HTML object>"
      ]
     },
     "metadata": {},
     "output_type": "display_data"
    },
    {
     "name": "stdout",
     "output_type": "stream",
     "text": [
      "Agriculture: 4.5%\n",
      "Developed: 19.6%\n",
      "Forest: 8.5%\n",
      "Other: 9.6%\n",
      "Rangeland or Pasture: 55.8%\n",
      "Non-Processing Area Mask: 2.0%\n"
     ]
    }
   ],
   "source": [
    "land_use_labels = {'1': 'Agriculture',\n",
    "                   '2': 'Developed',\n",
    "                   '3': 'Forest',\n",
    "                   '4': 'Other',\n",
    "                   '5': 'Rangeland or Pasture',\n",
    "                   '6': 'Non-Processing Area Mask'}\n",
    "\n",
    "land_stats(landcover_1985, 'Land_Use', land_use_labels)"
   ]
  },
  {
   "cell_type": "markdown",
   "metadata": {
    "id": "sFQIUHql0-Tq"
   },
   "source": [
    "Now, we repeat for 2024."
   ]
  },
  {
   "cell_type": "code",
   "execution_count": 20,
   "metadata": {
    "colab": {
     "base_uri": "https://localhost:8080/",
     "height": 104
    },
    "id": "FbgSLOQt5Rh9",
    "outputId": "d89c052a-9b7b-4c38-f8b7-5105c1923544"
   },
   "outputs": [
    {
     "data": {
      "text/html": [
       "\n",
       "            <style>\n",
       "                .geemap-dark {\n",
       "                    --jp-widgets-color: white;\n",
       "                    --jp-widgets-label-color: white;\n",
       "                    --jp-ui-font-color1: white;\n",
       "                    --jp-layout-color2: #454545;\n",
       "                    background-color: #383838;\n",
       "                }\n",
       "\n",
       "                .geemap-dark .jupyter-button {\n",
       "                    --jp-layout-color3: #383838;\n",
       "                }\n",
       "\n",
       "                .geemap-colab {\n",
       "                    background-color: var(--colab-primary-surface-color, white);\n",
       "                }\n",
       "\n",
       "                .geemap-colab .jupyter-button {\n",
       "                    --jp-layout-color3: var(--colab-primary-surface-color, white);\n",
       "                }\n",
       "            </style>\n",
       "            "
      ],
      "text/plain": [
       "<IPython.core.display.HTML object>"
      ]
     },
     "metadata": {},
     "output_type": "display_data"
    },
    {
     "name": "stdout",
     "output_type": "stream",
     "text": [
      "Agriculture: 0.6%\n",
      "Developed: 29.4%\n",
      "Forest: 11.6%\n",
      "Other: 15.2%\n",
      "Rangeland or Pasture: 43.1%\n"
     ]
    }
   ],
   "source": [
    "land_stats(landcover_2024, 'Land_Use', land_use_labels)"
   ]
  },
  {
   "cell_type": "code",
   "execution_count": 21,
   "metadata": {
    "colab": {
     "base_uri": "https://localhost:8080/",
     "height": 968
    },
    "id": "ODnN4yR9vq5h",
    "outputId": "cda35cd8-a09d-4091-d9ce-bdfbfd63dcaf"
   },
   "outputs": [
    {
     "data": {
      "text/html": [
       "\n",
       "            <style>\n",
       "                .geemap-dark {\n",
       "                    --jp-widgets-color: white;\n",
       "                    --jp-widgets-label-color: white;\n",
       "                    --jp-ui-font-color1: white;\n",
       "                    --jp-layout-color2: #454545;\n",
       "                    background-color: #383838;\n",
       "                }\n",
       "\n",
       "                .geemap-dark .jupyter-button {\n",
       "                    --jp-layout-color3: #383838;\n",
       "                }\n",
       "\n",
       "                .geemap-colab {\n",
       "                    background-color: var(--colab-primary-surface-color, white);\n",
       "                }\n",
       "\n",
       "                .geemap-colab .jupyter-button {\n",
       "                    --jp-layout-color3: var(--colab-primary-surface-color, white);\n",
       "                }\n",
       "            </style>\n",
       "            "
      ],
      "text/plain": [
       "<IPython.core.display.HTML object>"
      ]
     },
     "metadata": {},
     "output_type": "display_data"
    },
    {
     "data": {
      "text/html": [
       "<div style=\"width:100%;\"><div style=\"position:relative;width:100%;height:0;padding-bottom:60%;\"><span style=\"color:#565656\">Make this Notebook Trusted to load map: File -> Trust Notebook</span><iframe srcdoc=\"&lt;!DOCTYPE html&gt;\n",
       "&lt;html&gt;\n",
       "&lt;head&gt;\n",
       "    \n",
       "    &lt;meta http-equiv=&quot;content-type&quot; content=&quot;text/html; charset=UTF-8&quot; /&gt;\n",
       "    &lt;script src=&quot;https://cdn.jsdelivr.net/npm/leaflet@1.9.3/dist/leaflet.js&quot;&gt;&lt;/script&gt;\n",
       "    &lt;script src=&quot;https://code.jquery.com/jquery-3.7.1.min.js&quot;&gt;&lt;/script&gt;\n",
       "    &lt;script src=&quot;https://cdn.jsdelivr.net/npm/bootstrap@5.2.2/dist/js/bootstrap.bundle.min.js&quot;&gt;&lt;/script&gt;\n",
       "    &lt;script src=&quot;https://cdnjs.cloudflare.com/ajax/libs/Leaflet.awesome-markers/2.0.2/leaflet.awesome-markers.js&quot;&gt;&lt;/script&gt;\n",
       "    &lt;link rel=&quot;stylesheet&quot; href=&quot;https://cdn.jsdelivr.net/npm/leaflet@1.9.3/dist/leaflet.css&quot;/&gt;\n",
       "    &lt;link rel=&quot;stylesheet&quot; href=&quot;https://cdn.jsdelivr.net/npm/bootstrap@5.2.2/dist/css/bootstrap.min.css&quot;/&gt;\n",
       "    &lt;link rel=&quot;stylesheet&quot; href=&quot;https://netdna.bootstrapcdn.com/bootstrap/3.0.0/css/bootstrap-glyphicons.css&quot;/&gt;\n",
       "    &lt;link rel=&quot;stylesheet&quot; href=&quot;https://cdn.jsdelivr.net/npm/@fortawesome/fontawesome-free@6.2.0/css/all.min.css&quot;/&gt;\n",
       "    &lt;link rel=&quot;stylesheet&quot; href=&quot;https://cdnjs.cloudflare.com/ajax/libs/Leaflet.awesome-markers/2.0.2/leaflet.awesome-markers.css&quot;/&gt;\n",
       "    &lt;link rel=&quot;stylesheet&quot; href=&quot;https://cdn.jsdelivr.net/gh/python-visualization/folium/folium/templates/leaflet.awesome.rotate.min.css&quot;/&gt;\n",
       "    \n",
       "            &lt;meta name=&quot;viewport&quot; content=&quot;width=device-width,\n",
       "                initial-scale=1.0, maximum-scale=1.0, user-scalable=no&quot; /&gt;\n",
       "            &lt;style&gt;\n",
       "                #map_cd26321ee32177c285097d5b255dc766 {\n",
       "                    position: relative;\n",
       "                    width: 100.0%;\n",
       "                    height: 100.0%;\n",
       "                    left: 0.0%;\n",
       "                    top: 0.0%;\n",
       "                }\n",
       "                .leaflet-container { font-size: 1rem; }\n",
       "            &lt;/style&gt;\n",
       "\n",
       "            &lt;style&gt;html, body {\n",
       "                width: 100%;\n",
       "                height: 100%;\n",
       "                margin: 0;\n",
       "                padding: 0;\n",
       "            }\n",
       "            &lt;/style&gt;\n",
       "\n",
       "            &lt;style&gt;#map {\n",
       "                position:absolute;\n",
       "                top:0;\n",
       "                bottom:0;\n",
       "                right:0;\n",
       "                left:0;\n",
       "                }\n",
       "            &lt;/style&gt;\n",
       "\n",
       "            &lt;script&gt;\n",
       "                L_NO_TOUCH = false;\n",
       "                L_DISABLE_3D = false;\n",
       "            &lt;/script&gt;\n",
       "\n",
       "        \n",
       "&lt;/head&gt;\n",
       "&lt;body&gt;\n",
       "    \n",
       "    \n",
       "            &lt;div class=&quot;folium-map&quot; id=&quot;map_cd26321ee32177c285097d5b255dc766&quot; &gt;&lt;/div&gt;\n",
       "        \n",
       "&lt;/body&gt;\n",
       "&lt;script&gt;\n",
       "    \n",
       "    \n",
       "            var map_cd26321ee32177c285097d5b255dc766 = L.map(\n",
       "                &quot;map_cd26321ee32177c285097d5b255dc766&quot;,\n",
       "                {\n",
       "                    center: [26.152315495642696, -80.487072697842],\n",
       "                    crs: L.CRS.EPSG3857,\n",
       "                    ...{\n",
       "  &quot;zoom&quot;: 10,\n",
       "  &quot;zoomControl&quot;: true,\n",
       "  &quot;preferCanvas&quot;: false,\n",
       "}\n",
       "\n",
       "                }\n",
       "            );\n",
       "\n",
       "            \n",
       "\n",
       "        \n",
       "    \n",
       "            var tile_layer_e49ea9d0636a2f6353c6ef3a830084e7 = L.tileLayer(\n",
       "                &quot;https://{s}.basemaps.cartocdn.com/dark_all/{z}/{x}/{y}{r}.png&quot;,\n",
       "                {\n",
       "  &quot;minZoom&quot;: 0,\n",
       "  &quot;maxZoom&quot;: 20,\n",
       "  &quot;maxNativeZoom&quot;: 20,\n",
       "  &quot;noWrap&quot;: false,\n",
       "  &quot;attribution&quot;: &quot;\\u0026copy; \\u003ca href=\\&quot;https://www.openstreetmap.org/copyright\\&quot;\\u003eOpenStreetMap\\u003c/a\\u003e contributors \\u0026copy; \\u003ca href=\\&quot;https://carto.com/attributions\\&quot;\\u003eCARTO\\u003c/a\\u003e&quot;,\n",
       "  &quot;subdomains&quot;: &quot;abcd&quot;,\n",
       "  &quot;detectRetina&quot;: false,\n",
       "  &quot;tms&quot;: false,\n",
       "  &quot;opacity&quot;: 1,\n",
       "}\n",
       "\n",
       "            );\n",
       "        \n",
       "    \n",
       "            tile_layer_e49ea9d0636a2f6353c6ef3a830084e7.addTo(map_cd26321ee32177c285097d5b255dc766);\n",
       "        \n",
       "    \n",
       "            var tile_layer_a98d034b784bd7d9e803d9b3084bbbee = L.tileLayer(\n",
       "                &quot;https://earthengine.googleapis.com/v1/projects/emerge-lessons/maps/c418f0a25d093127d4c8e995076b13ad-fffd078518ab8c2ffdc1db52a33577cb/tiles/{z}/{x}/{y}&quot;,\n",
       "                {\n",
       "  &quot;minZoom&quot;: 0,\n",
       "  &quot;maxZoom&quot;: 18,\n",
       "  &quot;maxNativeZoom&quot;: 18,\n",
       "  &quot;noWrap&quot;: false,\n",
       "  &quot;attribution&quot;: &quot;Map Data \\u0026copy; \\u003ca href=\\&quot;https://earthengine.google.com/\\&quot;\\u003eGoogle Earth Engine\\u003c/a\\u003e&quot;,\n",
       "  &quot;subdomains&quot;: &quot;abc&quot;,\n",
       "  &quot;detectRetina&quot;: false,\n",
       "  &quot;tms&quot;: false,\n",
       "  &quot;opacity&quot;: 1,\n",
       "}\n",
       "\n",
       "            );\n",
       "        \n",
       "    \n",
       "            tile_layer_a98d034b784bd7d9e803d9b3084bbbee.addTo(map_cd26321ee32177c285097d5b255dc766);\n",
       "        \n",
       "    \n",
       "            var tile_layer_4f64f1cab11505f75b9f53c2a4709337 = L.tileLayer(\n",
       "                &quot;https://earthengine.googleapis.com/v1/projects/emerge-lessons/maps/38c888b0c040346bb3e8c1ff91c98c0d-871f4f99a43cd0b09fb95528fc61b4e6/tiles/{z}/{x}/{y}&quot;,\n",
       "                {\n",
       "  &quot;minZoom&quot;: 0,\n",
       "  &quot;maxZoom&quot;: 18,\n",
       "  &quot;maxNativeZoom&quot;: 18,\n",
       "  &quot;noWrap&quot;: false,\n",
       "  &quot;attribution&quot;: &quot;Map Data \\u0026copy; \\u003ca href=\\&quot;https://earthengine.google.com/\\&quot;\\u003eGoogle Earth Engine\\u003c/a\\u003e&quot;,\n",
       "  &quot;subdomains&quot;: &quot;abc&quot;,\n",
       "  &quot;detectRetina&quot;: false,\n",
       "  &quot;tms&quot;: false,\n",
       "  &quot;opacity&quot;: 1,\n",
       "}\n",
       "\n",
       "            );\n",
       "        \n",
       "    \n",
       "            tile_layer_4f64f1cab11505f75b9f53c2a4709337.addTo(map_cd26321ee32177c285097d5b255dc766);\n",
       "        \n",
       "    \n",
       "            var layer_control_b0ab093a449d31d543cb9e228a54b72d_layers = {\n",
       "                base_layers : {\n",
       "                    &quot;cartodbdarkmatter&quot; : tile_layer_e49ea9d0636a2f6353c6ef3a830084e7,\n",
       "                },\n",
       "                overlays :  {\n",
       "                    &quot;1985 Land Cover&quot; : tile_layer_a98d034b784bd7d9e803d9b3084bbbee,\n",
       "                    &quot;2024 Land Cover&quot; : tile_layer_4f64f1cab11505f75b9f53c2a4709337,\n",
       "                },\n",
       "            };\n",
       "            let layer_control_b0ab093a449d31d543cb9e228a54b72d = L.control.layers(\n",
       "                layer_control_b0ab093a449d31d543cb9e228a54b72d_layers.base_layers,\n",
       "                layer_control_b0ab093a449d31d543cb9e228a54b72d_layers.overlays,\n",
       "                {\n",
       "  &quot;position&quot;: &quot;topright&quot;,\n",
       "  &quot;collapsed&quot;: false,\n",
       "  &quot;autoZIndex&quot;: true,\n",
       "}\n",
       "            ).addTo(map_cd26321ee32177c285097d5b255dc766);\n",
       "\n",
       "        \n",
       "&lt;/script&gt;\n",
       "&lt;/html&gt;\" style=\"position:absolute;width:100%;height:100%;left:0;top:0;border:none !important;\" allowfullscreen webkitallowfullscreen mozallowfullscreen></iframe></div></div>"
      ],
      "text/plain": [
       "<folium.folium.Map at 0x24b33122f90>"
      ]
     },
     "metadata": {},
     "output_type": "display_data"
    }
   ],
   "source": [
    "## Land Cover\n",
    "\n",
    "# Reset the map\n",
    "map = folium.Map([county_center.y, county_center.x], tiles=\"Cartodb dark_matter\", zoom_start=10)\n",
    "\n",
    "palette = ['004e2b', '009344', '61bb46', 'acbb67', '8b8560', 'cafd4b', 'f89a1c', '8fa55f', 'bebb8e', 'e5e98a', 'ddb925', '893f54', 'e4f5fd', '00b6f0', '1b1716']\n",
    "visual = {'min': 1, 'max': 15, 'palette': palette}\n",
    "\n",
    "# Add land cover for 1985 and 2024\n",
    "map.add_ee_layer(landcover_1985.select('Land_Cover'), visual, '1985 Land Cover')\n",
    "map.add_ee_layer(landcover_2024.select('Land_Cover'), visual, '2024 Land Cover')\n",
    "\n",
    "folium.LayerControl(collapsed = False).add_to(map)\n",
    "display(map)"
   ]
  },
  {
   "cell_type": "markdown",
   "metadata": {
    "id": "V2xUTovc_4xm"
   },
   "source": [
    "$$\\color{#004e2b}Trees$$\n",
    "$$\\color{#61bb46}Shrubs \\space and \\space Trees Mix$$\n",
    "$$\\color{#acbb67}Grass/Forb/Herb \\space and \\space Trees Mix$$\n",
    "$$\\color{#8b8560}Barren \\space and \\space Trees Mix$$\n",
    "$$\\color{#f89a1c}Shrubs$$\n",
    "$$\\color{#8fa55f}Grass/Forb/Herb \\space and \\space Shrubs Mix$$\n",
    "$$\\color{#bebb8e}Barren \\space and \\space Shrubs Mix$$\n",
    "$$\\color{#e5e98a}Grass/Forb/Herb$$\n",
    "$$\\color{#ddb925}Barren \\space and \\space Grass/Forb/Herb Mix$$\n",
    "$$\\color{#893f54}Barren or Impervious$$\n",
    "$$\\color{#e4f5fd}Snow or Ice$$"
   ]
  },
  {
   "cell_type": "markdown",
   "metadata": {
    "id": "xDG7l90gHCvo"
   },
   "source": [
    "Find the percent of each type of land cover."
   ]
  },
  {
   "cell_type": "code",
   "execution_count": 22,
   "metadata": {
    "colab": {
     "base_uri": "https://localhost:8080/",
     "height": 17
    },
    "id": "DLnjBGdu2pRX",
    "outputId": "f6e05d3c-a21f-45bb-d1a6-6113d623be63"
   },
   "outputs": [
    {
     "data": {
      "text/html": [
       "\n",
       "            <style>\n",
       "                .geemap-dark {\n",
       "                    --jp-widgets-color: white;\n",
       "                    --jp-widgets-label-color: white;\n",
       "                    --jp-ui-font-color1: white;\n",
       "                    --jp-layout-color2: #454545;\n",
       "                    background-color: #383838;\n",
       "                }\n",
       "\n",
       "                .geemap-dark .jupyter-button {\n",
       "                    --jp-layout-color3: #383838;\n",
       "                }\n",
       "\n",
       "                .geemap-colab {\n",
       "                    background-color: var(--colab-primary-surface-color, white);\n",
       "                }\n",
       "\n",
       "                .geemap-colab .jupyter-button {\n",
       "                    --jp-layout-color3: var(--colab-primary-surface-color, white);\n",
       "                }\n",
       "            </style>\n",
       "            "
      ],
      "text/plain": [
       "<IPython.core.display.HTML object>"
      ]
     },
     "metadata": {},
     "output_type": "display_data"
    }
   ],
   "source": [
    "land_cover_labels = {\n",
    "    '1': 'Trees',\n",
    "    '2': 'Tall Shrubs & Trees Mix (AK Only)',\n",
    "    '3': 'Shrubs & Trees Mix',\n",
    "    '4': 'Grass/Forb/Herb & Trees Mix',\n",
    "    '5': 'Barren & Trees Mix',\n",
    "    '6': 'Tall Shrubs (AK Only)',\n",
    "    '7': 'Shrubs',\n",
    "    '8': 'Grass/Forb/Herb & Shrubs Mix',\n",
    "    '9': 'Barren & Shrubs Mix',\n",
    "    '10': 'Grass/Forb/Herb',\n",
    "    '11': 'Barren & Grass/Forb/Herb Mix',\n",
    "    '12': 'Barren or Impervious',\n",
    "    '13': 'Snow or Ice',\n",
    "    '14': 'Water',\n",
    "    '15': 'Non-Processing Area Mask'\n",
    "}"
   ]
  },
  {
   "cell_type": "code",
   "execution_count": 23,
   "metadata": {
    "colab": {
     "base_uri": "https://localhost:8080/",
     "height": 138
    },
    "id": "9rRaRMBJ5g0C",
    "outputId": "5a15241a-d39a-4e9e-e5c5-85d30da50dbc"
   },
   "outputs": [
    {
     "data": {
      "text/html": [
       "\n",
       "            <style>\n",
       "                .geemap-dark {\n",
       "                    --jp-widgets-color: white;\n",
       "                    --jp-widgets-label-color: white;\n",
       "                    --jp-ui-font-color1: white;\n",
       "                    --jp-layout-color2: #454545;\n",
       "                    background-color: #383838;\n",
       "                }\n",
       "\n",
       "                .geemap-dark .jupyter-button {\n",
       "                    --jp-layout-color3: #383838;\n",
       "                }\n",
       "\n",
       "                .geemap-colab {\n",
       "                    background-color: var(--colab-primary-surface-color, white);\n",
       "                }\n",
       "\n",
       "                .geemap-colab .jupyter-button {\n",
       "                    --jp-layout-color3: var(--colab-primary-surface-color, white);\n",
       "                }\n",
       "            </style>\n",
       "            "
      ],
      "text/plain": [
       "<IPython.core.display.HTML object>"
      ]
     },
     "metadata": {},
     "output_type": "display_data"
    },
    {
     "name": "stdout",
     "output_type": "stream",
     "text": [
      "Trees: 10.5%\n",
      "Grass/Forb/Herb & Trees Mix: 1.2%\n",
      "Grass/Forb/Herb & Shrubs Mix: 0.1%\n",
      "Grass/Forb/Herb: 61.6%\n",
      "Barren or Impervious: 16.6%\n",
      "Water: 8.1%\n",
      "Non-Processing Area Mask: 2.0%\n"
     ]
    }
   ],
   "source": [
    "land_stats(landcover_1985, 'Land_Cover', land_cover_labels)"
   ]
  },
  {
   "cell_type": "code",
   "execution_count": 24,
   "metadata": {
    "colab": {
     "base_uri": "https://localhost:8080/",
     "height": 121
    },
    "id": "cF1uoqiN1WQN",
    "outputId": "8aefb486-b844-4417-a8bb-6e9d269844e1"
   },
   "outputs": [
    {
     "data": {
      "text/html": [
       "\n",
       "            <style>\n",
       "                .geemap-dark {\n",
       "                    --jp-widgets-color: white;\n",
       "                    --jp-widgets-label-color: white;\n",
       "                    --jp-ui-font-color1: white;\n",
       "                    --jp-layout-color2: #454545;\n",
       "                    background-color: #383838;\n",
       "                }\n",
       "\n",
       "                .geemap-dark .jupyter-button {\n",
       "                    --jp-layout-color3: #383838;\n",
       "                }\n",
       "\n",
       "                .geemap-colab {\n",
       "                    background-color: var(--colab-primary-surface-color, white);\n",
       "                }\n",
       "\n",
       "                .geemap-colab .jupyter-button {\n",
       "                    --jp-layout-color3: var(--colab-primary-surface-color, white);\n",
       "                }\n",
       "            </style>\n",
       "            "
      ],
      "text/plain": [
       "<IPython.core.display.HTML object>"
      ]
     },
     "metadata": {},
     "output_type": "display_data"
    },
    {
     "name": "stdout",
     "output_type": "stream",
     "text": [
      "Trees: 15.7%\n",
      "Grass/Forb/Herb & Trees Mix: 1.2%\n",
      "Grass/Forb/Herb & Shrubs Mix: 0.1%\n",
      "Grass/Forb/Herb: 48.8%\n",
      "Barren or Impervious: 19.9%\n",
      "Water: 14.2%\n"
     ]
    }
   ],
   "source": [
    "land_stats(landcover_2024, 'Land_Cover', land_cover_labels)"
   ]
  },
  {
   "cell_type": "markdown",
   "metadata": {
    "id": "jHZq4TR26mvF"
   },
   "source": [
    "Data:\n",
    "- [MOD11A1.061 Terra Land Surface Temperature and Emissivity Daily Global 1km](https://developers.google.com/earth-engine/datasets/catalog/MODIS_061_MOD11A1)\n",
    "- [USFS Landscape Change Monitoring System v2024.10 (CONUS and OCONUS)](https://developers.google.com/earth-engine/datasets/catalog/USFS_GTAC_LCMS_v2024-10#bands)"
   ]
  }
 ],
 "metadata": {
  "colab": {
   "provenance": []
  },
  "kernelspec": {
   "display_name": "gee",
   "language": "python",
   "name": "python3"
  },
  "language_info": {
   "codemirror_mode": {
    "name": "ipython",
    "version": 3
   },
   "file_extension": ".py",
   "mimetype": "text/x-python",
   "name": "python",
   "nbconvert_exporter": "python",
   "pygments_lexer": "ipython3",
   "version": "3.11.13"
  }
 },
 "nbformat": 4,
 "nbformat_minor": 0
}